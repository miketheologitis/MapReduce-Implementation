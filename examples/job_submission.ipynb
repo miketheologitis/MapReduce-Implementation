{
 "cells": [
  {
   "cell_type": "code",
   "execution_count": 14,
   "id": "91fd8315-0509-4b0d-90c8-e6aa320fa66b",
   "metadata": {},
   "outputs": [],
   "source": [
    "import sys\n",
    "sys.path.append('/home/miketheologitis/MapReduce-Implementation')\n",
    "\n",
    "from src.cluster.local_cluster import LocalCluster"
   ]
  },
  {
   "cell_type": "code",
   "execution_count": 15,
   "id": "89e7f4fd-4be9-4c04-ba86-feafd331ec79",
   "metadata": {},
   "outputs": [],
   "source": [
    "local_cluster = LocalCluster()"
   ]
  },
  {
   "cell_type": "code",
   "execution_count": 16,
   "id": "f22c04b0-2365-4ec2-a973-3834ebedbb12",
   "metadata": {},
   "outputs": [],
   "source": [
    "data = [\"mike1\", \"george\", \"1g2eommrg3\", \"1g2eommrg3\", \"1g2eommrg3\", \"1g2eommrg3\", \"1g2eommrg3\",\n",
    "        \"1g2eommrg3\", \"1g2eomdasdsadsadisadjiojdsjsadissiadjadsdisjaidjsamrg3\"]\n",
    "\n",
    "def map_func(data):\n",
    "    result = []\n",
    "    for string in data:\n",
    "        for char in string:\n",
    "            result.append((char, 1))\n",
    "    return result\n",
    "\n",
    "def reduce_func(data):\n",
    "    return sum(data)"
   ]
  },
  {
   "cell_type": "code",
   "execution_count": 17,
   "id": "aa4687c8-4013-42e1-9104-b24876370a3d",
   "metadata": {
    "scrolled": true
   },
   "outputs": [],
   "source": [
    "res1 = local_cluster.mapreduce(data, map_func, reduce_func)"
   ]
  },
  {
   "cell_type": "code",
   "execution_count": 18,
   "id": "91d53818-562b-413d-9ea1-64fe03b1efc7",
   "metadata": {},
   "outputs": [
    {
     "data": {
      "text/plain": [
       "[('1', 8),\n",
       " ('2', 7),\n",
       " ('3', 7),\n",
       " ('a', 9),\n",
       " ('o', 9),\n",
       " ('r', 8),\n",
       " ('s', 11),\n",
       " ('d', 11),\n",
       " ('e', 10),\n",
       " ('g', 16),\n",
       " ('i', 7),\n",
       " ('j', 6),\n",
       " ('k', 1),\n",
       " ('m', 15)]"
      ]
     },
     "execution_count": 18,
     "metadata": {},
     "output_type": "execute_result"
    }
   ],
   "source": [
    "res1"
   ]
  },
  {
   "cell_type": "code",
   "execution_count": null,
   "id": "444af396-6c10-4b11-8252-31f16912d6e6",
   "metadata": {},
   "outputs": [],
   "source": []
  },
  {
   "cell_type": "code",
   "execution_count": null,
   "id": "0301229b-40d3-4961-99ec-bf0d3a791197",
   "metadata": {},
   "outputs": [],
   "source": []
  },
  {
   "cell_type": "code",
   "execution_count": 23,
   "id": "c826be4e-bc27-470e-a54c-4bbb2234c33c",
   "metadata": {},
   "outputs": [],
   "source": [
    "future1 = local_cluster.non_blocking_mapreduce(data, map_func, reduce_func, requested_n_workers=2)"
   ]
  },
  {
   "cell_type": "code",
   "execution_count": 24,
   "id": "71823f0e-f5db-4ba4-8ad4-05124b5f83e6",
   "metadata": {},
   "outputs": [],
   "source": [
    "future2 = local_cluster.non_blocking_mapreduce(data, map_func, reduce_func, requested_n_workers=2)"
   ]
  },
  {
   "cell_type": "code",
   "execution_count": 27,
   "id": "778c20ff-f3bb-46cd-945f-a5fa691be8eb",
   "metadata": {},
   "outputs": [
    {
     "data": {
      "text/plain": [
       "[('1', 8),\n",
       " ('2', 7),\n",
       " ('3', 7),\n",
       " ('a', 9),\n",
       " ('d', 11),\n",
       " ('e', 10),\n",
       " ('g', 16),\n",
       " ('i', 7),\n",
       " ('j', 6),\n",
       " ('k', 1),\n",
       " ('m', 15),\n",
       " ('o', 9),\n",
       " ('r', 8),\n",
       " ('s', 11)]"
      ]
     },
     "execution_count": 27,
     "metadata": {},
     "output_type": "execute_result"
    }
   ],
   "source": [
    "future1.result()"
   ]
  },
  {
   "cell_type": "code",
   "execution_count": 28,
   "id": "d25a9544-97f5-4acc-9ef0-c90609af50bf",
   "metadata": {},
   "outputs": [
    {
     "data": {
      "text/plain": [
       "[('1', 8),\n",
       " ('2', 7),\n",
       " ('3', 7),\n",
       " ('a', 9),\n",
       " ('d', 11),\n",
       " ('e', 10),\n",
       " ('g', 16),\n",
       " ('i', 7),\n",
       " ('j', 6),\n",
       " ('k', 1),\n",
       " ('m', 15),\n",
       " ('o', 9),\n",
       " ('r', 8),\n",
       " ('s', 11)]"
      ]
     },
     "execution_count": 28,
     "metadata": {},
     "output_type": "execute_result"
    }
   ],
   "source": [
    "future2.result()"
   ]
  },
  {
   "cell_type": "code",
   "execution_count": null,
   "id": "f0be85f7-10b0-4380-8610-bc1770232364",
   "metadata": {},
   "outputs": [],
   "source": []
  }
 ],
 "metadata": {
  "kernelspec": {
   "display_name": "Python [conda env:mapreduce] *",
   "language": "python",
   "name": "conda-env-mapreduce-py"
  },
  "language_info": {
   "codemirror_mode": {
    "name": "ipython",
    "version": 3
   },
   "file_extension": ".py",
   "mimetype": "text/x-python",
   "name": "python",
   "nbconvert_exporter": "python",
   "pygments_lexer": "ipython3",
   "version": "3.11.3"
  }
 },
 "nbformat": 4,
 "nbformat_minor": 5
}
