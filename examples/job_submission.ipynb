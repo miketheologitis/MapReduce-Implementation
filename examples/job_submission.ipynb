{
 "cells": [
  {
   "cell_type": "code",
   "execution_count": 6,
   "id": "91fd8315-0509-4b0d-90c8-e6aa320fa66b",
   "metadata": {},
   "outputs": [],
   "source": [
    "import sys\n",
    "sys.path.append('/home/miketheologitis/MapReduce-Implementation')\n",
    "\n",
    "from src.cluster.local_cluster import LocalCluster"
   ]
  },
  {
   "cell_type": "code",
   "execution_count": 7,
   "id": "89e7f4fd-4be9-4c04-ba86-feafd331ec79",
   "metadata": {},
   "outputs": [],
   "source": [
    "local_cluster = LocalCluster()"
   ]
  },
  {
   "cell_type": "code",
   "execution_count": 9,
   "id": "f22c04b0-2365-4ec2-a973-3834ebedbb12",
   "metadata": {},
   "outputs": [],
   "source": [
    "data = [(\"mike1\",), (\"george\",), (\"1g2eommrg3\",), (\"1g2eommrg3\",), (\"1g2eommrg3\",), (\"1g2eommrg3\",), (\"1g2eommrg3\",), (\"1g2eommrg3\",), (\"1g2eomdasdsadsadisadjiojdsjsadissiadjadsdisjaidjsamrg3\",)]\n",
    "map_func = lambda x: map(lambda letter: (letter, 1), x)  # [('m', 1), ('i', 1), ...]\n",
    "reduce_func = lambda x, y: x + y"
   ]
  },
  {
   "cell_type": "code",
   "execution_count": 12,
   "id": "aa4687c8-4013-42e1-9104-b24876370a3d",
   "metadata": {
    "scrolled": true
   },
   "outputs": [],
   "source": [
    "res1 = local_cluster.mapreduce(data, map_func, reduce_func)"
   ]
  },
  {
   "cell_type": "code",
   "execution_count": 13,
   "id": "91d53818-562b-413d-9ea1-64fe03b1efc7",
   "metadata": {},
   "outputs": [
    {
     "data": {
      "text/plain": [
       "[('1', 8),\n",
       " ('2', 7),\n",
       " ('m', 15),\n",
       " ('o', 9),\n",
       " ('r', 8),\n",
       " ('s', 11),\n",
       " ('3', 7),\n",
       " ('a', 9),\n",
       " ('d', 11),\n",
       " ('e', 10),\n",
       " ('g', 16),\n",
       " ('i', 7),\n",
       " ('j', 6),\n",
       " ('k', 1)]"
      ]
     },
     "execution_count": 13,
     "metadata": {},
     "output_type": "execute_result"
    }
   ],
   "source": [
    "res1"
   ]
  },
  {
   "cell_type": "code",
   "execution_count": 19,
   "id": "a67d4922-e322-4795-a0f0-316664e999be",
   "metadata": {},
   "outputs": [
    {
     "name": "stdout",
     "output_type": "stream",
     "text": [
      "('d', 1)\n",
      "('a', 1)\n",
      "('s', 1)\n",
      "('d', 1)\n",
      "('a', 1)\n",
      "('s', 1)\n"
     ]
    }
   ],
   "source": [
    "for i in map_func('dasdas'): print(i)"
   ]
  },
  {
   "cell_type": "code",
   "execution_count": null,
   "id": "444af396-6c10-4b11-8252-31f16912d6e6",
   "metadata": {},
   "outputs": [],
   "source": []
  }
 ],
 "metadata": {
  "kernelspec": {
   "display_name": "Python [conda env:mapreduce] *",
   "language": "python",
   "name": "conda-env-mapreduce-py"
  },
  "language_info": {
   "codemirror_mode": {
    "name": "ipython",
    "version": 3
   },
   "file_extension": ".py",
   "mimetype": "text/x-python",
   "name": "python",
   "nbconvert_exporter": "python",
   "pygments_lexer": "ipython3",
   "version": "3.11.3"
  }
 },
 "nbformat": 4,
 "nbformat_minor": 5
}
