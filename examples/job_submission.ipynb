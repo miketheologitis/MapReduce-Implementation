{
 "cells": [
  {
   "cell_type": "code",
   "execution_count": 6,
   "id": "91fd8315-0509-4b0d-90c8-e6aa320fa66b",
   "metadata": {},
   "outputs": [],
   "source": [
    "import sys\n",
    "sys.path.append('/home/miketheologitis/MapReduce-Implementation')\n",
    "\n",
    "from src.cluster.local_cluster import LocalCluster"
   ]
  },
  {
   "cell_type": "code",
   "execution_count": 7,
   "id": "89e7f4fd-4be9-4c04-ba86-feafd331ec79",
   "metadata": {},
   "outputs": [],
   "source": [
    "local_cluster = LocalCluster()"
   ]
  },
  {
   "cell_type": "code",
   "execution_count": 2,
   "id": "f22c04b0-2365-4ec2-a973-3834ebedbb12",
   "metadata": {},
   "outputs": [],
   "source": [
    "data = [(\"mike1\",), (\"george\",), (\"1g2eommrg3\",), (\"1g2eommrg3\",), (\"1g2eommrg3\",), (\"1g2eommrg3\",), (\"1g2eommrg3\",), (\"1g2eommrg3\",), (\"1g2eomdasdsadsadisadjiojdsjsadissiadjadsdisjaidjsamrg3\",)]\n",
    "map_func = lambda x: map(lambda letter: (letter, 1), x)  # [('m', 1), ('i', 1), ...]\n",
    "reduce_func = lambda x, y: x + y"
   ]
  },
  {
   "cell_type": "code",
   "execution_count": 12,
   "id": "aa4687c8-4013-42e1-9104-b24876370a3d",
   "metadata": {
    "scrolled": true
   },
   "outputs": [],
   "source": [
    "res1 = local_cluster.mapreduce(data, map_func, reduce_func)"
   ]
  },
  {
   "cell_type": "code",
   "execution_count": 13,
   "id": "91d53818-562b-413d-9ea1-64fe03b1efc7",
   "metadata": {},
   "outputs": [
    {
     "data": {
      "text/plain": [
       "[('1', 8),\n",
       " ('2', 7),\n",
       " ('m', 15),\n",
       " ('o', 9),\n",
       " ('r', 8),\n",
       " ('s', 11),\n",
       " ('3', 7),\n",
       " ('a', 9),\n",
       " ('d', 11),\n",
       " ('e', 10),\n",
       " ('g', 16),\n",
       " ('i', 7),\n",
       " ('j', 6),\n",
       " ('k', 1)]"
      ]
     },
     "execution_count": 13,
     "metadata": {},
     "output_type": "execute_result"
    }
   ],
   "source": [
    "res1"
   ]
  },
  {
   "cell_type": "code",
   "execution_count": null,
   "id": "444af396-6c10-4b11-8252-31f16912d6e6",
   "metadata": {},
   "outputs": [],
   "source": []
  },
  {
   "cell_type": "code",
   "execution_count": null,
   "id": "0301229b-40d3-4961-99ec-bf0d3a791197",
   "metadata": {},
   "outputs": [],
   "source": []
  },
  {
   "cell_type": "code",
   "execution_count": 4,
   "id": "8f6e9cf7-91c2-4956-947b-b034464edc6a",
   "metadata": {},
   "outputs": [
    {
     "data": {
      "text/plain": [
       "[('a', 1), ('d', 1), ('a', 1), ('s', 1), ('d', 1)]"
      ]
     },
     "execution_count": 4,
     "metadata": {},
     "output_type": "execute_result"
    }
   ],
   "source": [
    "list(map_func('adasd'))"
   ]
  },
  {
   "cell_type": "code",
   "execution_count": null,
   "id": "b90d88e5-8030-4dec-8634-eb44ebd441ac",
   "metadata": {},
   "outputs": [],
   "source": []
  },
  {
   "cell_type": "code",
   "execution_count": null,
   "id": "c826be4e-bc27-470e-a54c-4bbb2234c33c",
   "metadata": {},
   "outputs": [],
   "source": []
  },
  {
   "cell_type": "code",
   "execution_count": null,
   "id": "778c20ff-f3bb-46cd-945f-a5fa691be8eb",
   "metadata": {},
   "outputs": [],
   "source": []
  },
  {
   "cell_type": "code",
   "execution_count": null,
   "id": "d25a9544-97f5-4acc-9ef0-c90609af50bf",
   "metadata": {},
   "outputs": [],
   "source": []
  },
  {
   "cell_type": "code",
   "execution_count": 9,
   "id": "7adeaf7a-f962-46ee-a480-7b34918c5a96",
   "metadata": {},
   "outputs": [],
   "source": [
    "tmp_func = lambda x: map(lambda letter: (letter, 1), x)"
   ]
  },
  {
   "cell_type": "code",
   "execution_count": 13,
   "id": "515ff17c-3855-4473-892d-9a2c49d0921b",
   "metadata": {},
   "outputs": [
    {
     "data": {
      "text/plain": [
       "[('d', 1), ('a', 1), ('s', 1), ('d', 1), ('a', 1), ('s', 1)]"
      ]
     },
     "execution_count": 13,
     "metadata": {},
     "output_type": "execute_result"
    }
   ],
   "source": [
    "list(tmp_func('dasdas'))"
   ]
  },
  {
   "cell_type": "code",
   "execution_count": 17,
   "id": "b288b722-68aa-4858-8a9b-14a3b0c3d007",
   "metadata": {},
   "outputs": [],
   "source": [
    "def map_func(data):\n",
    "    tmp_func = lambda x: map(lambda letter: (letter, 1), x)\n",
    "    result = []\n",
    "    for x in data:\n",
    "        result.extend(list(tmp_func(x)))\n",
    "    return result"
   ]
  },
  {
   "cell_type": "code",
   "execution_count": null,
   "id": "e3151164-2598-4fb1-8e3b-1aede9c667ac",
   "metadata": {},
   "outputs": [],
   "source": []
  },
  {
   "cell_type": "code",
   "execution_count": 20,
   "id": "2a19931f-cfca-47cf-850f-50c88f0335a4",
   "metadata": {},
   "outputs": [
    {
     "data": {
      "text/plain": [
       "[('m', 1),\n",
       " ('i', 1),\n",
       " ('k', 1),\n",
       " ('e', 1),\n",
       " ('g', 1),\n",
       " ('e', 1),\n",
       " ('o', 1),\n",
       " ('r', 1),\n",
       " ('g', 1),\n",
       " ('e', 1),\n",
       " ('1', 1),\n",
       " ('2', 1),\n",
       " ('3', 1)]"
      ]
     },
     "execution_count": 20,
     "metadata": {},
     "output_type": "execute_result"
    }
   ],
   "source": [
    "map_func([\"mike\", \"george\", \"123\"])"
   ]
  },
  {
   "cell_type": "code",
   "execution_count": null,
   "id": "f0be85f7-10b0-4380-8610-bc1770232364",
   "metadata": {},
   "outputs": [],
   "source": []
  }
 ],
 "metadata": {
  "kernelspec": {
   "display_name": "Python [conda env:mapreduce] *",
   "language": "python",
   "name": "conda-env-mapreduce-py"
  },
  "language_info": {
   "codemirror_mode": {
    "name": "ipython",
    "version": 3
   },
   "file_extension": ".py",
   "mimetype": "text/x-python",
   "name": "python",
   "nbconvert_exporter": "python",
   "pygments_lexer": "ipython3",
   "version": "3.11.3"
  }
 },
 "nbformat": 4,
 "nbformat_minor": 5
}
