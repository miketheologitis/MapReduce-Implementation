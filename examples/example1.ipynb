{
 "cells": [
  {
   "cell_type": "code",
   "execution_count": 38,
   "id": "eed0ac3e-05af-49d6-9b39-814e9b47e980",
   "metadata": {},
   "outputs": [],
   "source": [
    "import sys\n",
    "sys.path.append('/home/miketheologitis/MapReduce-Implementation')\n",
    "\n",
    "from mapreduce.cluster.local_cluster import LocalCluster\n",
    "from mapreduce.monitoring.local_monitoring import LocalMonitoring"
   ]
  },
  {
   "cell_type": "code",
   "execution_count": 39,
   "id": "e9e3625f-8225-42f7-80eb-b08039b3c978",
   "metadata": {},
   "outputs": [],
   "source": [
    "local_cluster = LocalCluster(\n",
    "    n_workers=4,\n",
    "    n_masters=1,\n",
    "    initialize=True,\n",
    "    verbose=False\n",
    ")"
   ]
  },
  {
   "cell_type": "code",
   "execution_count": 40,
   "id": "8625574b-a46e-4d8b-accd-e4d9855cabca",
   "metadata": {},
   "outputs": [],
   "source": [
    "local_monitoring = local_cluster.local_monitoring"
   ]
  },
  {
   "cell_type": "code",
   "execution_count": 46,
   "id": "db647fa2-9902-4d60-9ee2-5515823c2e91",
   "metadata": {},
   "outputs": [
    {
     "name": "stdout",
     "output_type": "stream",
     "text": [
      "job_0/\n",
      "  data.pickle\n",
      "  map_func.pickle\n",
      "  map_results/\n",
      "    0.pickle\n",
      "    1.pickle\n",
      "    2.pickle\n",
      "    3.pickle\n",
      "  map_tasks/\n",
      "    0.pickle\n",
      "    1.pickle\n",
      "    2.pickle\n",
      "    3.pickle\n",
      "  reduce_func.pickle\n",
      "  reduce_results/\n",
      "    0_1_2_3.pickle\n",
      "    11_12_13.pickle\n",
      "    4_5_6_7.pickle\n",
      "    8_9_10.pickle\n",
      "  shuffle_results/\n",
      "    0.pickle\n",
      "    1.pickle\n",
      "    10.pickle\n",
      "    11.pickle\n",
      "    12.pickle\n",
      "    13.pickle\n",
      "    2.pickle\n",
      "    3.pickle\n",
      "    4.pickle\n",
      "    5.pickle\n",
      "    6.pickle\n",
      "    7.pickle\n",
      "    8.pickle\n",
      "    9.pickle\n"
     ]
    }
   ],
   "source": [
    "local_monitoring.print_hdfs('jobs/')"
   ]
  },
  {
   "cell_type": "code",
   "execution_count": 42,
   "id": "2a53b8ed-2086-4412-92aa-bc49713fdadb",
   "metadata": {},
   "outputs": [
    {
     "ename": "AttributeError",
     "evalue": "'LocalMonitoring' object has no attribute 'print_zoo'",
     "output_type": "error",
     "traceback": [
      "\u001b[0;31m---------------------------------------------------------------------------\u001b[0m",
      "\u001b[0;31mAttributeError\u001b[0m                            Traceback (most recent call last)",
      "Cell \u001b[0;32mIn[42], line 1\u001b[0m\n\u001b[0;32m----> 1\u001b[0m \u001b[43mlocal_monitoring\u001b[49m\u001b[38;5;241;43m.\u001b[39;49m\u001b[43mprint_zoo\u001b[49m()\n",
      "\u001b[0;31mAttributeError\u001b[0m: 'LocalMonitoring' object has no attribute 'print_zoo'"
     ]
    }
   ],
   "source": [
    "local_monitoring.print_zoo()"
   ]
  },
  {
   "cell_type": "code",
   "execution_count": null,
   "id": "e0872cd2-7cc7-4652-94c6-435b89c884ae",
   "metadata": {},
   "outputs": [],
   "source": []
  },
  {
   "cell_type": "code",
   "execution_count": null,
   "id": "e8d81aec-9cd2-42e9-901f-ec409ef13283",
   "metadata": {},
   "outputs": [],
   "source": []
  },
  {
   "cell_type": "code",
   "execution_count": 47,
   "id": "5be1f2c9-384d-4d8e-bad4-4c5f563c36c0",
   "metadata": {},
   "outputs": [],
   "source": [
    "local_cluster.shutdown_cluster(delete_hdfs_jobs=True)"
   ]
  },
  {
   "cell_type": "code",
   "execution_count": null,
   "id": "eca6df95-b429-487b-9458-f498873b643c",
   "metadata": {},
   "outputs": [],
   "source": []
  },
  {
   "cell_type": "code",
   "execution_count": null,
   "id": "2beef290-0fac-4b03-81fb-dff32ccad1db",
   "metadata": {},
   "outputs": [],
   "source": []
  },
  {
   "cell_type": "code",
   "execution_count": null,
   "id": "32e3216b-1355-4064-ab01-517b4b47dc58",
   "metadata": {},
   "outputs": [],
   "source": []
  },
  {
   "cell_type": "code",
   "execution_count": null,
   "id": "7e5a39ba-7b3c-470d-b328-47cb26da4738",
   "metadata": {},
   "outputs": [],
   "source": []
  },
  {
   "cell_type": "code",
   "execution_count": null,
   "id": "5b77e6cc-e6b2-48a1-a1b5-bcdd06cf4129",
   "metadata": {},
   "outputs": [],
   "source": []
  },
  {
   "cell_type": "code",
   "execution_count": null,
   "id": "9396e344-59bf-4cdc-bc3f-3a2cd8357a79",
   "metadata": {},
   "outputs": [],
   "source": []
  },
  {
   "cell_type": "code",
   "execution_count": null,
   "id": "bded2222-d102-4b5f-9667-419977091182",
   "metadata": {},
   "outputs": [],
   "source": []
  },
  {
   "cell_type": "code",
   "execution_count": null,
   "id": "a6154ecb-38eb-40ab-862c-5bcbe3b6eb9e",
   "metadata": {},
   "outputs": [],
   "source": []
  }
 ],
 "metadata": {
  "kernelspec": {
   "display_name": "Python [conda env:mapreduce] *",
   "language": "python",
   "name": "conda-env-mapreduce-py"
  },
  "language_info": {
   "codemirror_mode": {
    "name": "ipython",
    "version": 3
   },
   "file_extension": ".py",
   "mimetype": "text/x-python",
   "name": "python",
   "nbconvert_exporter": "python",
   "pygments_lexer": "ipython3",
   "version": "3.11.3"
  }
 },
 "nbformat": 4,
 "nbformat_minor": 5
}
