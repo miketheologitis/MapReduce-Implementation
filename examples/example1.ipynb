{
 "cells": [
  {
   "cell_type": "code",
   "execution_count": 1,
   "id": "eed0ac3e-05af-49d6-9b39-814e9b47e980",
   "metadata": {},
   "outputs": [],
   "source": [
    "import sys\n",
    "sys.path.append('/home/miketheologitis/MapReduce-Implementation')\n",
    "\n",
    "from mapreduce.cluster.local_cluster import LocalCluster"
   ]
  },
  {
   "cell_type": "code",
   "execution_count": 2,
   "id": "e9e3625f-8225-42f7-80eb-b08039b3c978",
   "metadata": {},
   "outputs": [],
   "source": [
    "local_cluster = LocalCluster(\n",
    "    n_workers=4,\n",
    "    n_masters=2,\n",
    "    initialize=True,\n",
    "    verbose=False\n",
    ")"
   ]
  },
  {
   "cell_type": "code",
   "execution_count": 3,
   "id": "15e51d8a-b2a2-49b8-b4a8-be62e4cc0ffe",
   "metadata": {},
   "outputs": [],
   "source": [
    "local_monitoring = local_cluster.local_monitoring"
   ]
  },
  {
   "cell_type": "code",
   "execution_count": 4,
   "id": "6e426411-51ab-41a1-9a86-772c963c48fc",
   "metadata": {
    "scrolled": true
   },
   "outputs": [],
   "source": [
    "import random\n",
    "import string\n",
    "\n",
    "def generate_random_string(str_len):\n",
    "    letters = string.ascii_lowercase\n",
    "    return ''.join(random.choice(letters) for _ in range(str_len))\n",
    "\n",
    "def generate_random_string_list(n, str_len):\n",
    "    return [generate_random_string(str_len) for _ in range(n)]\n",
    "\n",
    "# Example usage\n",
    "#data = generate_random_string_list(n=500000, str_len=20)\n",
    "data = generate_random_string_list(n=100000, str_len=20)"
   ]
  },
  {
   "cell_type": "code",
   "execution_count": 5,
   "id": "97091033-6f84-4515-90fb-9486d5d20fef",
   "metadata": {},
   "outputs": [
    {
     "data": {
      "text/plain": [
       "['wrddhthhzwfiwqvqrkwd',\n",
       " 'dmcfidzxusyornvxwazd',\n",
       " 'wkkjirfbaxwwfggemqer',\n",
       " 'bjuikrxxiioacjwfrtrk',\n",
       " 'hduxqenlcxmjqxmayent',\n",
       " 'suziwjcdorjbxafrryze',\n",
       " 'wkxxzfvxnppfshkejudg',\n",
       " 'zducsjaxonfqvcuryrmv',\n",
       " 'mcewwwokcmhdixxvqjxc',\n",
       " 'qjhdgrrujivbzgpmriao']"
      ]
     },
     "execution_count": 5,
     "metadata": {},
     "output_type": "execute_result"
    }
   ],
   "source": [
    "data[:10]"
   ]
  },
  {
   "cell_type": "code",
   "execution_count": 6,
   "id": "023f333a-577e-4267-a6ae-0bd00e1e4bce",
   "metadata": {},
   "outputs": [
    {
     "name": "stdout",
     "output_type": "stream",
     "text": [
      "Size: 0.764 MB\n"
     ]
    }
   ],
   "source": [
    "import sys\n",
    "print(f\"Size: {round(sys.getsizeof(data) / (1024 * 1024), 3)} MB\")"
   ]
  },
  {
   "cell_type": "code",
   "execution_count": 7,
   "id": "8859d749-896d-4b18-a37a-d3681a821109",
   "metadata": {},
   "outputs": [],
   "source": [
    "def map_func(data):\n",
    "    result = []\n",
    "    for string in data:\n",
    "        for char in string:\n",
    "            result.append((char, 1))\n",
    "    return result\n",
    "\n",
    "def reduce_func(data):\n",
    "    return sum(data)"
   ]
  },
  {
   "cell_type": "code",
   "execution_count": 9,
   "id": "8d2509d1-bf9f-447c-88c2-ca8629918e07",
   "metadata": {},
   "outputs": [],
   "source": [
    "future1 = local_cluster.mapreduce(data, map_func, reduce_func)"
   ]
  },
  {
   "cell_type": "code",
   "execution_count": 9,
   "id": "4c1a3712-d7d0-401a-8519-a08a860b6d42",
   "metadata": {},
   "outputs": [
    {
     "data": {
      "text/plain": [
       "<Future at 0x7fc770d4ff50 state=running>"
      ]
     },
     "execution_count": 9,
     "metadata": {},
     "output_type": "execute_result"
    }
   ],
   "source": [
    "future1"
   ]
  },
  {
   "cell_type": "code",
   "execution_count": 10,
   "id": "01940310-7da9-464e-b740-820021e14a99",
   "metadata": {},
   "outputs": [],
   "source": [
    "future2 = local_cluster.mapreduce(data, map_func, reduce_func)"
   ]
  },
  {
   "cell_type": "code",
   "execution_count": 11,
   "id": "6c53effb-3559-4a9e-90a7-b119b4960c4c",
   "metadata": {},
   "outputs": [
    {
     "data": {
      "text/plain": [
       "<Future at 0x7fc752d07910 state=running>"
      ]
     },
     "execution_count": 11,
     "metadata": {},
     "output_type": "execute_result"
    }
   ],
   "source": [
    "future2"
   ]
  },
  {
   "cell_type": "code",
   "execution_count": null,
   "id": "1089f080-443f-4876-b10a-9fbd845e0193",
   "metadata": {},
   "outputs": [],
   "source": []
  },
  {
   "cell_type": "code",
   "execution_count": 12,
   "id": "ea5cee9c-6ee6-49a9-9b8b-4cc67e702910",
   "metadata": {},
   "outputs": [],
   "source": [
    "#!docker kill ed1374a13ab9 2e48d1b685cd 26849605aa1e 0d746726f73b"
   ]
  },
  {
   "cell_type": "code",
   "execution_count": 13,
   "id": "52ffe1a8-ef54-42a3-bf00-b9a98fa2668c",
   "metadata": {},
   "outputs": [],
   "source": [
    "#!docker kill c3101d644816"
   ]
  },
  {
   "cell_type": "code",
   "execution_count": null,
   "id": "43c400dd-00a1-4565-acee-980647a672b1",
   "metadata": {},
   "outputs": [],
   "source": []
  },
  {
   "cell_type": "code",
   "execution_count": 10,
   "id": "db647fa2-9902-4d60-9ee2-5515823c2e91",
   "metadata": {
    "scrolled": true
   },
   "outputs": [
    {
     "name": "stdout",
     "output_type": "stream",
     "text": [
      "\n",
      "----------------- Zoo Masters -----------------\n",
      "Master aa95a62aa7a8 :  MasterInfo(state='nothing')\n",
      "Master 67e1b07f99d7 :  MasterInfo(state='nothing')\n",
      "\n",
      "----------------- Zoo Workers -----------------\n",
      "Worker c85e3894b068 :  WorkerInfo(state='idle')\n",
      "Worker 6bf8ca3658f7 :  WorkerInfo(state='idle')\n",
      "Worker f9bce8bf5115 :  WorkerInfo(state='idle')\n",
      "Worker 86bfa3b598f4 :  WorkerInfo(state='idle')\n",
      "\n",
      "----------------- Zoo Map Tasks -----------------\n",
      "\n",
      "----------------- Zoo Shuffle Tasks -----------------\n",
      "\n",
      "----------------- Zoo Reduce Tasks -----------------\n",
      "\n",
      "----------------- Zoo Jobs ---------------------\n",
      "Job 0 :  Job(state='in-progress', requested_n_workers=None, master_hostname='aa95a62aa7a8')\n",
      "\n",
      "\n",
      "------------- Dead Worker Tasks ---------------------\n"
     ]
    }
   ],
   "source": [
    "local_monitoring.print_zoo()"
   ]
  },
  {
   "cell_type": "code",
   "execution_count": 15,
   "id": "cede5a30-7938-495d-a989-297260d32206",
   "metadata": {
    "scrolled": true
   },
   "outputs": [
    {
     "name": "stdout",
     "output_type": "stream",
     "text": [
      "job_0/\n",
      "  data.pickle\n",
      "  map_func.pickle\n",
      "  map_results/\n",
      "  map_tasks/\n",
      "  reduce_func.pickle\n",
      "  reduce_results/\n",
      "  shuffle_results/\n",
      "job_1/\n",
      "  data.pickle\n",
      "  map_func.pickle\n",
      "  map_results/\n",
      "  map_tasks/\n",
      "  reduce_func.pickle\n",
      "  reduce_results/\n",
      "  shuffle_results/\n"
     ]
    }
   ],
   "source": [
    "local_monitoring.print_hdfs('jobs')"
   ]
  },
  {
   "cell_type": "code",
   "execution_count": null,
   "id": "abf7a471-9220-4571-b3f8-deb84e2babd9",
   "metadata": {},
   "outputs": [],
   "source": []
  },
  {
   "cell_type": "code",
   "execution_count": null,
   "id": "9a9355c6-ff8e-4eeb-a868-1580a63169d4",
   "metadata": {},
   "outputs": [],
   "source": []
  },
  {
   "cell_type": "code",
   "execution_count": null,
   "id": "8b010c93-4f70-4202-93b4-fb7295ce3850",
   "metadata": {},
   "outputs": [],
   "source": []
  },
  {
   "cell_type": "code",
   "execution_count": 40,
   "id": "842f20c6-570e-427a-a407-ca9b43bbf457",
   "metadata": {},
   "outputs": [],
   "source": [
    "local_cluster.scale(n_masters=2)"
   ]
  },
  {
   "cell_type": "code",
   "execution_count": 19,
   "id": "5ee21bb8-ab36-4f92-9d90-b3da1d04c2a2",
   "metadata": {},
   "outputs": [],
   "source": [
    "local_cluster.scale(n_workers=0)"
   ]
  },
  {
   "cell_type": "code",
   "execution_count": 21,
   "id": "e8d81aec-9cd2-42e9-901f-ec409ef13283",
   "metadata": {},
   "outputs": [],
   "source": [
    "local_cluster.clear()"
   ]
  },
  {
   "cell_type": "code",
   "execution_count": null,
   "id": "fada6f3a-23fa-49c2-beaa-a48e884f3b2a",
   "metadata": {},
   "outputs": [],
   "source": []
  },
  {
   "cell_type": "code",
   "execution_count": null,
   "id": "82de2c15-6cdb-405f-bf3f-4b0ca65ddaee",
   "metadata": {},
   "outputs": [],
   "source": []
  },
  {
   "cell_type": "code",
   "execution_count": 31,
   "id": "5be1f2c9-384d-4d8e-bad4-4c5f563c36c0",
   "metadata": {
    "scrolled": true
   },
   "outputs": [],
   "source": [
    "local_cluster.shutdown_cluster(cleanup=True)"
   ]
  },
  {
   "cell_type": "code",
   "execution_count": null,
   "id": "f8781cd3-f3dc-4c38-ac77-6b01cb0e2ef9",
   "metadata": {},
   "outputs": [],
   "source": []
  },
  {
   "cell_type": "code",
   "execution_count": null,
   "id": "cc5328eb-8c50-4a9f-8882-0cef29a05246",
   "metadata": {},
   "outputs": [],
   "source": []
  },
  {
   "cell_type": "code",
   "execution_count": null,
   "id": "fa3a7e58-c1b6-47c8-a0c3-3a485d3e4245",
   "metadata": {},
   "outputs": [],
   "source": []
  },
  {
   "cell_type": "code",
   "execution_count": null,
   "id": "8a729f55-c1a4-4245-90ca-68ce85f86fce",
   "metadata": {},
   "outputs": [],
   "source": []
  },
  {
   "cell_type": "code",
   "execution_count": 12,
   "id": "b32111fa-3705-45a4-a37b-b5aeea9db16d",
   "metadata": {},
   "outputs": [],
   "source": [
    "zk_client = local_monitoring.get_zk_client()"
   ]
  },
  {
   "cell_type": "code",
   "execution_count": 13,
   "id": "bab8b64a-dea4-44b4-b8be-ad2c0c436081",
   "metadata": {},
   "outputs": [],
   "source": [
    "lock = zk_client.zk.Lock(path=\"/locks/master_job_assignment_lock\", identifier='myself')"
   ]
  },
  {
   "cell_type": "code",
   "execution_count": 14,
   "id": "67f74e77-0ed1-4e5b-bb8e-a919e79a5a5e",
   "metadata": {},
   "outputs": [
    {
     "data": {
      "text/plain": [
       "['67e1b07f99d7']"
      ]
     },
     "execution_count": 14,
     "metadata": {},
     "output_type": "execute_result"
    }
   ],
   "source": [
    "lock.contenders()"
   ]
  },
  {
   "cell_type": "code",
   "execution_count": null,
   "id": "343b6075-7c94-42c1-b521-6df22fcd75f3",
   "metadata": {},
   "outputs": [],
   "source": []
  }
 ],
 "metadata": {
  "kernelspec": {
   "display_name": "Python [conda env:mapreduce] *",
   "language": "python",
   "name": "conda-env-mapreduce-py"
  },
  "language_info": {
   "codemirror_mode": {
    "name": "ipython",
    "version": 3
   },
   "file_extension": ".py",
   "mimetype": "text/x-python",
   "name": "python",
   "nbconvert_exporter": "python",
   "pygments_lexer": "ipython3",
   "version": "3.11.3"
  }
 },
 "nbformat": 4,
 "nbformat_minor": 5
}
