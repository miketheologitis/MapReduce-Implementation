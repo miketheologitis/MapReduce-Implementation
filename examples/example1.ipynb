{
 "cells": [
  {
   "cell_type": "code",
   "execution_count": 1,
   "id": "eed0ac3e-05af-49d6-9b39-814e9b47e980",
   "metadata": {},
   "outputs": [],
   "source": [
    "import sys\n",
    "sys.path.append('/home/miketheologitis/MapReduce-Implementation')\n",
    "\n",
    "from mapreduce.cluster.local_cluster import LocalCluster"
   ]
  },
  {
   "cell_type": "code",
   "execution_count": 2,
   "id": "e9e3625f-8225-42f7-80eb-b08039b3c978",
   "metadata": {},
   "outputs": [],
   "source": [
    "local_cluster = LocalCluster(\n",
    "    n_workers=2,\n",
    "    n_masters=1,\n",
    "    initialize=True,\n",
    "    verbose=False\n",
    ")"
   ]
  },
  {
   "cell_type": "code",
   "execution_count": 3,
   "id": "15e51d8a-b2a2-49b8-b4a8-be62e4cc0ffe",
   "metadata": {},
   "outputs": [],
   "source": [
    "local_monitoring = local_cluster.local_monitoring"
   ]
  },
  {
   "cell_type": "code",
   "execution_count": 30,
   "id": "6e426411-51ab-41a1-9a86-772c963c48fc",
   "metadata": {
    "scrolled": true
   },
   "outputs": [],
   "source": [
    "import random\n",
    "import string\n",
    "\n",
    "def generate_random_string(str_len):\n",
    "    letters = string.ascii_lowercase\n",
    "    return ''.join(random.choice(letters) for _ in range(str_len))\n",
    "\n",
    "def generate_random_string_list(n, str_len):\n",
    "    return [generate_random_string(str_len) for _ in range(n)]\n",
    "\n",
    "# Example usage\n",
    "#data = generate_random_string_list(n=500000, str_len=20)\n",
    "data = generate_random_string_list(n=1000, str_len=20)"
   ]
  },
  {
   "cell_type": "code",
   "execution_count": 31,
   "id": "97091033-6f84-4515-90fb-9486d5d20fef",
   "metadata": {},
   "outputs": [
    {
     "data": {
      "text/plain": [
       "['afgwlmobndycqkbmtpar',\n",
       " 'ljnjdcmfkyziehkkgcmw',\n",
       " 'mktzzafbbvuimhixdjrc',\n",
       " 'wkwxefguznniflcmjdnz',\n",
       " 'tmwygolsfzrmptwchbiw',\n",
       " 'abzijzqkaqpjmhflitbs',\n",
       " 'gbeftolnhaaiwmmmcvhv',\n",
       " 'tvzlxiijbymrozlpftvy',\n",
       " 'dxwmjabdmkuuuzcfqhnq',\n",
       " 'jzqwfbgalktvzqctayad']"
      ]
     },
     "execution_count": 31,
     "metadata": {},
     "output_type": "execute_result"
    }
   ],
   "source": [
    "data[:10]"
   ]
  },
  {
   "cell_type": "code",
   "execution_count": 32,
   "id": "023f333a-577e-4267-a6ae-0bd00e1e4bce",
   "metadata": {},
   "outputs": [
    {
     "name": "stdout",
     "output_type": "stream",
     "text": [
      "Size: 0.008 MB\n"
     ]
    }
   ],
   "source": [
    "import sys\n",
    "print(f\"Size: {round(sys.getsizeof(data) / (1024 * 1024), 3)} MB\")"
   ]
  },
  {
   "cell_type": "code",
   "execution_count": 33,
   "id": "8859d749-896d-4b18-a37a-d3681a821109",
   "metadata": {},
   "outputs": [],
   "source": [
    "def map_func(data):\n",
    "    result = []\n",
    "    for string in data:\n",
    "        for char in string:\n",
    "            result.append((char, 1))\n",
    "    return result\n",
    "\n",
    "def reduce_func(data):\n",
    "    return sum(data)"
   ]
  },
  {
   "cell_type": "code",
   "execution_count": 34,
   "id": "8d2509d1-bf9f-447c-88c2-ca8629918e07",
   "metadata": {},
   "outputs": [],
   "source": [
    "future = local_cluster.mapreduce(data, map_func, reduce_func)"
   ]
  },
  {
   "cell_type": "code",
   "execution_count": 35,
   "id": "4c1a3712-d7d0-401a-8519-a08a860b6d42",
   "metadata": {},
   "outputs": [
    {
     "data": {
      "text/plain": [
       "<Future at 0x7f0624098290 state=running>"
      ]
     },
     "execution_count": 35,
     "metadata": {},
     "output_type": "execute_result"
    }
   ],
   "source": [
    "future"
   ]
  },
  {
   "cell_type": "code",
   "execution_count": 36,
   "id": "ea5cee9c-6ee6-49a9-9b8b-4cc67e702910",
   "metadata": {},
   "outputs": [],
   "source": [
    "#!docker kill 21ebf4c67c9a a41163fe2658 a41163fe2658 a0cf7439958b"
   ]
  },
  {
   "cell_type": "code",
   "execution_count": 18,
   "id": "db647fa2-9902-4d60-9ee2-5515823c2e91",
   "metadata": {},
   "outputs": [
    {
     "name": "stdout",
     "output_type": "stream",
     "text": [
      "\n",
      "----------------- Zoo Masters -----------------\n",
      "Master a5e4233c5c40 :  MasterInfo(state='nothing')\n",
      "\n",
      "----------------- Zoo Workers -----------------\n",
      "Worker 7e249a741a7d :  WorkerInfo(state='idle')\n",
      "Worker aadf463b3d50 :  WorkerInfo(state='idle')\n",
      "Worker d6bff871c674 :  WorkerInfo(state='idle')\n",
      "Worker a69b2725051b :  WorkerInfo(state='idle')\n",
      "Worker f6b4937a34c2 :  WorkerInfo(state='idle')\n",
      "Worker 6944045d19fe :  WorkerInfo(state='idle')\n",
      "Worker ca2269b57877 :  WorkerInfo(state='idle')\n",
      "Worker 0b4bb8d05862 :  WorkerInfo(state='idle')\n",
      "Worker bf94bffc1544 :  WorkerInfo(state='idle')\n",
      "Worker 7f746f779506 :  WorkerInfo(state='idle')\n",
      "Worker 1f6487c2b9a4 :  WorkerInfo(state='idle')\n",
      "Worker 8374f2cd0cd1 :  WorkerInfo(state='idle')\n",
      "Worker 30e93d426efa :  WorkerInfo(state='idle')\n",
      "Worker cd40d855dbb0 :  WorkerInfo(state='idle')\n",
      "Worker 4bdcbf1af55f :  WorkerInfo(state='idle')\n",
      "Worker e7d0ef08ce52 :  WorkerInfo(state='idle')\n",
      "\n",
      "----------------- Zoo Map Tasks -----------------\n",
      "\n",
      "----------------- Zoo Shuffle Tasks -----------------\n",
      "\n",
      "----------------- Zoo Reduce Tasks -----------------\n",
      "\n",
      "----------------- Zoo Jobs ---------------------\n"
     ]
    }
   ],
   "source": [
    "local_monitoring.print_zoo()"
   ]
  },
  {
   "cell_type": "code",
   "execution_count": 38,
   "id": "cede5a30-7938-495d-a989-297260d32206",
   "metadata": {
    "scrolled": true
   },
   "outputs": [
    {
     "name": "stdout",
     "output_type": "stream",
     "text": [
      "job_0/\n",
      "  data.pickle\n",
      "  map_func.pickle\n",
      "  map_results/\n",
      "    0.pickle\n",
      "    1.pickle\n",
      "  map_tasks/\n",
      "    0.pickle\n",
      "    1.pickle\n",
      "  reduce_func.pickle\n",
      "  reduce_results/\n",
      "    0_1_2.pickle\n",
      "    12_13_14.pickle\n",
      "    15_16_17.pickle\n",
      "    18_19.pickle\n",
      "    20_21.pickle\n",
      "    22_23.pickle\n",
      "    24_25.pickle\n",
      "    3_4_5.pickle\n",
      "    6_7_8.pickle\n",
      "    9_10_11.pickle\n",
      "  shuffle_results/\n",
      "    0.pickle\n",
      "    1.pickle\n",
      "    10.pickle\n",
      "    11.pickle\n",
      "    12.pickle\n",
      "    13.pickle\n",
      "    14.pickle\n",
      "    15.pickle\n",
      "    16.pickle\n",
      "    17.pickle\n",
      "    18.pickle\n",
      "    19.pickle\n",
      "    2.pickle\n",
      "    20.pickle\n",
      "    21.pickle\n",
      "    22.pickle\n",
      "    23.pickle\n",
      "    24.pickle\n",
      "    25.pickle\n",
      "    3.pickle\n",
      "    4.pickle\n",
      "    5.pickle\n",
      "    6.pickle\n",
      "    7.pickle\n",
      "    8.pickle\n",
      "    9.pickle\n",
      "job_1/\n",
      "  data.pickle\n",
      "  map_func.pickle\n",
      "  map_results/\n",
      "    0.pickle\n",
      "    1.pickle\n",
      "  map_tasks/\n",
      "    0.pickle\n",
      "    1.pickle\n",
      "  reduce_func.pickle\n",
      "  reduce_results/\n",
      "    0_1_2_3_4_5_6_7_8_9_10_11_12.pickle\n",
      "    13_14_15_16_17_18_19_20_21_22_23_24_25.pickle\n",
      "  shuffle_results/\n",
      "    0.pickle\n",
      "    1.pickle\n",
      "    10.pickle\n",
      "    11.pickle\n",
      "    12.pickle\n",
      "    13.pickle\n",
      "    14.pickle\n",
      "    15.pickle\n",
      "    16.pickle\n",
      "    17.pickle\n",
      "    18.pickle\n",
      "    19.pickle\n",
      "    2.pickle\n",
      "    20.pickle\n",
      "    21.pickle\n",
      "    22.pickle\n",
      "    23.pickle\n",
      "    24.pickle\n",
      "    25.pickle\n",
      "    3.pickle\n",
      "    4.pickle\n",
      "    5.pickle\n",
      "    6.pickle\n",
      "    7.pickle\n",
      "    8.pickle\n",
      "    9.pickle\n",
      "job_2/\n",
      "  data.pickle\n",
      "  map_func.pickle\n",
      "  map_results/\n",
      "  map_tasks/\n",
      "  reduce_func.pickle\n",
      "  reduce_results/\n",
      "  shuffle_results/\n"
     ]
    }
   ],
   "source": [
    "local_monitoring.print_hdfs('jobs')"
   ]
  },
  {
   "cell_type": "code",
   "execution_count": 16,
   "id": "842f20c6-570e-427a-a407-ca9b43bbf457",
   "metadata": {},
   "outputs": [],
   "source": [
    "local_cluster.scale(n_workers=0)"
   ]
  },
  {
   "cell_type": "code",
   "execution_count": 17,
   "id": "5ee21bb8-ab36-4f92-9d90-b3da1d04c2a2",
   "metadata": {},
   "outputs": [],
   "source": [
    "local_cluster.scale(n_workers=10)"
   ]
  },
  {
   "cell_type": "code",
   "execution_count": null,
   "id": "e8d81aec-9cd2-42e9-901f-ec409ef13283",
   "metadata": {},
   "outputs": [],
   "source": []
  },
  {
   "cell_type": "code",
   "execution_count": null,
   "id": "fada6f3a-23fa-49c2-beaa-a48e884f3b2a",
   "metadata": {},
   "outputs": [],
   "source": []
  },
  {
   "cell_type": "code",
   "execution_count": null,
   "id": "82de2c15-6cdb-405f-bf3f-4b0ca65ddaee",
   "metadata": {},
   "outputs": [],
   "source": []
  },
  {
   "cell_type": "code",
   "execution_count": 19,
   "id": "5be1f2c9-384d-4d8e-bad4-4c5f563c36c0",
   "metadata": {
    "scrolled": true
   },
   "outputs": [],
   "source": [
    "local_cluster.shutdown_cluster(cleanup=True)"
   ]
  },
  {
   "cell_type": "code",
   "execution_count": null,
   "id": "f8781cd3-f3dc-4c38-ac77-6b01cb0e2ef9",
   "metadata": {},
   "outputs": [],
   "source": []
  }
 ],
 "metadata": {
  "kernelspec": {
   "display_name": "Python [conda env:mapreduce] *",
   "language": "python",
   "name": "conda-env-mapreduce-py"
  },
  "language_info": {
   "codemirror_mode": {
    "name": "ipython",
    "version": 3
   },
   "file_extension": ".py",
   "mimetype": "text/x-python",
   "name": "python",
   "nbconvert_exporter": "python",
   "pygments_lexer": "ipython3",
   "version": "3.11.3"
  }
 },
 "nbformat": 4,
 "nbformat_minor": 5
}
