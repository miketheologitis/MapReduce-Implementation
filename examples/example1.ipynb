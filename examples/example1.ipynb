{
 "cells": [
  {
   "cell_type": "code",
   "execution_count": 34,
   "id": "eed0ac3e-05af-49d6-9b39-814e9b47e980",
   "metadata": {},
   "outputs": [],
   "source": [
    "import sys\n",
    "sys.path.append('/home/miketheologitis/MapReduce-Implementation')\n",
    "\n",
    "from mapreduce.cluster.local_cluster import LocalCluster"
   ]
  },
  {
   "cell_type": "code",
   "execution_count": 35,
   "id": "e9e3625f-8225-42f7-80eb-b08039b3c978",
   "metadata": {},
   "outputs": [],
   "source": [
    "local_cluster = LocalCluster(\n",
    "    n_workers=4,\n",
    "    n_masters=1,\n",
    "    initialize=True,\n",
    "    verbose=False\n",
    ")"
   ]
  },
  {
   "cell_type": "code",
   "execution_count": 36,
   "id": "15e51d8a-b2a2-49b8-b4a8-be62e4cc0ffe",
   "metadata": {},
   "outputs": [],
   "source": [
    "local_monitoring = local_cluster.local_monitoring"
   ]
  },
  {
   "cell_type": "code",
   "execution_count": 49,
   "id": "6e426411-51ab-41a1-9a86-772c963c48fc",
   "metadata": {
    "scrolled": true
   },
   "outputs": [],
   "source": [
    "import random\n",
    "import string\n",
    "\n",
    "def generate_random_string(str_len):\n",
    "    letters = string.ascii_lowercase\n",
    "    return ''.join(random.choice(letters) for _ in range(str_len))\n",
    "\n",
    "def generate_random_string_list(n, str_len):\n",
    "    return [generate_random_string(str_len) for _ in range(n)]\n",
    "\n",
    "# Example usage\n",
    "#data = generate_random_string_list(n=500000, str_len=20)\n",
    "data = generate_random_string_list(n=100000, str_len=20)"
   ]
  },
  {
   "cell_type": "code",
   "execution_count": 50,
   "id": "97091033-6f84-4515-90fb-9486d5d20fef",
   "metadata": {},
   "outputs": [
    {
     "data": {
      "text/plain": [
       "['rmdrezlhamzrdhsefrai',\n",
       " 'xoshtcdgeuycanfjkqib',\n",
       " 'lklshdjhksfoyeanvlod',\n",
       " 'xgvqyiilyzntoudoqgxz',\n",
       " 'fycrgbzvgmanrjgregzm',\n",
       " 'iuhkbegpmtmforguvsvb',\n",
       " 'ujjlybjfwoptxtpopkrf',\n",
       " 'sztuixrzaghfhckqjchs',\n",
       " 'sawyjyqycvzoepgoumcb',\n",
       " 'uhgxywixaavulutyobjn']"
      ]
     },
     "execution_count": 50,
     "metadata": {},
     "output_type": "execute_result"
    }
   ],
   "source": [
    "data[:10]"
   ]
  },
  {
   "cell_type": "code",
   "execution_count": 51,
   "id": "023f333a-577e-4267-a6ae-0bd00e1e4bce",
   "metadata": {},
   "outputs": [
    {
     "name": "stdout",
     "output_type": "stream",
     "text": [
      "Size: 0.764 MB\n"
     ]
    }
   ],
   "source": [
    "import sys\n",
    "print(f\"Size: {round(sys.getsizeof(data) / (1024 * 1024), 3)} MB\")"
   ]
  },
  {
   "cell_type": "code",
   "execution_count": 52,
   "id": "8859d749-896d-4b18-a37a-d3681a821109",
   "metadata": {},
   "outputs": [],
   "source": [
    "def map_func(data):\n",
    "    result = []\n",
    "    for string in data:\n",
    "        for char in string:\n",
    "            result.append((char, 1))\n",
    "    return result\n",
    "\n",
    "def reduce_func(data):\n",
    "    return sum(data)"
   ]
  },
  {
   "cell_type": "code",
   "execution_count": 68,
   "id": "8d2509d1-bf9f-447c-88c2-ca8629918e07",
   "metadata": {},
   "outputs": [],
   "source": [
    "future1 = local_cluster.mapreduce(data, map_func, reduce_func)"
   ]
  },
  {
   "cell_type": "code",
   "execution_count": 77,
   "id": "4c1a3712-d7d0-401a-8519-a08a860b6d42",
   "metadata": {},
   "outputs": [
    {
     "data": {
      "text/plain": [
       "<Future at 0x7fd29f314cd0 state=running>"
      ]
     },
     "execution_count": 77,
     "metadata": {},
     "output_type": "execute_result"
    }
   ],
   "source": [
    "future1"
   ]
  },
  {
   "cell_type": "code",
   "execution_count": 70,
   "id": "01940310-7da9-464e-b740-820021e14a99",
   "metadata": {},
   "outputs": [],
   "source": [
    "future2 = local_cluster.mapreduce(data, map_func, reduce_func)"
   ]
  },
  {
   "cell_type": "code",
   "execution_count": 71,
   "id": "6c53effb-3559-4a9e-90a7-b119b4960c4c",
   "metadata": {},
   "outputs": [
    {
     "data": {
      "text/plain": [
       "<Future at 0x7fd29f30ba10 state=running>"
      ]
     },
     "execution_count": 71,
     "metadata": {},
     "output_type": "execute_result"
    }
   ],
   "source": [
    "future2"
   ]
  },
  {
   "cell_type": "code",
   "execution_count": null,
   "id": "1089f080-443f-4876-b10a-9fbd845e0193",
   "metadata": {},
   "outputs": [],
   "source": []
  },
  {
   "cell_type": "code",
   "execution_count": 14,
   "id": "ea5cee9c-6ee6-49a9-9b8b-4cc67e702910",
   "metadata": {},
   "outputs": [
    {
     "name": "stdout",
     "output_type": "stream",
     "text": [
      "ed1374a13ab9\n",
      "2e48d1b685cd\n",
      "26849605aa1e\n",
      "0d746726f73b\n"
     ]
    }
   ],
   "source": [
    "!docker kill ed1374a13ab9 2e48d1b685cd 26849605aa1e 0d746726f73b"
   ]
  },
  {
   "cell_type": "code",
   "execution_count": 57,
   "id": "52ffe1a8-ef54-42a3-bf00-b9a98fa2668c",
   "metadata": {},
   "outputs": [
    {
     "name": "stdout",
     "output_type": "stream",
     "text": [
      "c3101d644816\n"
     ]
    }
   ],
   "source": [
    "!docker kill c3101d644816"
   ]
  },
  {
   "cell_type": "code",
   "execution_count": null,
   "id": "43c400dd-00a1-4565-acee-980647a672b1",
   "metadata": {},
   "outputs": [],
   "source": []
  },
  {
   "cell_type": "code",
   "execution_count": 80,
   "id": "db647fa2-9902-4d60-9ee2-5515823c2e91",
   "metadata": {
    "scrolled": true
   },
   "outputs": [
    {
     "name": "stdout",
     "output_type": "stream",
     "text": [
      "\n",
      "----------------- Zoo Masters -----------------\n",
      "Master a7d53448ee1f :  MasterInfo(state='nothing')\n",
      "Master 016b9f94f233 :  MasterInfo(state='nothing')\n",
      "\n",
      "----------------- Zoo Workers -----------------\n",
      "Worker c3101d644816 :  WorkerInfo(state='idle')\n",
      "Worker e2925ac27b03 :  WorkerInfo(state='idle')\n",
      "Worker b0be64bc7d7b :  WorkerInfo(state='idle')\n",
      "Worker f0fba8fdb0d1 :  WorkerInfo(state='idle')\n",
      "Worker ec46d45c48d2 :  WorkerInfo(state='idle')\n",
      "\n",
      "----------------- Zoo Map Tasks -----------------\n",
      "Task 0_0 :  Task(state='completed', worker_hostname='c3101d644816', received=True)\n",
      "Task 0_1 :  Task(state='completed', worker_hostname='b0be64bc7d7b', received=True)\n",
      "Task 1_0 :  Task(state='completed', worker_hostname='b0be64bc7d7b', received=True)\n",
      "Task 0_2 :  Task(state='completed', worker_hostname='f0fba8fdb0d1', received=True)\n",
      "Task 1_1 :  Task(state='completed', worker_hostname='f0fba8fdb0d1', received=True)\n",
      "Task 2_0 :  Task(state='completed', worker_hostname='c3101d644816', received=True)\n",
      "Task 0_3 :  Task(state='completed', worker_hostname='ec46d45c48d2', received=True)\n",
      "Task 1_2 :  Task(state='completed', worker_hostname='ec46d45c48d2', received=True)\n",
      "Task 2_1 :  Task(state='completed', worker_hostname='b0be64bc7d7b', received=True)\n",
      "Task 3_0 :  Task(state='completed', worker_hostname='b0be64bc7d7b', received=True)\n",
      "Task 2_2 :  Task(state='completed', worker_hostname='f0fba8fdb0d1', received=True)\n",
      "Task 3_1 :  Task(state='completed', worker_hostname='f0fba8fdb0d1', received=True)\n",
      "Task 4_0 :  Task(state='completed', worker_hostname='c3101d644816', received=True)\n",
      "Task 2_3 :  Task(state='completed', worker_hostname='ec46d45c48d2', received=True)\n",
      "Task 3_2 :  Task(state='completed', worker_hostname='ec46d45c48d2', received=True)\n",
      "Task 4_1 :  Task(state='completed', worker_hostname='e2925ac27b03', received=True)\n",
      "Task 4_2 :  Task(state='completed', worker_hostname='b0be64bc7d7b', received=True)\n",
      "Task 4_3 :  Task(state='completed', worker_hostname='f0fba8fdb0d1', received=True)\n",
      "Task 4_4 :  Task(state='completed', worker_hostname='ec46d45c48d2', received=True)\n",
      "\n",
      "----------------- Zoo Shuffle Tasks -----------------\n",
      "Task 0 :  Task(state='completed', worker_hostname='c3101d644816', received=True)\n",
      "Task 1 :  Task(state='completed', worker_hostname='b0be64bc7d7b', received=True)\n",
      "Task 2 :  Task(state='completed', worker_hostname='f0fba8fdb0d1', received=True)\n",
      "Task 3 :  Task(state='completed', worker_hostname='b0be64bc7d7b', received=True)\n",
      "\n",
      "----------------- Zoo Reduce Tasks -----------------\n",
      "Task 1_14_15_16_17_18_19 :  Task(state='completed', worker_hostname='f0fba8fdb0d1', received=True)\n",
      "Task 1_7_8_9_10_11_12_13 :  Task(state='completed', worker_hostname='b0be64bc7d7b', received=True)\n",
      "Task 2_0_1_2_3_4_5_6_7_8 :  Task(state='completed', worker_hostname='b0be64bc7d7b', received=True)\n",
      "Task 0_9_10_11_12_13_14_15_16_17 :  Task(state='completed', worker_hostname='f0fba8fdb0d1', received=True)\n",
      "Task 2_9_10_11_12_13_14_15_16_17 :  Task(state='completed', worker_hostname='f0fba8fdb0d1', received=True)\n",
      "Task 2_18_19_20_21_22_23_24_25 :  Task(state='completed', worker_hostname='ec46d45c48d2', received=True)\n",
      "Task 0_18_19_20_21_22_23_24_25 :  Task(state='completed', worker_hostname='ec46d45c48d2', received=True)\n",
      "Task 3_13_14_15_16_17_18_19_20_21_22_23_24_25 :  Task(state='completed', worker_hostname='ec46d45c48d2', received=True)\n",
      "Task 3_0_1_2_3_4_5_6_7_8_9_10_11_12 :  Task(state='completed', worker_hostname='b0be64bc7d7b', received=True)\n",
      "Task 0_0_1_2_3_4_5_6_7_8 :  Task(state='completed', worker_hostname='c3101d644816', received=True)\n",
      "Task 1_0_1_2_3_4_5_6 :  Task(state='completed', worker_hostname='c3101d644816', received=True)\n",
      "Task 1_20_21_22_23_24_25 :  Task(state='completed', worker_hostname='ec46d45c48d2', received=True)\n",
      "\n",
      "----------------- Zoo Jobs ---------------------\n",
      "Job 0 :  Job(state='completed', requested_n_workers=None, master_hostname='016b9f94f233')\n",
      "Job 1 :  Job(state='completed', requested_n_workers=None, master_hostname='016b9f94f233')\n",
      "Job 2 :  Job(state='completed', requested_n_workers=None, master_hostname='016b9f94f233')\n",
      "Job 3 :  Job(state='completed', requested_n_workers=None, master_hostname='016b9f94f233')\n",
      "Job 4 :  Job(state='in-progress', requested_n_workers=None, master_hostname='a7d53448ee1f')\n",
      "Job 5 :  Job(state='idle', requested_n_workers=None, master_hostname=None)\n",
      "\n",
      "\n",
      "------------- Dead Worker Tasks ---------------------\n",
      "Dead Worker Task 2 :  DeadTask(state='completed', master_hostname='016b9f94f233', task_type='shuffle')\n"
     ]
    }
   ],
   "source": [
    "local_monitoring.print_zoo()"
   ]
  },
  {
   "cell_type": "code",
   "execution_count": 78,
   "id": "cede5a30-7938-495d-a989-297260d32206",
   "metadata": {
    "scrolled": true
   },
   "outputs": [
    {
     "name": "stdout",
     "output_type": "stream",
     "text": [
      "job_0/\n",
      "  data.pickle\n",
      "  map_func.pickle\n",
      "  map_results/\n",
      "    0.pickle\n",
      "    1.pickle\n",
      "    2.pickle\n",
      "    3.pickle\n",
      "  map_tasks/\n",
      "    0.pickle\n",
      "    1.pickle\n",
      "    2.pickle\n",
      "    3.pickle\n",
      "  reduce_func.pickle\n",
      "  reduce_results/\n",
      "    0_1_2_3_4_5_6_7_8.pickle\n",
      "    18_19_20_21_22_23_24_25.pickle\n",
      "    9_10_11_12_13_14_15_16_17.pickle\n",
      "  shuffle_results/\n",
      "    0.pickle\n",
      "    1.pickle\n",
      "    10.pickle\n",
      "    11.pickle\n",
      "    12.pickle\n",
      "    13.pickle\n",
      "    14.pickle\n",
      "    15.pickle\n",
      "    16.pickle\n",
      "    17.pickle\n",
      "    18.pickle\n",
      "    19.pickle\n",
      "    2.pickle\n",
      "    20.pickle\n",
      "    21.pickle\n",
      "    22.pickle\n",
      "    23.pickle\n",
      "    24.pickle\n",
      "    25.pickle\n",
      "    3.pickle\n",
      "    4.pickle\n",
      "    5.pickle\n",
      "    6.pickle\n",
      "    7.pickle\n",
      "    8.pickle\n",
      "    9.pickle\n",
      "job_1/\n",
      "  data.pickle\n",
      "  map_func.pickle\n",
      "  map_results/\n",
      "    0.pickle\n",
      "    1.pickle\n",
      "    2.pickle\n",
      "  map_tasks/\n",
      "    0.pickle\n",
      "    1.pickle\n",
      "    2.pickle\n",
      "  reduce_func.pickle\n",
      "  reduce_results/\n",
      "    0_1_2_3_4_5_6.pickle\n",
      "    14_15_16_17_18_19.pickle\n",
      "    20_21_22_23_24_25.pickle\n",
      "    7_8_9_10_11_12_13.pickle\n",
      "  shuffle_results/\n",
      "    0.pickle\n",
      "    1.pickle\n",
      "    10.pickle\n",
      "    11.pickle\n",
      "    12.pickle\n",
      "    13.pickle\n",
      "    14.pickle\n",
      "    15.pickle\n",
      "    16.pickle\n",
      "    17.pickle\n",
      "    18.pickle\n",
      "    19.pickle\n",
      "    2.pickle\n",
      "    20.pickle\n",
      "    21.pickle\n",
      "    22.pickle\n",
      "    23.pickle\n",
      "    24.pickle\n",
      "    25.pickle\n",
      "    3.pickle\n",
      "    4.pickle\n",
      "    5.pickle\n",
      "    6.pickle\n",
      "    7.pickle\n",
      "    8.pickle\n",
      "    9.pickle\n",
      "job_2/\n",
      "  data.pickle\n",
      "  map_func.pickle\n",
      "  map_results/\n",
      "    0.pickle\n",
      "    1.pickle\n",
      "    2.pickle\n",
      "    3.pickle\n",
      "  map_tasks/\n",
      "    0.pickle\n",
      "    1.pickle\n",
      "    2.pickle\n",
      "    3.pickle\n",
      "  reduce_func.pickle\n",
      "  reduce_results/\n",
      "    0_1_2_3_4_5_6_7_8.pickle\n",
      "    18_19_20_21_22_23_24_25.pickle\n",
      "    9_10_11_12_13_14_15_16_17.pickle\n",
      "  shuffle_results/\n",
      "    0.pickle\n",
      "    1.pickle\n",
      "    10.pickle\n",
      "    11.pickle\n",
      "    12.pickle\n",
      "    13.pickle\n",
      "    14.pickle\n",
      "    15.pickle\n",
      "    16.pickle\n",
      "    17.pickle\n",
      "    18.pickle\n",
      "    19.pickle\n",
      "    2.pickle\n",
      "    20.pickle\n",
      "    21.pickle\n",
      "    22.pickle\n",
      "    23.pickle\n",
      "    24.pickle\n",
      "    25.pickle\n",
      "    3.pickle\n",
      "    4.pickle\n",
      "    5.pickle\n",
      "    6.pickle\n",
      "    7.pickle\n",
      "    8.pickle\n",
      "    9.pickle\n",
      "job_3/\n",
      "  data.pickle\n",
      "  map_func.pickle\n",
      "  map_results/\n",
      "    0.pickle\n",
      "    1.pickle\n",
      "    2.pickle\n",
      "  map_tasks/\n",
      "    0.pickle\n",
      "    1.pickle\n",
      "    2.pickle\n",
      "  reduce_func.pickle\n",
      "  reduce_results/\n",
      "    0_1_2_3_4_5_6_7_8_9_10_11_12.pickle\n",
      "    13_14_15_16_17_18_19_20_21_22_23_24_25.pickle\n",
      "  shuffle_results/\n",
      "    0.pickle\n",
      "    1.pickle\n",
      "    10.pickle\n",
      "    11.pickle\n",
      "    12.pickle\n",
      "    13.pickle\n",
      "    14.pickle\n",
      "    15.pickle\n",
      "    16.pickle\n",
      "    17.pickle\n",
      "    18.pickle\n",
      "    19.pickle\n",
      "    2.pickle\n",
      "    20.pickle\n",
      "    21.pickle\n",
      "    22.pickle\n",
      "    23.pickle\n",
      "    24.pickle\n",
      "    25.pickle\n",
      "    3.pickle\n",
      "    4.pickle\n",
      "    5.pickle\n",
      "    6.pickle\n",
      "    7.pickle\n",
      "    8.pickle\n",
      "    9.pickle\n",
      "job_4/\n",
      "  data.pickle\n",
      "  map_func.pickle\n",
      "  map_results/\n",
      "    0.pickle\n",
      "    1.pickle\n",
      "    2.pickle\n",
      "    3.pickle\n",
      "    4.pickle\n",
      "  map_tasks/\n",
      "    0.pickle\n",
      "    1.pickle\n",
      "    2.pickle\n",
      "    3.pickle\n",
      "    4.pickle\n",
      "  reduce_func.pickle\n",
      "  reduce_results/\n",
      "  shuffle_results/\n",
      "job_5/\n",
      "  data.pickle\n",
      "  map_func.pickle\n",
      "  map_results/\n",
      "  map_tasks/\n",
      "  reduce_func.pickle\n",
      "  reduce_results/\n",
      "  shuffle_results/\n"
     ]
    }
   ],
   "source": [
    "local_monitoring.print_hdfs('jobs')"
   ]
  },
  {
   "cell_type": "code",
   "execution_count": null,
   "id": "a8e34a10-a613-4948-87a3-0f3d1eefe02c",
   "metadata": {},
   "outputs": [],
   "source": [
    "Worker b0be64bc7d7b :  WorkerInfo(state='idle')\n",
    "Worker f0fba8fdb0d1 :  WorkerInfo(state='idle')\n",
    "Worker ec46d45c48d2 :  WorkerInfo(state='idle')\n",
    "\n",
    "Master 016b9f94f233 :  MasterInfo(state='nothing')"
   ]
  },
  {
   "cell_type": "code",
   "execution_count": null,
   "id": "abf7a471-9220-4571-b3f8-deb84e2babd9",
   "metadata": {},
   "outputs": [],
   "source": []
  },
  {
   "cell_type": "code",
   "execution_count": 66,
   "id": "842f20c6-570e-427a-a407-ca9b43bbf457",
   "metadata": {},
   "outputs": [],
   "source": [
    "local_cluster.scale(n_masters=2)"
   ]
  },
  {
   "cell_type": "code",
   "execution_count": 64,
   "id": "5ee21bb8-ab36-4f92-9d90-b3da1d04c2a2",
   "metadata": {},
   "outputs": [],
   "source": [
    "local_cluster.scale(n_workers=5)"
   ]
  },
  {
   "cell_type": "code",
   "execution_count": null,
   "id": "e8d81aec-9cd2-42e9-901f-ec409ef13283",
   "metadata": {},
   "outputs": [],
   "source": []
  },
  {
   "cell_type": "code",
   "execution_count": null,
   "id": "fada6f3a-23fa-49c2-beaa-a48e884f3b2a",
   "metadata": {},
   "outputs": [],
   "source": []
  },
  {
   "cell_type": "code",
   "execution_count": null,
   "id": "82de2c15-6cdb-405f-bf3f-4b0ca65ddaee",
   "metadata": {},
   "outputs": [],
   "source": []
  },
  {
   "cell_type": "code",
   "execution_count": 81,
   "id": "5be1f2c9-384d-4d8e-bad4-4c5f563c36c0",
   "metadata": {
    "scrolled": true
   },
   "outputs": [],
   "source": [
    "local_cluster.shutdown_cluster(cleanup=True)"
   ]
  },
  {
   "cell_type": "code",
   "execution_count": null,
   "id": "f8781cd3-f3dc-4c38-ac77-6b01cb0e2ef9",
   "metadata": {},
   "outputs": [],
   "source": []
  }
 ],
 "metadata": {
  "kernelspec": {
   "display_name": "Python [conda env:mapreduce] *",
   "language": "python",
   "name": "conda-env-mapreduce-py"
  },
  "language_info": {
   "codemirror_mode": {
    "name": "ipython",
    "version": 3
   },
   "file_extension": ".py",
   "mimetype": "text/x-python",
   "name": "python",
   "nbconvert_exporter": "python",
   "pygments_lexer": "ipython3",
   "version": "3.11.3"
  }
 },
 "nbformat": 4,
 "nbformat_minor": 5
}
