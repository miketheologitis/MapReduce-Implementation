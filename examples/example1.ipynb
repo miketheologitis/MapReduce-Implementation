{
 "cells": [
  {
   "cell_type": "code",
   "execution_count": 157,
   "id": "eed0ac3e-05af-49d6-9b39-814e9b47e980",
   "metadata": {},
   "outputs": [],
   "source": [
    "import sys\n",
    "sys.path.append('/home/miketheologitis/MapReduce-Implementation')\n",
    "\n",
    "from mapreduce.cluster.local_cluster import LocalCluster"
   ]
  },
  {
   "cell_type": "code",
   "execution_count": 158,
   "id": "e9e3625f-8225-42f7-80eb-b08039b3c978",
   "metadata": {},
   "outputs": [],
   "source": [
    "local_cluster = LocalCluster(\n",
    "    n_workers=4,\n",
    "    n_masters=1,\n",
    "    initialize=True,\n",
    "    verbose=False\n",
    ")"
   ]
  },
  {
   "cell_type": "code",
   "execution_count": 159,
   "id": "8625574b-a46e-4d8b-accd-e4d9855cabca",
   "metadata": {},
   "outputs": [],
   "source": [
    "local_monitoring = local_cluster.local_monitoring"
   ]
  },
  {
   "cell_type": "code",
   "execution_count": 160,
   "id": "6e426411-51ab-41a1-9a86-772c963c48fc",
   "metadata": {
    "scrolled": true
   },
   "outputs": [],
   "source": [
    "import random\n",
    "import string\n",
    "\n",
    "def generate_random_string(str_len):\n",
    "    letters = string.ascii_lowercase\n",
    "    return ''.join(random.choice(letters) for _ in range(str_len))\n",
    "\n",
    "def generate_random_string_list(n, str_len):\n",
    "    return [generate_random_string(str_len) for _ in range(n)]\n",
    "\n",
    "# Example usage\n",
    "data = generate_random_string_list(n=500000, str_len=20)"
   ]
  },
  {
   "cell_type": "code",
   "execution_count": 161,
   "id": "97091033-6f84-4515-90fb-9486d5d20fef",
   "metadata": {},
   "outputs": [
    {
     "data": {
      "text/plain": [
       "['fazqhmcmsdpwzsovowzw',\n",
       " 'wepklddjuvuikpfdoppv',\n",
       " 'pqsjcvsahgsnayzexdyc',\n",
       " 'xexsvjifnpincnkkvjeu',\n",
       " 'dgqamnuljtpakxewizja',\n",
       " 'inzskkfanzziycrfuuwy',\n",
       " 'ebicfzavuxjpapyvyxkv',\n",
       " 'hyebnwafhrhemdmofybl',\n",
       " 'thpxdfmguckgtvirhhiy',\n",
       " 'qoxxgrdljncjozdwxlsv']"
      ]
     },
     "execution_count": 161,
     "metadata": {},
     "output_type": "execute_result"
    }
   ],
   "source": [
    "data[:10]"
   ]
  },
  {
   "cell_type": "code",
   "execution_count": 162,
   "id": "023f333a-577e-4267-a6ae-0bd00e1e4bce",
   "metadata": {},
   "outputs": [
    {
     "name": "stdout",
     "output_type": "stream",
     "text": [
      "Size: 3.974 MB\n"
     ]
    }
   ],
   "source": [
    "import sys\n",
    "print(f\"Size: {round(sys.getsizeof(data) / (1024 * 1024), 3)} MB\")"
   ]
  },
  {
   "cell_type": "code",
   "execution_count": 163,
   "id": "8859d749-896d-4b18-a37a-d3681a821109",
   "metadata": {},
   "outputs": [],
   "source": [
    "def map_func(data):\n",
    "    result = []\n",
    "    for string in data:\n",
    "        for char in string:\n",
    "            result.append((char, 1))\n",
    "    return result\n",
    "\n",
    "def reduce_func(data):\n",
    "    return sum(data)"
   ]
  },
  {
   "cell_type": "code",
   "execution_count": 167,
   "id": "8d2509d1-bf9f-447c-88c2-ca8629918e07",
   "metadata": {},
   "outputs": [],
   "source": [
    "res1 = local_cluster.mapreduce(data, map_func, reduce_func)"
   ]
  },
  {
   "cell_type": "code",
   "execution_count": 171,
   "id": "ea5cee9c-6ee6-49a9-9b8b-4cc67e702910",
   "metadata": {},
   "outputs": [
    {
     "name": "stdout",
     "output_type": "stream",
     "text": [
      "ac6dd1b99870\n"
     ]
    }
   ],
   "source": [
    "!docker kill ac6dd1b99870"
   ]
  },
  {
   "cell_type": "code",
   "execution_count": 134,
   "id": "b8c2820a-4e25-44e0-ac23-4f017be859c3",
   "metadata": {},
   "outputs": [
    {
     "data": {
      "text/plain": [
       "<Future at 0x7fc50f36f250 state=finished returned list>"
      ]
     },
     "execution_count": 134,
     "metadata": {},
     "output_type": "execute_result"
    }
   ],
   "source": [
    "res1"
   ]
  },
  {
   "cell_type": "code",
   "execution_count": 173,
   "id": "db647fa2-9902-4d60-9ee2-5515823c2e91",
   "metadata": {},
   "outputs": [
    {
     "name": "stdout",
     "output_type": "stream",
     "text": [
      "\n",
      "----------------- Zoo Masters -----------------\n",
      "Master b6f108b59f4b :  MasterInfo(state='nothing')\n",
      "\n",
      "----------------- Zoo Workers -----------------\n",
      "Worker ac6dd1b99870 :  WorkerInfo(state='idle')\n",
      "Worker fd3fc1fe66b1 :  WorkerInfo(state='idle')\n",
      "Worker 279a65a92e28 :  WorkerInfo(state='idle')\n",
      "\n",
      "----------------- Zoo Map Tasks -----------------\n",
      "Task 0_0 :  Task(state='completed', worker_hostname='ac6dd1b99870')\n",
      "Task 0_1 :  Task(state='completed', worker_hostname='ac6dd1b99870')\n",
      "Task 0_2 :  Task(state='completed', worker_hostname='fd3fc1fe66b1')\n",
      "Task 0_3 :  Task(state='completed', worker_hostname='279a65a92e28')\n",
      "\n",
      "----------------- Zoo Shuffle Tasks -----------------\n",
      "Task 0 :  Task(state='completed', worker_hostname='ac6dd1b99870')\n",
      "\n",
      "----------------- Zoo Reduce Tasks -----------------\n",
      "Task 0_9_10_11_12_13_14_15_16_17 :  Task(state='completed', worker_hostname='fd3fc1fe66b1')\n",
      "Task 0_18_19_20_21_22_23_24_25 :  Task(state='completed', worker_hostname='279a65a92e28')\n",
      "Task 0_0_1_2_3_4_5_6_7_8 :  Task(state='completed', worker_hostname='ac6dd1b99870')\n",
      "\n",
      "----------------- Zoo Jobs ---------------------\n",
      "Job 0 :  Job(state='completed', requested_n_workers=None, master_hostname='b6f108b59f4b')\n"
     ]
    }
   ],
   "source": [
    "local_monitoring.print_zoo()"
   ]
  },
  {
   "cell_type": "code",
   "execution_count": 165,
   "id": "cede5a30-7938-495d-a989-297260d32206",
   "metadata": {
    "scrolled": true
   },
   "outputs": [],
   "source": [
    "local_monitoring.print_hdfs('jobs')"
   ]
  },
  {
   "cell_type": "code",
   "execution_count": null,
   "id": "e8d81aec-9cd2-42e9-901f-ec409ef13283",
   "metadata": {},
   "outputs": [],
   "source": []
  },
  {
   "cell_type": "code",
   "execution_count": null,
   "id": "fada6f3a-23fa-49c2-beaa-a48e884f3b2a",
   "metadata": {},
   "outputs": [],
   "source": []
  },
  {
   "cell_type": "code",
   "execution_count": null,
   "id": "82de2c15-6cdb-405f-bf3f-4b0ca65ddaee",
   "metadata": {},
   "outputs": [],
   "source": []
  },
  {
   "cell_type": "code",
   "execution_count": 174,
   "id": "5be1f2c9-384d-4d8e-bad4-4c5f563c36c0",
   "metadata": {
    "scrolled": true
   },
   "outputs": [],
   "source": [
    "local_cluster.shutdown_cluster(delete_hdfs_jobs=True)"
   ]
  }
 ],
 "metadata": {
  "kernelspec": {
   "display_name": "Python [conda env:mapreduce] *",
   "language": "python",
   "name": "conda-env-mapreduce-py"
  },
  "language_info": {
   "codemirror_mode": {
    "name": "ipython",
    "version": 3
   },
   "file_extension": ".py",
   "mimetype": "text/x-python",
   "name": "python",
   "nbconvert_exporter": "python",
   "pygments_lexer": "ipython3",
   "version": "3.11.3"
  }
 },
 "nbformat": 4,
 "nbformat_minor": 5
}
