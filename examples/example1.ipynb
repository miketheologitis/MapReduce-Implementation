{
 "cells": [
  {
   "cell_type": "code",
   "execution_count": 1,
   "id": "eed0ac3e-05af-49d6-9b39-814e9b47e980",
   "metadata": {},
   "outputs": [],
   "source": [
    "import sys\n",
    "sys.path.append('/home/miketheologitis/MapReduce-Implementation')\n",
    "\n",
    "from mapreduce.cluster.local_cluster import LocalCluster"
   ]
  },
  {
   "cell_type": "code",
   "execution_count": 2,
   "id": "e9e3625f-8225-42f7-80eb-b08039b3c978",
   "metadata": {},
   "outputs": [],
   "source": [
    "local_cluster = LocalCluster(\n",
    "    n_workers=4,\n",
    "    n_masters=1,\n",
    "    initialize=True,\n",
    "    verbose=False\n",
    ")"
   ]
  },
  {
   "cell_type": "code",
   "execution_count": 4,
   "id": "8625574b-a46e-4d8b-accd-e4d9855cabca",
   "metadata": {},
   "outputs": [],
   "source": [
    "local_monitoring = local_cluster.local_monitoring"
   ]
  },
  {
   "cell_type": "code",
   "execution_count": null,
   "id": "6e426411-51ab-41a1-9a86-772c963c48fc",
   "metadata": {},
   "outputs": [],
   "source": []
  },
  {
   "cell_type": "code",
   "execution_count": 7,
   "id": "8859d749-896d-4b18-a37a-d3681a821109",
   "metadata": {},
   "outputs": [],
   "source": [
    "data = [\"mike1\", \"george\", \"1g2eommrg3\", \"1g2eommrg3\", \"1g2eommrg3\", \"1g2eommrg3\", \"1g2eommrg3\",\n",
    "        \"1g2eommrg3\", \"1g2eomdasdsadsadisadjiojdsjsadissiadjadsdisjaidjsamrg3\"]\n",
    "\n",
    "def map_func(data):\n",
    "    result = []\n",
    "    for string in data:\n",
    "        for char in string:\n",
    "            result.append((char, 1))\n",
    "    return result\n",
    "\n",
    "def reduce_func(data):\n",
    "    return sum(data)"
   ]
  },
  {
   "cell_type": "code",
   "execution_count": 17,
   "id": "8d2509d1-bf9f-447c-88c2-ca8629918e07",
   "metadata": {},
   "outputs": [],
   "source": [
    "res1 = local_cluster.mapreduce(data, map_func, reduce_func)"
   ]
  },
  {
   "cell_type": "code",
   "execution_count": null,
   "id": "afbc4684-ad67-4365-ac0d-7ad51dd3b75d",
   "metadata": {},
   "outputs": [],
   "source": []
  },
  {
   "cell_type": "code",
   "execution_count": null,
   "id": "b8c2820a-4e25-44e0-ac23-4f017be859c3",
   "metadata": {},
   "outputs": [],
   "source": []
  },
  {
   "cell_type": "code",
   "execution_count": 26,
   "id": "db647fa2-9902-4d60-9ee2-5515823c2e91",
   "metadata": {
    "scrolled": true
   },
   "outputs": [
    {
     "name": "stdout",
     "output_type": "stream",
     "text": [
      "\n",
      "----------------- Zoo Masters -----------------\n",
      "Master 0c433164f423 :  MasterInfo(state='nothing')\n",
      "\n",
      "----------------- Zoo Workers -----------------\n",
      "Worker b7d149de12cb :  WorkerInfo(state='idle')\n",
      "Worker a8c7469838c3 :  WorkerInfo(state='idle')\n",
      "Worker 68518c1b131b :  WorkerInfo(state='idle')\n",
      "Worker 980c09f4de32 :  WorkerInfo(state='idle')\n",
      "\n",
      "----------------- Zoo Map Tasks -----------------\n",
      "Task 0_0 :  Task(state='completed', worker_hostname='b7d149de12cb')\n",
      "Task 0_1 :  Task(state='completed', worker_hostname='a8c7469838c3')\n",
      "Task 1_0 :  Task(state='completed', worker_hostname='b7d149de12cb')\n",
      "Task 0_2 :  Task(state='completed', worker_hostname='68518c1b131b')\n",
      "Task 1_1 :  Task(state='completed', worker_hostname='a8c7469838c3')\n",
      "Task 2_0 :  Task(state='completed', worker_hostname='a8c7469838c3')\n",
      "Task 0_3 :  Task(state='completed', worker_hostname='980c09f4de32')\n",
      "Task 1_2 :  Task(state='completed', worker_hostname='68518c1b131b')\n",
      "Task 2_1 :  Task(state='completed', worker_hostname='68518c1b131b')\n",
      "Task 3_0 :  Task(state='completed', worker_hostname='68518c1b131b')\n",
      "Task 1_3 :  Task(state='completed', worker_hostname='980c09f4de32')\n",
      "Task 2_2 :  Task(state='completed', worker_hostname='980c09f4de32')\n",
      "Task 4_0 :  Task(state='completed', worker_hostname='a8c7469838c3')\n",
      "Task 4_1 :  Task(state='completed', worker_hostname='68518c1b131b')\n",
      "Task 5_0 :  Task(state='completed', worker_hostname='a8c7469838c3')\n",
      "Task 4_2 :  Task(state='completed', worker_hostname='980c09f4de32')\n",
      "Task 5_1 :  Task(state='completed', worker_hostname='68518c1b131b')\n",
      "Task 5_2 :  Task(state='completed', worker_hostname='980c09f4de32')\n",
      "\n",
      "----------------- Zoo Shuffle Tasks -----------------\n",
      "Task 0 :  Task(state='completed', worker_hostname='b7d149de12cb')\n",
      "Task 1 :  Task(state='completed', worker_hostname='b7d149de12cb')\n",
      "Task 2 :  Task(state='completed', worker_hostname='b7d149de12cb')\n",
      "Task 3 :  Task(state='completed', worker_hostname='b7d149de12cb')\n",
      "Task 4 :  Task(state='completed', worker_hostname='a8c7469838c3')\n",
      "Task 5 :  Task(state='completed', worker_hostname='a8c7469838c3')\n",
      "\n",
      "----------------- Zoo Reduce Tasks -----------------\n",
      "Task 3_5_6_7_8_9 :  Task(state='completed', worker_hostname='68518c1b131b')\n",
      "Task 5_11_12_13 :  Task(state='completed', worker_hostname='980c09f4de32')\n",
      "Task 4_0_1_2_3 :  Task(state='completed', worker_hostname='b7d149de12cb')\n",
      "Task 4_4_5_6_7 :  Task(state='completed', worker_hostname='a8c7469838c3')\n",
      "Task 4_8_9_10 :  Task(state='completed', worker_hostname='68518c1b131b')\n",
      "Task 5_8_9_10 :  Task(state='completed', worker_hostname='68518c1b131b')\n",
      "Task 1_11_12_13 :  Task(state='completed', worker_hostname='980c09f4de32')\n",
      "Task 1_4_5_6_7 :  Task(state='completed', worker_hostname='a8c7469838c3')\n",
      "Task 0_11_12_13 :  Task(state='completed', worker_hostname='980c09f4de32')\n",
      "Task 2_5_6_7_8_9 :  Task(state='completed', worker_hostname='68518c1b131b')\n",
      "Task 4_11_12_13 :  Task(state='completed', worker_hostname='980c09f4de32')\n",
      "Task 0_0_1_2_3 :  Task(state='completed', worker_hostname='b7d149de12cb')\n",
      "Task 0_4_5_6_7 :  Task(state='completed', worker_hostname='a8c7469838c3')\n",
      "Task 2_10_11_12_13 :  Task(state='completed', worker_hostname='980c09f4de32')\n",
      "Task 1_0_1_2_3 :  Task(state='completed', worker_hostname='b7d149de12cb')\n",
      "Task 1_8_9_10 :  Task(state='completed', worker_hostname='68518c1b131b')\n",
      "Task 0_8_9_10 :  Task(state='completed', worker_hostname='68518c1b131b')\n",
      "Task 2_0_1_2_3_4 :  Task(state='completed', worker_hostname='b7d149de12cb')\n",
      "Task 3_10_11_12_13 :  Task(state='completed', worker_hostname='980c09f4de32')\n",
      "Task 3_0_1_2_3_4 :  Task(state='completed', worker_hostname='b7d149de12cb')\n",
      "Task 5_4_5_6_7 :  Task(state='completed', worker_hostname='a8c7469838c3')\n",
      "Task 5_0_1_2_3 :  Task(state='completed', worker_hostname='b7d149de12cb')\n",
      "\n",
      "----------------- Zoo Jobs ---------------------\n",
      "Job 0 :  Job(state='completed', requested_n_workers=None, master_hostname='0c433164f423')\n",
      "Job 1 :  Job(state='completed', requested_n_workers=None, master_hostname='0c433164f423')\n",
      "Job 2 :  Job(state='completed', requested_n_workers=None, master_hostname='0c433164f423')\n",
      "Job 3 :  Job(state='completed', requested_n_workers=None, master_hostname='0c433164f423')\n",
      "Job 4 :  Job(state='completed', requested_n_workers=None, master_hostname='0c433164f423')\n",
      "Job 5 :  Job(state='completed', requested_n_workers=None, master_hostname='0c433164f423')\n"
     ]
    }
   ],
   "source": [
    "local_monitoring.print_zoo()\n",
    "local_monitoring.print_hdfs('jobs')"
   ]
  },
  {
   "cell_type": "code",
   "execution_count": null,
   "id": "e8d81aec-9cd2-42e9-901f-ec409ef13283",
   "metadata": {},
   "outputs": [],
   "source": []
  },
  {
   "cell_type": "code",
   "execution_count": 27,
   "id": "5be1f2c9-384d-4d8e-bad4-4c5f563c36c0",
   "metadata": {},
   "outputs": [],
   "source": [
    "local_cluster.shutdown_cluster(delete_hdfs_jobs=True)"
   ]
  },
  {
   "cell_type": "code",
   "execution_count": null,
   "id": "eca6df95-b429-487b-9458-f498873b643c",
   "metadata": {},
   "outputs": [],
   "source": []
  },
  {
   "cell_type": "code",
   "execution_count": null,
   "id": "2beef290-0fac-4b03-81fb-dff32ccad1db",
   "metadata": {},
   "outputs": [],
   "source": []
  },
  {
   "cell_type": "code",
   "execution_count": null,
   "id": "32e3216b-1355-4064-ab01-517b4b47dc58",
   "metadata": {},
   "outputs": [],
   "source": []
  },
  {
   "cell_type": "code",
   "execution_count": null,
   "id": "7e5a39ba-7b3c-470d-b328-47cb26da4738",
   "metadata": {},
   "outputs": [],
   "source": []
  },
  {
   "cell_type": "code",
   "execution_count": null,
   "id": "5b77e6cc-e6b2-48a1-a1b5-bcdd06cf4129",
   "metadata": {},
   "outputs": [],
   "source": []
  },
  {
   "cell_type": "code",
   "execution_count": null,
   "id": "9396e344-59bf-4cdc-bc3f-3a2cd8357a79",
   "metadata": {},
   "outputs": [],
   "source": []
  },
  {
   "cell_type": "code",
   "execution_count": null,
   "id": "bded2222-d102-4b5f-9667-419977091182",
   "metadata": {},
   "outputs": [],
   "source": []
  },
  {
   "cell_type": "code",
   "execution_count": null,
   "id": "a6154ecb-38eb-40ab-862c-5bcbe3b6eb9e",
   "metadata": {},
   "outputs": [],
   "source": []
  }
 ],
 "metadata": {
  "kernelspec": {
   "display_name": "Python [conda env:mapreduce] *",
   "language": "python",
   "name": "conda-env-mapreduce-py"
  },
  "language_info": {
   "codemirror_mode": {
    "name": "ipython",
    "version": 3
   },
   "file_extension": ".py",
   "mimetype": "text/x-python",
   "name": "python",
   "nbconvert_exporter": "python",
   "pygments_lexer": "ipython3",
   "version": "3.11.3"
  }
 },
 "nbformat": 4,
 "nbformat_minor": 5
}
