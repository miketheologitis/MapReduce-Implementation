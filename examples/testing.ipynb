{
 "cells": [
  {
   "cell_type": "code",
   "execution_count": 29,
   "id": "eed0ac3e-05af-49d6-9b39-814e9b47e980",
   "metadata": {},
   "outputs": [],
   "source": [
    "import sys\n",
    "sys.path.append('/home/miketheologitis/MapReduce-Implementation')\n",
    "\n",
    "from mapreduce.cluster.local_cluster import LocalCluster"
   ]
  },
  {
   "cell_type": "code",
   "execution_count": 18,
   "id": "e9e3625f-8225-42f7-80eb-b08039b3c978",
   "metadata": {},
   "outputs": [],
   "source": [
    "local_cluster = LocalCluster(\n",
    "    n_workers=4,\n",
    "    n_masters=1,\n",
    "    initialize=True,\n",
    "    verbose=False\n",
    ")"
   ]
  },
  {
   "cell_type": "code",
   "execution_count": 19,
   "id": "08cc9dea-0081-42fa-bba0-0885c768bae3",
   "metadata": {},
   "outputs": [],
   "source": [
    "hdfs_client = local_cluster.get_hdfs_client()\n",
    "zk_client = local_cluster.get_zk_client()\n",
    "\n",
    "def print_hdfs():\n",
    "    for job in hdfs_client.hdfs.list('jobs'):\n",
    "        print(f'{job}/')\n",
    "        print('\\tdata.pickle')\n",
    "        print('\\tmap_func.pickle')\n",
    "        print('\\treduce_func.pickle')\n",
    "        print('\\tmap_tasks/')\n",
    "        for file in hdfs_client.hdfs.list(f'jobs/{job}/map_tasks'):\n",
    "            print(f'\\t\\t{file}')\n",
    "        print('\\tmap_results/')\n",
    "        for file in hdfs_client.hdfs.list(f'jobs/{job}/map_results'):\n",
    "            print(f'\\t\\t{file}')\n",
    "        print('\\tshuffle_results/')\n",
    "        for file in hdfs_client.hdfs.list(f'jobs/{job}/shuffle_results'):\n",
    "            print(f'\\t\\t{file}')\n",
    "        print('\\treduce_results/')\n",
    "        for file in hdfs_client.hdfs.list(f'jobs/{job}/reduce_results'):\n",
    "            print(f'\\t\\t{file}')\n",
    "\n",
    "def print_zoo():\n",
    "    print()\n",
    "    print(\"--------------- Zoo Masters -----------------\")\n",
    "    for file in zk_client.zk.get_children('/masters'):\n",
    "        print(f'Master {file} :  {zk_client.get(f\"/masters/{file}\")}')\n",
    "    \n",
    "    print()\n",
    "    \n",
    "    print(\"--------------- Zoo Workers -----------------\")\n",
    "    for file in zk_client.zk.get_children('/workers'):\n",
    "        print(f'Worker {file} :  {zk_client.get(f\"/workers/{file}\")}')\n",
    "    \n",
    "    print()\n",
    "    \n",
    "    print(\"--------------- Zoo Map Tasks -----------------\")\n",
    "    for file in zk_client.zk.get_children('/map_tasks'):\n",
    "        print(f'Task {file} :  {zk_client.get(f\"/map_tasks/{file}\")}')\n",
    "    \n",
    "    print()\n",
    "    \n",
    "    print(\"--------------- Zoo Shuffle Tasks -----------------\")\n",
    "    for file in zk_client.zk.get_children('/shuffle_tasks'):\n",
    "        print(f'Task {file} :  {zk_client.get(f\"/shuffle_tasks/{file}\")}')\n",
    "    \n",
    "    print()\n",
    "    \n",
    "    print(\"--------------- Zoo Reduce Tasks -----------------\")\n",
    "    for file in zk_client.zk.get_children('/reduce_tasks'):\n",
    "        print(f'Task {file} :  {zk_client.get(f\"/reduce_tasks/{file}\")}')\n",
    "    \n",
    "    print()\n",
    "    \n",
    "    print(\"--------------- Zoo Jobs -----------------\")\n",
    "    for file in zk_client.zk.get_children('/jobs'):\n",
    "        print(f'Job {file} :  {zk_client.get(f\"/jobs/{file}\")}')"
   ]
  },
  {
   "cell_type": "code",
   "execution_count": null,
   "id": "db647fa2-9902-4d60-9ee2-5515823c2e91",
   "metadata": {},
   "outputs": [],
   "source": []
  },
  {
   "cell_type": "code",
   "execution_count": 20,
   "id": "51217fe3-744a-4a5c-acf0-2c9fce3470ac",
   "metadata": {},
   "outputs": [
    {
     "name": "stdout",
     "output_type": "stream",
     "text": [
      "\n",
      "--------------- Zoo Masters -----------------\n",
      "Master 86785d5a7081 :  MasterInfo(state='nothing')\n",
      "\n",
      "--------------- Zoo Workers -----------------\n",
      "Worker b6064543b8ad :  WorkerInfo(state='idle')\n",
      "Worker 3906fc1febf0 :  WorkerInfo(state='idle')\n",
      "Worker a493699d04d0 :  WorkerInfo(state='idle')\n",
      "Worker f7c4df601035 :  WorkerInfo(state='idle')\n",
      "\n",
      "--------------- Zoo Map Tasks -----------------\n",
      "\n",
      "--------------- Zoo Shuffle Tasks -----------------\n",
      "\n",
      "--------------- Zoo Reduce Tasks -----------------\n",
      "\n",
      "--------------- Zoo Jobs -----------------\n"
     ]
    }
   ],
   "source": [
    "print_zoo()"
   ]
  },
  {
   "cell_type": "code",
   "execution_count": 21,
   "id": "d9022ffb-b32f-4a32-86e6-91559d2d9728",
   "metadata": {},
   "outputs": [],
   "source": [
    "print_hdfs()"
   ]
  },
  {
   "cell_type": "code",
   "execution_count": null,
   "id": "b6c47e77-9d30-497f-a835-d9399f06c667",
   "metadata": {},
   "outputs": [],
   "source": []
  },
  {
   "cell_type": "code",
   "execution_count": null,
   "id": "6db80f9b-34f6-403b-b1c8-add60f88fc79",
   "metadata": {},
   "outputs": [],
   "source": []
  },
  {
   "cell_type": "code",
   "execution_count": null,
   "id": "baafd99b-40c9-4cbe-a8ae-390d98e91be9",
   "metadata": {},
   "outputs": [],
   "source": []
  },
  {
   "cell_type": "code",
   "execution_count": 23,
   "id": "3e154363-bcb2-4dce-b8f2-9ab609717640",
   "metadata": {},
   "outputs": [],
   "source": [
    "def print_hdfs(client, path, indent=''):\n",
    "    # Retrieve the content of the path.\n",
    "    content = client.list(path, status=True)\n",
    "\n",
    "    # Iterate over each item.\n",
    "    for name, stats in content:\n",
    "        if stats['type'] == 'DIRECTORY':\n",
    "            print(f'{indent}{name}/')\n",
    "            # If the item is a directory, recurse.\n",
    "            print_hdfs(client, f'{path}/{name}', indent + '  ')\n",
    "        else:\n",
    "            print(f'{indent}{name}')"
   ]
  },
  {
   "cell_type": "code",
   "execution_count": 27,
   "id": "b956489e-6de1-439c-948d-0849bd88595f",
   "metadata": {},
   "outputs": [
    {
     "data": {
      "text/plain": [
       "<mapreduce.monitoring.local_monitoring.LocalMonitoring at 0x7f8a5c559610>"
      ]
     },
     "execution_count": 27,
     "metadata": {},
     "output_type": "execute_result"
    }
   ],
   "source": [
    "local_cluster.local_monitoring."
   ]
  },
  {
   "cell_type": "code",
   "execution_count": null,
   "id": "cd73af26-eeea-4dbc-bf37-dd15845bcef1",
   "metadata": {},
   "outputs": [],
   "source": []
  },
  {
   "cell_type": "code",
   "execution_count": null,
   "id": "e8d81aec-9cd2-42e9-901f-ec409ef13283",
   "metadata": {},
   "outputs": [],
   "source": []
  },
  {
   "cell_type": "code",
   "execution_count": 28,
   "id": "5be1f2c9-384d-4d8e-bad4-4c5f563c36c0",
   "metadata": {},
   "outputs": [],
   "source": [
    "local_cluster.shutdown_cluster(delete_hdfs_jobs=True)"
   ]
  },
  {
   "cell_type": "code",
   "execution_count": null,
   "id": "eca6df95-b429-487b-9458-f498873b643c",
   "metadata": {},
   "outputs": [],
   "source": []
  },
  {
   "cell_type": "code",
   "execution_count": null,
   "id": "2beef290-0fac-4b03-81fb-dff32ccad1db",
   "metadata": {},
   "outputs": [],
   "source": []
  },
  {
   "cell_type": "code",
   "execution_count": null,
   "id": "32e3216b-1355-4064-ab01-517b4b47dc58",
   "metadata": {},
   "outputs": [],
   "source": []
  },
  {
   "cell_type": "code",
   "execution_count": null,
   "id": "7e5a39ba-7b3c-470d-b328-47cb26da4738",
   "metadata": {},
   "outputs": [],
   "source": []
  },
  {
   "cell_type": "code",
   "execution_count": null,
   "id": "5b77e6cc-e6b2-48a1-a1b5-bcdd06cf4129",
   "metadata": {},
   "outputs": [],
   "source": []
  },
  {
   "cell_type": "code",
   "execution_count": null,
   "id": "9396e344-59bf-4cdc-bc3f-3a2cd8357a79",
   "metadata": {},
   "outputs": [],
   "source": []
  },
  {
   "cell_type": "code",
   "execution_count": null,
   "id": "bded2222-d102-4b5f-9667-419977091182",
   "metadata": {},
   "outputs": [],
   "source": []
  },
  {
   "cell_type": "code",
   "execution_count": null,
   "id": "a6154ecb-38eb-40ab-862c-5bcbe3b6eb9e",
   "metadata": {},
   "outputs": [],
   "source": []
  }
 ],
 "metadata": {
  "kernelspec": {
   "display_name": "Python [conda env:mapreduce] *",
   "language": "python",
   "name": "conda-env-mapreduce-py"
  },
  "language_info": {
   "codemirror_mode": {
    "name": "ipython",
    "version": 3
   },
   "file_extension": ".py",
   "mimetype": "text/x-python",
   "name": "python",
   "nbconvert_exporter": "python",
   "pygments_lexer": "ipython3",
   "version": "3.11.3"
  }
 },
 "nbformat": 4,
 "nbformat_minor": 5
}
