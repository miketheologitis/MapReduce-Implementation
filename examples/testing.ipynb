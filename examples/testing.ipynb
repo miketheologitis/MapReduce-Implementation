{
 "cells": [
  {
   "cell_type": "code",
   "execution_count": 108,
   "id": "eed0ac3e-05af-49d6-9b39-814e9b47e980",
   "metadata": {},
   "outputs": [],
   "source": [
    "import sys\n",
    "sys.path.append('/home/miketheologitis/MapReduce-Implementation')\n",
    "\n",
    "from src.cluster.local_cluster import LocalCluster"
   ]
  },
  {
   "cell_type": "code",
   "execution_count": 109,
   "id": "e9e3625f-8225-42f7-80eb-b08039b3c978",
   "metadata": {},
   "outputs": [],
   "source": [
    "local_cluster = LocalCluster(\n",
    "    n_workers=4,\n",
    "    n_masters=1,\n",
    "    initialize=True,\n",
    "    verbose=False\n",
    ")"
   ]
  },
  {
   "cell_type": "code",
   "execution_count": 113,
   "id": "08cc9dea-0081-42fa-bba0-0885c768bae3",
   "metadata": {},
   "outputs": [],
   "source": [
    "hdfs_client = local_cluster.get_hdfs_client()\n",
    "zk_client = local_cluster.get_zk_client()\n",
    "\n",
    "def print_hdfs():\n",
    "    for job in hdfs_client.hdfs.list('jobs'):\n",
    "        print(f'{job}/')\n",
    "        print('\\tdata.pickle')\n",
    "        print('\\tmap_func.pickle')\n",
    "        print('\\treduce_func.pickle')\n",
    "        print('\\tmap_tasks/')\n",
    "        for file in hdfs_client.hdfs.list(f'jobs/{job}/map_tasks'):\n",
    "            print(f'\\t\\t{file}')\n",
    "        print('\\tmap_results/')\n",
    "        for file in hdfs_client.hdfs.list(f'jobs/{job}/map_results'):\n",
    "            print(f'\\t\\t{file}')\n",
    "        print('\\tshuffle_results/')\n",
    "        for file in hdfs_client.hdfs.list(f'jobs/{job}/shuffle_results'):\n",
    "            print(f'\\t\\t{file}')\n",
    "        print('\\treduce_results/')\n",
    "        for file in hdfs_client.hdfs.list(f'jobs/{job}/reduce_results'):\n",
    "            print(f'\\t\\t{file}')\n",
    "\n",
    "def print_zoo():\n",
    "    print()\n",
    "    print(\"--------------- Zoo Masters -----------------\")\n",
    "    for file in zk_client.zk.get_children('/masters'):\n",
    "        print(f'Master {file} :  {zk_client.get(f\"/masters/{file}\")}')\n",
    "    \n",
    "    print()\n",
    "    \n",
    "    print(\"--------------- Zoo Workers -----------------\")\n",
    "    for file in zk_client.zk.get_children('/workers'):\n",
    "        print(f'Worker {file} :  {zk_client.get(f\"/workers/{file}\")}')\n",
    "    \n",
    "    print()\n",
    "    \n",
    "    print(\"--------------- Zoo Map Tasks -----------------\")\n",
    "    for file in zk_client.zk.get_children('/map_tasks'):\n",
    "        print(f'Task {file} :  {zk_client.get(f\"/map_tasks/{file}\")}')\n",
    "    \n",
    "    print()\n",
    "    \n",
    "    print(\"--------------- Zoo Shuffle Tasks -----------------\")\n",
    "    for file in zk_client.zk.get_children('/shuffle_tasks'):\n",
    "        print(f'Task {file} :  {zk_client.get(f\"/shuffle_tasks/{file}\")}')\n",
    "    \n",
    "    print()\n",
    "    \n",
    "    print(\"--------------- Zoo Reduce Tasks -----------------\")\n",
    "    for file in zk_client.zk.get_children('/reduce_tasks'):\n",
    "        print(f'Task {file} :  {zk_client.get(f\"/reduce_tasks/{file}\")}')\n",
    "    \n",
    "    print()\n",
    "    \n",
    "    print(\"--------------- Zoo Jobs -----------------\")\n",
    "    for file in zk_client.zk.get_children('/jobs'):\n",
    "        print(f'Job {file} :  {zk_client.get(f\"/jobs/{file}\")}')"
   ]
  },
  {
   "cell_type": "code",
   "execution_count": null,
   "id": "db647fa2-9902-4d60-9ee2-5515823c2e91",
   "metadata": {},
   "outputs": [],
   "source": []
  },
  {
   "cell_type": "code",
   "execution_count": 116,
   "id": "51217fe3-744a-4a5c-acf0-2c9fce3470ac",
   "metadata": {},
   "outputs": [
    {
     "name": "stdout",
     "output_type": "stream",
     "text": [
      "\n",
      "--------------- Zoo Masters -----------------\n",
      "Master c41c824aebd9 :  MasterInfo(state='nothing')\n",
      "\n",
      "--------------- Zoo Workers -----------------\n",
      "Worker 216066fa2324 :  WorkerInfo(state='idle')\n",
      "Worker b043dc7d8ecd :  WorkerInfo(state='in-task')\n",
      "Worker 28ee6b038b9e :  WorkerInfo(state='in-task')\n",
      "Worker 79cb94e34606 :  WorkerInfo(state='in-task')\n",
      "\n",
      "--------------- Zoo Map Tasks -----------------\n",
      "Task 0_0 :  Task(state='completed', worker_hostname='216066fa2324')\n",
      "Task 0_1 :  Task(state='completed', worker_hostname='b043dc7d8ecd')\n",
      "Task 0_2 :  Task(state='completed', worker_hostname='28ee6b038b9e')\n",
      "Task 0_3 :  Task(state='completed', worker_hostname='79cb94e34606')\n",
      "\n",
      "--------------- Zoo Shuffle Tasks -----------------\n",
      "Task 0 :  Task(state='completed', worker_hostname='216066fa2324')\n",
      "\n",
      "--------------- Zoo Reduce Tasks -----------------\n",
      "Task 0_0_1_2_3_4_5_6_7_8_9_10_11_12_13 :  Task(state='completed', worker_hostname='216066fa2324')\n",
      "\n",
      "--------------- Zoo Jobs -----------------\n",
      "Job 0 :  Job(state='completed', requested_n_workers=None, master_hostname='c41c824aebd9')\n"
     ]
    }
   ],
   "source": [
    "print_zoo()"
   ]
  },
  {
   "cell_type": "code",
   "execution_count": 117,
   "id": "d9022ffb-b32f-4a32-86e6-91559d2d9728",
   "metadata": {},
   "outputs": [
    {
     "name": "stdout",
     "output_type": "stream",
     "text": [
      "job_0/\n",
      "\tdata.pickle\n",
      "\tmap_func.pickle\n",
      "\treduce_func.pickle\n",
      "\tmap_tasks/\n",
      "\t\t0.pickle\n",
      "\t\t1.pickle\n",
      "\t\t2.pickle\n",
      "\t\t3.pickle\n",
      "\tmap_results/\n",
      "\t\t0.pickle\n",
      "\t\t1.pickle\n",
      "\t\t2.pickle\n",
      "\t\t3.pickle\n",
      "\tshuffle_results/\n",
      "\t\t0.pickle\n",
      "\t\t1.pickle\n",
      "\t\t10.pickle\n",
      "\t\t11.pickle\n",
      "\t\t12.pickle\n",
      "\t\t13.pickle\n",
      "\t\t2.pickle\n",
      "\t\t3.pickle\n",
      "\t\t4.pickle\n",
      "\t\t5.pickle\n",
      "\t\t6.pickle\n",
      "\t\t7.pickle\n",
      "\t\t8.pickle\n",
      "\t\t9.pickle\n",
      "\treduce_results/\n",
      "\t\t0_1_2_3_4_5_6_7_8_9_10_11_12_13.pickle\n"
     ]
    }
   ],
   "source": [
    "print_hdfs()"
   ]
  },
  {
   "cell_type": "code",
   "execution_count": null,
   "id": "285d6293-505d-4769-a81b-2f3e5a3c915c",
   "metadata": {},
   "outputs": [],
   "source": []
  },
  {
   "cell_type": "code",
   "execution_count": null,
   "id": "7398d3ca-69a7-4052-a9c5-df93d5941990",
   "metadata": {},
   "outputs": [],
   "source": []
  },
  {
   "cell_type": "code",
   "execution_count": null,
   "id": "41ee82e9-f021-45c4-bd2a-8c58c241f820",
   "metadata": {},
   "outputs": [],
   "source": []
  },
  {
   "cell_type": "code",
   "execution_count": 118,
   "id": "5be1f2c9-384d-4d8e-bad4-4c5f563c36c0",
   "metadata": {},
   "outputs": [],
   "source": [
    "local_cluster.shutdown_cluster(delete_hdfs_jobs=True)"
   ]
  },
  {
   "cell_type": "code",
   "execution_count": null,
   "id": "eca6df95-b429-487b-9458-f498873b643c",
   "metadata": {},
   "outputs": [],
   "source": []
  }
 ],
 "metadata": {
  "kernelspec": {
   "display_name": "Python [conda env:mapreduce] *",
   "language": "python",
   "name": "conda-env-mapreduce-py"
  },
  "language_info": {
   "codemirror_mode": {
    "name": "ipython",
    "version": 3
   },
   "file_extension": ".py",
   "mimetype": "text/x-python",
   "name": "python",
   "nbconvert_exporter": "python",
   "pygments_lexer": "ipython3",
   "version": "3.11.3"
  }
 },
 "nbformat": 4,
 "nbformat_minor": 5
}
