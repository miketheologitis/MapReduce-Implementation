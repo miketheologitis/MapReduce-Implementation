{
 "cells": [
  {
   "cell_type": "code",
   "execution_count": 645,
   "id": "eed0ac3e-05af-49d6-9b39-814e9b47e980",
   "metadata": {},
   "outputs": [],
   "source": [
    "import sys\n",
    "sys.path.append('/home/miketheologitis/MapReduce-Implementation')\n",
    "\n",
    "from src.cluster.local_cluster import LocalCluster"
   ]
  },
  {
   "cell_type": "code",
   "execution_count": 646,
   "id": "e9e3625f-8225-42f7-80eb-b08039b3c978",
   "metadata": {},
   "outputs": [],
   "source": [
    "local_cluster = LocalCluster(\n",
    "    n_workers=1,\n",
    "    n_masters=1,\n",
    "    initialize=True,\n",
    "    verbose=False\n",
    ")"
   ]
  },
  {
   "cell_type": "code",
   "execution_count": 647,
   "id": "e7cf2baa-952e-4293-8cf6-8f8d5bd7f496",
   "metadata": {},
   "outputs": [],
   "source": [
    "hdfs_client = local_cluster.get_hdfs_client()"
   ]
  },
  {
   "cell_type": "code",
   "execution_count": 648,
   "id": "08cc9dea-0081-42fa-bba0-0885c768bae3",
   "metadata": {},
   "outputs": [],
   "source": [
    "zk_client = local_cluster.get_zk_client()"
   ]
  },
  {
   "cell_type": "code",
   "execution_count": 654,
   "id": "19cb01a1-35f0-4bed-971c-8fb87d0fc83b",
   "metadata": {
    "scrolled": true
   },
   "outputs": [
    {
     "data": {
      "text/plain": [
       "['jobs']"
      ]
     },
     "execution_count": 654,
     "metadata": {},
     "output_type": "execute_result"
    }
   ],
   "source": [
    "hdfs_client.hdfs.list('')"
   ]
  },
  {
   "cell_type": "code",
   "execution_count": 655,
   "id": "101606df-ae16-40ff-960a-3b63fdfdba4c",
   "metadata": {},
   "outputs": [
    {
     "data": {
      "text/plain": [
       "['job_0']"
      ]
     },
     "execution_count": 655,
     "metadata": {},
     "output_type": "execute_result"
    }
   ],
   "source": [
    "hdfs_client.hdfs.list('jobs')"
   ]
  },
  {
   "cell_type": "code",
   "execution_count": 656,
   "id": "45d20351-9b5c-4c43-be6e-576c86fc1e14",
   "metadata": {
    "scrolled": true
   },
   "outputs": [
    {
     "data": {
      "text/plain": [
       "['data.pickle',\n",
       " 'map_func.pickle',\n",
       " 'map_results',\n",
       " 'map_tasks',\n",
       " 'reduce_func.pickle',\n",
       " 'reduce_results',\n",
       " 'reduce_tasks',\n",
       " 'shuffle_results']"
      ]
     },
     "execution_count": 656,
     "metadata": {},
     "output_type": "execute_result"
    }
   ],
   "source": [
    "hdfs_client.hdfs.list('jobs/job_0')"
   ]
  },
  {
   "cell_type": "code",
   "execution_count": 657,
   "id": "c4fa1365-d13f-4b99-8ba4-45b132fea8aa",
   "metadata": {
    "scrolled": true
   },
   "outputs": [
    {
     "data": {
      "text/plain": [
       "['0.pickle']"
      ]
     },
     "execution_count": 657,
     "metadata": {},
     "output_type": "execute_result"
    }
   ],
   "source": [
    "hdfs_client.hdfs.list('jobs/job_0/map_tasks')"
   ]
  },
  {
   "cell_type": "code",
   "execution_count": 658,
   "id": "60c9a051-9d84-47e5-a03b-4ea18e2ad923",
   "metadata": {},
   "outputs": [],
   "source": [
    "data = hdfs_client.get_data('jobs/job_0/map_results/0.pickle')"
   ]
  },
  {
   "cell_type": "code",
   "execution_count": 659,
   "id": "69c060bf-5e6c-48db-8735-dceda756af0d",
   "metadata": {
    "scrolled": true
   },
   "outputs": [
    {
     "data": {
      "text/plain": [
       "[('m', 1),\n",
       " ('i', 1),\n",
       " ('k', 1),\n",
       " ('e', 1),\n",
       " ('1', 1),\n",
       " ('g', 1),\n",
       " ('e', 1),\n",
       " ('o', 1),\n",
       " ('r', 1),\n",
       " ('g', 1),\n",
       " ('e', 1),\n",
       " ('1', 1),\n",
       " ('g', 1),\n",
       " ('2', 1),\n",
       " ('e', 1),\n",
       " ('o', 1),\n",
       " ('m', 1),\n",
       " ('m', 1),\n",
       " ('r', 1),\n",
       " ('g', 1),\n",
       " ('3', 1)]"
      ]
     },
     "execution_count": 659,
     "metadata": {},
     "output_type": "execute_result"
    }
   ],
   "source": [
    "data"
   ]
  },
  {
   "cell_type": "code",
   "execution_count": 660,
   "id": "50bdf004-62fd-4127-a9ad-eefe4f2ec92a",
   "metadata": {},
   "outputs": [
    {
     "data": {
      "text/plain": [
       "['0.pickle',\n",
       " '1.pickle',\n",
       " '2.pickle',\n",
       " '3.pickle',\n",
       " '4.pickle',\n",
       " '5.pickle',\n",
       " '6.pickle',\n",
       " '7.pickle',\n",
       " '8.pickle',\n",
       " '9.pickle']"
      ]
     },
     "execution_count": 660,
     "metadata": {},
     "output_type": "execute_result"
    }
   ],
   "source": [
    "hdfs_client.hdfs.list('jobs/job_0/shuffle_results')"
   ]
  },
  {
   "cell_type": "code",
   "execution_count": 661,
   "id": "51c21819-ff48-4181-80cd-0478c3f9e95b",
   "metadata": {},
   "outputs": [
    {
     "data": {
      "text/plain": [
       "['0_1_2_3_4_5_6_7_8_9.pickle']"
      ]
     },
     "execution_count": 661,
     "metadata": {},
     "output_type": "execute_result"
    }
   ],
   "source": [
    "hdfs_client.hdfs.list('jobs/job_0/reduce_results')"
   ]
  },
  {
   "cell_type": "code",
   "execution_count": 662,
   "id": "35dfdc96-ab6b-47af-8363-744be1e59eb2",
   "metadata": {},
   "outputs": [],
   "source": [
    "results = hdfs_client.get_data('jobs/job_0/reduce_results/0_1_2_3_4_5_6_7_8_9.pickle')"
   ]
  },
  {
   "cell_type": "code",
   "execution_count": 663,
   "id": "e5cf88f2-59dc-4246-b0a7-96e10e511846",
   "metadata": {},
   "outputs": [
    {
     "data": {
      "text/plain": [
       "[('1', 2),\n",
       " ('2', 1),\n",
       " ('3', 1),\n",
       " ('e', 4),\n",
       " ('g', 4),\n",
       " ('i', 1),\n",
       " ('k', 1),\n",
       " ('m', 3),\n",
       " ('o', 2),\n",
       " ('r', 2)]"
      ]
     },
     "execution_count": 663,
     "metadata": {},
     "output_type": "execute_result"
    }
   ],
   "source": [
    "results"
   ]
  },
  {
   "cell_type": "code",
   "execution_count": null,
   "id": "5725cbe3-b12f-4020-b69d-4f7b55a1f0d5",
   "metadata": {},
   "outputs": [],
   "source": []
  },
  {
   "cell_type": "code",
   "execution_count": null,
   "id": "660a4670-cf4d-4808-bad5-170cd683fdf6",
   "metadata": {},
   "outputs": [],
   "source": []
  },
  {
   "cell_type": "code",
   "execution_count": 664,
   "id": "f1dd6dde-56d7-4c94-a303-d92f487f1504",
   "metadata": {},
   "outputs": [
    {
     "data": {
      "text/plain": [
       "['zookeeper',\n",
       " 'reduce_tasks',\n",
       " 'map_tasks',\n",
       " 'jobs',\n",
       " 'generators',\n",
       " 'masters',\n",
       " 'workers',\n",
       " 'shuffle_tasks',\n",
       " 'locks']"
      ]
     },
     "execution_count": 664,
     "metadata": {},
     "output_type": "execute_result"
    }
   ],
   "source": [
    "zk_client.zk.get_children('')"
   ]
  },
  {
   "cell_type": "code",
   "execution_count": 665,
   "id": "eb00c253-a5a2-40a3-8fdb-3fa5bf1015c4",
   "metadata": {},
   "outputs": [
    {
     "data": {
      "text/plain": [
       "['664642f3bbc4']"
      ]
     },
     "execution_count": 665,
     "metadata": {},
     "output_type": "execute_result"
    }
   ],
   "source": [
    "zk_client.zk.get_children('workers')"
   ]
  },
  {
   "cell_type": "code",
   "execution_count": 666,
   "id": "ea21732a-be4b-4ab1-8c8d-c0907aa4ba10",
   "metadata": {},
   "outputs": [],
   "source": [
    "worker = zk_client.get(f'/workers/{zk_client.zk.get_children(\"workers\")[0]}')"
   ]
  },
  {
   "cell_type": "code",
   "execution_count": 667,
   "id": "b405c0e2-d5ac-4c46-8563-b97c19ac3314",
   "metadata": {},
   "outputs": [
    {
     "data": {
      "text/plain": [
       "WorkerInfo(state='idle')"
      ]
     },
     "execution_count": 667,
     "metadata": {},
     "output_type": "execute_result"
    }
   ],
   "source": [
    "worker"
   ]
  },
  {
   "cell_type": "code",
   "execution_count": 668,
   "id": "a3795d1e-75b0-402f-8b52-f25a8272c14b",
   "metadata": {},
   "outputs": [
    {
     "data": {
      "text/plain": [
       "['e338c88a0b31']"
      ]
     },
     "execution_count": 668,
     "metadata": {},
     "output_type": "execute_result"
    }
   ],
   "source": [
    "zk_client.zk.get_children('masters')"
   ]
  },
  {
   "cell_type": "code",
   "execution_count": 669,
   "id": "74d7fa84-6451-4661-97f4-a9fee6aba2c6",
   "metadata": {},
   "outputs": [
    {
     "data": {
      "text/plain": [
       "['0_0']"
      ]
     },
     "execution_count": 669,
     "metadata": {},
     "output_type": "execute_result"
    }
   ],
   "source": [
    "zk_client.zk.get_children('/map_tasks')"
   ]
  },
  {
   "cell_type": "code",
   "execution_count": 670,
   "id": "9901f57f-103e-42be-b8e0-9db5a3e1a8fe",
   "metadata": {},
   "outputs": [],
   "source": [
    "task = zk_client.get('/map_tasks/0_0')"
   ]
  },
  {
   "cell_type": "code",
   "execution_count": 671,
   "id": "64472935-9220-44eb-8cdd-2cd2eef0b16a",
   "metadata": {},
   "outputs": [
    {
     "data": {
      "text/plain": [
       "Task(state='completed', worker_hostname='664642f3bbc4')"
      ]
     },
     "execution_count": 671,
     "metadata": {},
     "output_type": "execute_result"
    }
   ],
   "source": [
    "task"
   ]
  },
  {
   "cell_type": "code",
   "execution_count": 672,
   "id": "f091fb9f-6a55-4ed8-9cbe-f6400b634c96",
   "metadata": {},
   "outputs": [
    {
     "data": {
      "text/plain": [
       "['0']"
      ]
     },
     "execution_count": 672,
     "metadata": {},
     "output_type": "execute_result"
    }
   ],
   "source": [
    "zk_client.zk.get_children('/shuffle_tasks')"
   ]
  },
  {
   "cell_type": "code",
   "execution_count": 673,
   "id": "9c0ad245-b5e3-4c58-89a6-8f7a2b95e8bc",
   "metadata": {
    "scrolled": true
   },
   "outputs": [],
   "source": [
    "task = zk_client.get('/shuffle_tasks/0')"
   ]
  },
  {
   "cell_type": "code",
   "execution_count": 674,
   "id": "9d2a95d1-1dde-45fd-adda-5ca7e1499510",
   "metadata": {},
   "outputs": [
    {
     "data": {
      "text/plain": [
       "Task(state='completed', worker_hostname='664642f3bbc4')"
      ]
     },
     "execution_count": 674,
     "metadata": {},
     "output_type": "execute_result"
    }
   ],
   "source": [
    "task"
   ]
  },
  {
   "cell_type": "code",
   "execution_count": 675,
   "id": "fc9d4e0d-2534-477f-b2ec-92bf04a884c7",
   "metadata": {},
   "outputs": [
    {
     "data": {
      "text/plain": [
       "['0_0_1_2_3_4_5_6_7_8_9']"
      ]
     },
     "execution_count": 675,
     "metadata": {},
     "output_type": "execute_result"
    }
   ],
   "source": [
    "zk_client.zk.get_children('/reduce_tasks/')"
   ]
  },
  {
   "cell_type": "code",
   "execution_count": 676,
   "id": "988c0234-5887-40d2-a05d-8da3dc5d9790",
   "metadata": {},
   "outputs": [],
   "source": [
    "task = zk_client.get(f'/reduce_tasks/{zk_client.zk.get_children(\"/reduce_tasks/\")[0]}')"
   ]
  },
  {
   "cell_type": "code",
   "execution_count": 677,
   "id": "bf9c42d9-0c86-40cf-b824-43bbc066d8a9",
   "metadata": {},
   "outputs": [
    {
     "data": {
      "text/plain": [
       "Task(state='completed', worker_hostname='664642f3bbc4')"
      ]
     },
     "execution_count": 677,
     "metadata": {},
     "output_type": "execute_result"
    }
   ],
   "source": [
    "task"
   ]
  },
  {
   "cell_type": "code",
   "execution_count": 678,
   "id": "aaf6a45e-3aa5-4148-974e-d7aef81471a2",
   "metadata": {},
   "outputs": [
    {
     "data": {
      "text/plain": [
       "'/reduce_tasks/0_0_1_2_3_4_5_6_7_8_9'"
      ]
     },
     "execution_count": 678,
     "metadata": {},
     "output_type": "execute_result"
    }
   ],
   "source": [
    "task_path"
   ]
  },
  {
   "cell_type": "code",
   "execution_count": null,
   "id": "7e82a015-ff39-438e-8393-202dbc27dbd6",
   "metadata": {},
   "outputs": [],
   "source": []
  },
  {
   "cell_type": "code",
   "execution_count": 679,
   "id": "5be1f2c9-384d-4d8e-bad4-4c5f563c36c0",
   "metadata": {},
   "outputs": [],
   "source": [
    "local_cluster.shutdown_cluster(delete_hdfs_jobs=True)"
   ]
  },
  {
   "cell_type": "code",
   "execution_count": null,
   "id": "eca6df95-b429-487b-9458-f498873b643c",
   "metadata": {},
   "outputs": [],
   "source": []
  }
 ],
 "metadata": {
  "kernelspec": {
   "display_name": "Python [conda env:mapreduce] *",
   "language": "python",
   "name": "conda-env-mapreduce-py"
  },
  "language_info": {
   "codemirror_mode": {
    "name": "ipython",
    "version": 3
   },
   "file_extension": ".py",
   "mimetype": "text/x-python",
   "name": "python",
   "nbconvert_exporter": "python",
   "pygments_lexer": "ipython3",
   "version": "3.11.3"
  }
 },
 "nbformat": 4,
 "nbformat_minor": 5
}
