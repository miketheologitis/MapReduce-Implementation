{
 "cells": [
  {
   "cell_type": "code",
   "execution_count": 20,
   "id": "eed0ac3e-05af-49d6-9b39-814e9b47e980",
   "metadata": {},
   "outputs": [],
   "source": [
    "import sys\n",
    "sys.path.append('/home/miketheologitis/MapReduce-Implementation')\n",
    "\n",
    "from src.cluster.local_cluster import LocalCluster"
   ]
  },
  {
   "cell_type": "code",
   "execution_count": 21,
   "id": "e9e3625f-8225-42f7-80eb-b08039b3c978",
   "metadata": {},
   "outputs": [],
   "source": [
    "local_cluster = LocalCluster(\n",
    "    n_workers=10,\n",
    "    n_masters=1,\n",
    "    initialize=True,\n",
    "    verbose=False\n",
    ")"
   ]
  },
  {
   "cell_type": "code",
   "execution_count": 22,
   "id": "08cc9dea-0081-42fa-bba0-0885c768bae3",
   "metadata": {},
   "outputs": [],
   "source": [
    "hdfs_client = local_cluster.get_hdfs_client()\n",
    "zk_client = local_cluster.get_zk_client()\n",
    "\n",
    "def print_hdfs():\n",
    "    for job in hdfs_client.hdfs.list('jobs'):\n",
    "        print(f'{job}/')\n",
    "        print('\\tdata.pickle')\n",
    "        print('\\tmap_func.pickle')\n",
    "        print('\\treduce_func.pickle')\n",
    "        print('\\tmap_tasks/')\n",
    "        for file in hdfs_client.hdfs.list(f'jobs/{job}/map_tasks'):\n",
    "            print(f'\\t\\t{file}')\n",
    "        print('\\tmap_results/')\n",
    "        for file in hdfs_client.hdfs.list(f'jobs/{job}/map_results'):\n",
    "            print(f'\\t\\t{file}')\n",
    "        print('\\tshuffle_results/')\n",
    "        for file in hdfs_client.hdfs.list(f'jobs/{job}/shuffle_results'):\n",
    "            print(f'\\t\\t{file}')\n",
    "        print('\\treduce_results/')\n",
    "        for file in hdfs_client.hdfs.list(f'jobs/{job}/reduce_results'):\n",
    "            print(f'\\t\\t{file}')\n",
    "\n",
    "def print_zoo():\n",
    "    print()\n",
    "    print(\"--------------- Zoo Masters -----------------\")\n",
    "    for file in zk_client.zk.get_children('/masters'):\n",
    "        print(f'Master {file} :  {zk_client.get(f\"/masters/{file}\")}')\n",
    "    \n",
    "    print()\n",
    "    \n",
    "    print(\"--------------- Zoo Workers -----------------\")\n",
    "    for file in zk_client.zk.get_children('/workers'):\n",
    "        print(f'Worker {file} :  {zk_client.get(f\"/workers/{file}\")}')\n",
    "    \n",
    "    print()\n",
    "    \n",
    "    print(\"--------------- Zoo Map Tasks -----------------\")\n",
    "    for file in zk_client.zk.get_children('/map_tasks'):\n",
    "        print(f'Task {file} :  {zk_client.get(f\"/map_tasks/{file}\")}')\n",
    "    \n",
    "    print()\n",
    "    \n",
    "    print(\"--------------- Zoo Shuffle Tasks -----------------\")\n",
    "    for file in zk_client.zk.get_children('/shuffle_tasks'):\n",
    "        print(f'Task {file} :  {zk_client.get(f\"/shuffle_tasks/{file}\")}')\n",
    "    \n",
    "    print()\n",
    "    \n",
    "    print(\"--------------- Zoo Reduce Tasks -----------------\")\n",
    "    for file in zk_client.zk.get_children('/reduce_tasks'):\n",
    "        print(f'Task {file} :  {zk_client.get(f\"/reduce_tasks/{file}\")}')\n",
    "    \n",
    "    print()\n",
    "    \n",
    "    print(\"--------------- Zoo Jobs -----------------\")\n",
    "    for file in zk_client.zk.get_children('/jobs'):\n",
    "        print(f'Job {file} :  {zk_client.get(f\"/jobs/{file}\")}')"
   ]
  },
  {
   "cell_type": "code",
   "execution_count": null,
   "id": "db647fa2-9902-4d60-9ee2-5515823c2e91",
   "metadata": {},
   "outputs": [],
   "source": []
  },
  {
   "cell_type": "code",
   "execution_count": 28,
   "id": "51217fe3-744a-4a5c-acf0-2c9fce3470ac",
   "metadata": {},
   "outputs": [
    {
     "name": "stdout",
     "output_type": "stream",
     "text": [
      "\n",
      "--------------- Zoo Masters -----------------\n",
      "Master 77f8cfc2f354 :  MasterInfo(state='nothing')\n",
      "\n",
      "--------------- Zoo Workers -----------------\n",
      "Worker 737134c03eab :  WorkerInfo(state='idle')\n",
      "Worker c386da5abcce :  WorkerInfo(state='idle')\n",
      "Worker 9cea66181379 :  WorkerInfo(state='idle')\n",
      "Worker 6525d663e6b8 :  WorkerInfo(state='idle')\n",
      "Worker 073c69b765a2 :  WorkerInfo(state='idle')\n",
      "Worker 41ce28aa89a3 :  WorkerInfo(state='idle')\n",
      "Worker 95d57ca936b4 :  WorkerInfo(state='idle')\n",
      "Worker 4b3abe34dc07 :  WorkerInfo(state='idle')\n",
      "Worker 922cab40f21d :  WorkerInfo(state='idle')\n",
      "Worker 45e68a12162f :  WorkerInfo(state='idle')\n",
      "\n",
      "--------------- Zoo Map Tasks -----------------\n",
      "Task 0_0 :  Task(state='completed', worker_hostname='737134c03eab')\n",
      "Task 0_1 :  Task(state='completed', worker_hostname='c386da5abcce')\n",
      "Task 1_0 :  Task(state='completed', worker_hostname='737134c03eab')\n",
      "Task 0_2 :  Task(state='completed', worker_hostname='9cea66181379')\n",
      "Task 1_1 :  Task(state='completed', worker_hostname='c386da5abcce')\n",
      "Task 0_3 :  Task(state='completed', worker_hostname='6525d663e6b8')\n",
      "Task 1_2 :  Task(state='completed', worker_hostname='9cea66181379')\n",
      "Task 0_4 :  Task(state='completed', worker_hostname='073c69b765a2')\n",
      "Task 1_3 :  Task(state='completed', worker_hostname='6525d663e6b8')\n",
      "Task 0_5 :  Task(state='completed', worker_hostname='41ce28aa89a3')\n",
      "Task 1_4 :  Task(state='completed', worker_hostname='073c69b765a2')\n",
      "Task 0_6 :  Task(state='completed', worker_hostname='95d57ca936b4')\n",
      "Task 1_5 :  Task(state='completed', worker_hostname='41ce28aa89a3')\n",
      "Task 0_7 :  Task(state='completed', worker_hostname='4b3abe34dc07')\n",
      "Task 1_6 :  Task(state='completed', worker_hostname='95d57ca936b4')\n",
      "Task 0_8 :  Task(state='completed', worker_hostname='922cab40f21d')\n",
      "Task 1_7 :  Task(state='completed', worker_hostname='4b3abe34dc07')\n",
      "Task 1_8 :  Task(state='completed', worker_hostname='922cab40f21d')\n",
      "\n",
      "--------------- Zoo Shuffle Tasks -----------------\n",
      "Task 0 :  Task(state='completed', worker_hostname='737134c03eab')\n",
      "Task 1 :  Task(state='completed', worker_hostname='737134c03eab')\n",
      "\n",
      "--------------- Zoo Reduce Tasks -----------------\n",
      "Task 1_4_5 :  Task(state='completed', worker_hostname='9cea66181379')\n",
      "Task 0_0_1 :  Task(state='completed', worker_hostname='737134c03eab')\n",
      "Task 0_13 :  Task(state='completed', worker_hostname='45e68a12162f')\n",
      "Task 1_2_3 :  Task(state='completed', worker_hostname='c386da5abcce')\n",
      "Task 0_2_3 :  Task(state='completed', worker_hostname='c386da5abcce')\n",
      "Task 0_12 :  Task(state='completed', worker_hostname='922cab40f21d')\n",
      "Task 1_13 :  Task(state='completed', worker_hostname='45e68a12162f')\n",
      "Task 0_8 :  Task(state='completed', worker_hostname='073c69b765a2')\n",
      "Task 0_9 :  Task(state='completed', worker_hostname='41ce28aa89a3')\n",
      "Task 1_0_1 :  Task(state='completed', worker_hostname='737134c03eab')\n",
      "Task 1_8 :  Task(state='completed', worker_hostname='073c69b765a2')\n",
      "Task 0_4_5 :  Task(state='completed', worker_hostname='9cea66181379')\n",
      "Task 1_9 :  Task(state='completed', worker_hostname='41ce28aa89a3')\n",
      "Task 0_6_7 :  Task(state='completed', worker_hostname='6525d663e6b8')\n",
      "Task 0_11 :  Task(state='completed', worker_hostname='4b3abe34dc07')\n",
      "Task 1_12 :  Task(state='completed', worker_hostname='922cab40f21d')\n",
      "Task 0_10 :  Task(state='completed', worker_hostname='95d57ca936b4')\n",
      "Task 1_11 :  Task(state='completed', worker_hostname='4b3abe34dc07')\n",
      "Task 1_10 :  Task(state='completed', worker_hostname='95d57ca936b4')\n",
      "Task 1_6_7 :  Task(state='completed', worker_hostname='6525d663e6b8')\n",
      "\n",
      "--------------- Zoo Jobs -----------------\n",
      "Job 0 :  Job(state='completed', requested_n_workers=None, master_hostname='77f8cfc2f354')\n",
      "Job 1 :  Job(state='completed', requested_n_workers=None, master_hostname='77f8cfc2f354')\n"
     ]
    }
   ],
   "source": [
    "print_zoo()"
   ]
  },
  {
   "cell_type": "code",
   "execution_count": 27,
   "id": "d9022ffb-b32f-4a32-86e6-91559d2d9728",
   "metadata": {},
   "outputs": [
    {
     "name": "stdout",
     "output_type": "stream",
     "text": [
      "job_0/\n",
      "\tdata.pickle\n",
      "\tmap_func.pickle\n",
      "\treduce_func.pickle\n",
      "\tmap_tasks/\n",
      "\t\t0.pickle\n",
      "\t\t1.pickle\n",
      "\t\t2.pickle\n",
      "\t\t3.pickle\n",
      "\t\t4.pickle\n",
      "\t\t5.pickle\n",
      "\t\t6.pickle\n",
      "\t\t7.pickle\n",
      "\t\t8.pickle\n",
      "\tmap_results/\n",
      "\t\t0.pickle\n",
      "\t\t1.pickle\n",
      "\t\t2.pickle\n",
      "\t\t3.pickle\n",
      "\t\t4.pickle\n",
      "\t\t5.pickle\n",
      "\t\t6.pickle\n",
      "\t\t7.pickle\n",
      "\t\t8.pickle\n",
      "\tshuffle_results/\n",
      "\t\t0.pickle\n",
      "\t\t1.pickle\n",
      "\t\t10.pickle\n",
      "\t\t11.pickle\n",
      "\t\t12.pickle\n",
      "\t\t13.pickle\n",
      "\t\t2.pickle\n",
      "\t\t3.pickle\n",
      "\t\t4.pickle\n",
      "\t\t5.pickle\n",
      "\t\t6.pickle\n",
      "\t\t7.pickle\n",
      "\t\t8.pickle\n",
      "\t\t9.pickle\n",
      "\treduce_results/\n",
      "\t\t0_1.pickle\n",
      "\t\t10.pickle\n",
      "\t\t11.pickle\n",
      "\t\t12.pickle\n",
      "\t\t13.pickle\n",
      "\t\t2_3.pickle\n",
      "\t\t4_5.pickle\n",
      "\t\t6_7.pickle\n",
      "\t\t8.pickle\n",
      "\t\t9.pickle\n",
      "job_1/\n",
      "\tdata.pickle\n",
      "\tmap_func.pickle\n",
      "\treduce_func.pickle\n",
      "\tmap_tasks/\n",
      "\t\t0.pickle\n",
      "\t\t1.pickle\n",
      "\t\t2.pickle\n",
      "\t\t3.pickle\n",
      "\t\t4.pickle\n",
      "\t\t5.pickle\n",
      "\t\t6.pickle\n",
      "\t\t7.pickle\n",
      "\t\t8.pickle\n",
      "\tmap_results/\n",
      "\t\t0.pickle\n",
      "\t\t1.pickle\n",
      "\t\t2.pickle\n",
      "\t\t3.pickle\n",
      "\t\t4.pickle\n",
      "\t\t5.pickle\n",
      "\t\t6.pickle\n",
      "\t\t7.pickle\n",
      "\t\t8.pickle\n",
      "\tshuffle_results/\n",
      "\t\t0.pickle\n",
      "\t\t1.pickle\n",
      "\t\t2.pickle\n",
      "\t\t3.pickle\n",
      "\t\t4.pickle\n",
      "\t\t5.pickle\n",
      "\t\t6.pickle\n",
      "\t\t7.pickle\n",
      "\treduce_results/\n"
     ]
    }
   ],
   "source": [
    "print_hdfs()"
   ]
  },
  {
   "cell_type": "code",
   "execution_count": 60,
   "id": "285d6293-505d-4769-a81b-2f3e5a3c915c",
   "metadata": {},
   "outputs": [],
   "source": [
    "local_cluster.scale(n_workers=10)"
   ]
  },
  {
   "cell_type": "code",
   "execution_count": null,
   "id": "b6c47e77-9d30-497f-a835-d9399f06c667",
   "metadata": {},
   "outputs": [],
   "source": []
  },
  {
   "cell_type": "code",
   "execution_count": 15,
   "id": "7398d3ca-69a7-4052-a9c5-df93d5941990",
   "metadata": {},
   "outputs": [
    {
     "data": {
      "text/plain": [
       "('e', [1, 1, 1, 1, 1, 1, 1, 1, 1, 1])"
      ]
     },
     "execution_count": 15,
     "metadata": {},
     "output_type": "execute_result"
    }
   ],
   "source": [
    "hdfs_client.get_data('jobs/job_0/shuffle_results/5.pickle')"
   ]
  },
  {
   "cell_type": "code",
   "execution_count": null,
   "id": "41ee82e9-f021-45c4-bd2a-8c58c241f820",
   "metadata": {},
   "outputs": [],
   "source": []
  },
  {
   "cell_type": "code",
   "execution_count": 29,
   "id": "5be1f2c9-384d-4d8e-bad4-4c5f563c36c0",
   "metadata": {},
   "outputs": [],
   "source": [
    "local_cluster.shutdown_cluster(delete_hdfs_jobs=True)"
   ]
  },
  {
   "cell_type": "code",
   "execution_count": null,
   "id": "eca6df95-b429-487b-9458-f498873b643c",
   "metadata": {},
   "outputs": [],
   "source": []
  },
  {
   "cell_type": "code",
   "execution_count": null,
   "id": "2beef290-0fac-4b03-81fb-dff32ccad1db",
   "metadata": {},
   "outputs": [],
   "source": []
  },
  {
   "cell_type": "code",
   "execution_count": null,
   "id": "32e3216b-1355-4064-ab01-517b4b47dc58",
   "metadata": {},
   "outputs": [],
   "source": []
  },
  {
   "cell_type": "code",
   "execution_count": null,
   "id": "7e5a39ba-7b3c-470d-b328-47cb26da4738",
   "metadata": {},
   "outputs": [],
   "source": []
  },
  {
   "cell_type": "code",
   "execution_count": null,
   "id": "5b77e6cc-e6b2-48a1-a1b5-bcdd06cf4129",
   "metadata": {},
   "outputs": [],
   "source": []
  },
  {
   "cell_type": "code",
   "execution_count": null,
   "id": "9396e344-59bf-4cdc-bc3f-3a2cd8357a79",
   "metadata": {},
   "outputs": [],
   "source": []
  },
  {
   "cell_type": "code",
   "execution_count": null,
   "id": "bded2222-d102-4b5f-9667-419977091182",
   "metadata": {},
   "outputs": [],
   "source": []
  },
  {
   "cell_type": "code",
   "execution_count": null,
   "id": "a6154ecb-38eb-40ab-862c-5bcbe3b6eb9e",
   "metadata": {},
   "outputs": [],
   "source": []
  }
 ],
 "metadata": {
  "kernelspec": {
   "display_name": "Python [conda env:mapreduce] *",
   "language": "python",
   "name": "conda-env-mapreduce-py"
  },
  "language_info": {
   "codemirror_mode": {
    "name": "ipython",
    "version": 3
   },
   "file_extension": ".py",
   "mimetype": "text/x-python",
   "name": "python",
   "nbconvert_exporter": "python",
   "pygments_lexer": "ipython3",
   "version": "3.11.3"
  }
 },
 "nbformat": 4,
 "nbformat_minor": 5
}
