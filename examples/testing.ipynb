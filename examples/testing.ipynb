{
 "cells": [
  {
   "cell_type": "code",
   "execution_count": 65,
   "id": "58c6e06d-2b43-4e5b-a49c-d7cb3c3dea30",
   "metadata": {},
   "outputs": [],
   "source": [
    "import sys\n",
    "sys.path.append('/home/miketheologitis/MapReduce-Implementation')\n",
    "\n",
    "from mapreduce.cluster.local_cluster import LocalCluster"
   ]
  },
  {
   "cell_type": "code",
   "execution_count": 113,
   "id": "82b62fd0-ac3b-4a12-bb67-a3a74b7f8dd5",
   "metadata": {},
   "outputs": [],
   "source": [
    "local_cluster = LocalCluster(\n",
    "    n_workers=0,\n",
    "    n_masters=0,\n",
    "    initialize=True,\n",
    "    verbose=False\n",
    ")"
   ]
  },
  {
   "cell_type": "code",
   "execution_count": 114,
   "id": "b3593de0-0315-4bbc-b627-d1d85c31a57e",
   "metadata": {},
   "outputs": [],
   "source": [
    "local_monitoring = local_cluster.local_monitoring"
   ]
  },
  {
   "cell_type": "code",
   "execution_count": 115,
   "id": "099ac40a-abd4-42fd-bc57-d9fc8b3c2f72",
   "metadata": {},
   "outputs": [],
   "source": [
    "zk_client = local_cluster.get_zk_client()"
   ]
  },
  {
   "cell_type": "code",
   "execution_count": null,
   "id": "44357480-da71-4a15-bc3e-0ed2900af9f3",
   "metadata": {},
   "outputs": [],
   "source": []
  },
  {
   "cell_type": "code",
   "execution_count": 116,
   "id": "808c594e-34d1-4924-a448-08da6efcb17f",
   "metadata": {},
   "outputs": [
    {
     "name": "stdout",
     "output_type": "stream",
     "text": [
      "\n",
      "----------------- Zoo Masters -----------------\n",
      "\n",
      "----------------- Zoo Workers -----------------\n",
      "\n",
      "----------------- Zoo Map Tasks -----------------\n",
      "\n",
      "----------------- Zoo Shuffle Tasks -----------------\n",
      "\n",
      "----------------- Zoo Reduce Tasks -----------------\n",
      "\n",
      "----------------- Zoo Jobs ---------------------\n"
     ]
    }
   ],
   "source": [
    "local_monitoring.print_zoo()"
   ]
  },
  {
   "cell_type": "code",
   "execution_count": 119,
   "id": "d4fd8947-8c44-4679-82d2-109e0cb42c4b",
   "metadata": {
    "scrolled": true
   },
   "outputs": [
    {
     "name": "stdout",
     "output_type": "stream",
     "text": [
      "Before : set()\n",
      "After : {'worker0'}\n",
      "\n",
      "Before : {'worker0'}\n",
      "After : {'worker0', 'worker1'}\n",
      "\n",
      "Before : {'worker0', 'worker1'}\n",
      "After : {'worker0', 'worker1', 'worker2'}\n",
      "\n",
      "Before : {'worker0', 'worker1', 'worker2'}\n",
      "After : {'worker0', 'worker1', 'worker3', 'worker2'}\n",
      "\n",
      "Before : {'worker0', 'worker1', 'worker3', 'worker2'}\n",
      "After : {'worker3', 'worker0', 'worker4', 'worker1', 'worker2'}\n",
      "\n",
      "Before : {'worker3', 'worker0', 'worker4', 'worker1', 'worker2'}\n",
      "After : {'worker3', 'worker0', 'worker4', 'worker5', 'worker1', 'worker2'}\n",
      "\n",
      "Before : {'worker3', 'worker0', 'worker4', 'worker5', 'worker1', 'worker2'}\n",
      "After : {'worker3', 'worker0', 'worker6', 'worker4', 'worker5', 'worker1', 'worker2'}\n",
      "\n",
      "Before : {'worker3', 'worker0', 'worker6', 'worker4', 'worker5', 'worker1', 'worker2'}\n",
      "After : {'worker3', 'worker0', 'worker6', 'worker4', 'worker5', 'worker7', 'worker1', 'worker2'}\n",
      "\n",
      "Before : {'worker3', 'worker0', 'worker6', 'worker4', 'worker5', 'worker7', 'worker1', 'worker2'}\n",
      "After : {'worker8', 'worker3', 'worker0', 'worker6', 'worker4', 'worker5', 'worker7', 'worker1', 'worker2'}\n",
      "\n",
      "Before : {'worker8', 'worker3', 'worker0', 'worker6', 'worker4', 'worker5', 'worker7', 'worker1', 'worker2'}\n",
      "After : {'worker8', 'worker3', 'worker0', 'worker6', 'worker4', 'worker5', 'worker7', 'worker1', 'worker9', 'worker2'}\n",
      "\n",
      "Before : {'worker8', 'worker3', 'worker0', 'worker6', 'worker4', 'worker5', 'worker7', 'worker1', 'worker9', 'worker2'}\n",
      "After : {'worker8', 'worker3', 'worker0', 'worker10', 'worker6', 'worker4', 'worker5', 'worker7', 'worker1', 'worker9', 'worker2'}\n",
      "\n",
      "Before : {'worker8', 'worker3', 'worker0', 'worker10', 'worker6', 'worker4', 'worker5', 'worker7', 'worker1', 'worker9', 'worker2'}\n",
      "After : {'worker8', 'worker3', 'worker11', 'worker0', 'worker6', 'worker10', 'worker4', 'worker5', 'worker7', 'worker1', 'worker9', 'worker2'}\n",
      "\n",
      "Before : {'worker8', 'worker3', 'worker11', 'worker0', 'worker6', 'worker10', 'worker4', 'worker5', 'worker7', 'worker1', 'worker9', 'worker2'}\n",
      "After : {'worker8', 'worker3', 'worker11', 'worker9', 'worker0', 'worker6', 'worker10', 'worker4', 'worker5', 'worker7', 'worker1', 'worker12', 'worker2'}\n",
      "\n",
      "Before : {'worker8', 'worker3', 'worker11', 'worker9', 'worker0', 'worker6', 'worker10', 'worker4', 'worker5', 'worker7', 'worker1', 'worker12', 'worker2'}\n",
      "After : {'worker8', 'worker3', 'worker11', 'worker13', 'worker9', 'worker0', 'worker6', 'worker10', 'worker4', 'worker5', 'worker7', 'worker1', 'worker12', 'worker2'}\n",
      "\n",
      "Before : {'worker8', 'worker3', 'worker11', 'worker13', 'worker9', 'worker0', 'worker6', 'worker10', 'worker4', 'worker5', 'worker7', 'worker1', 'worker12', 'worker2'}\n",
      "After : {'worker8', 'worker3', 'worker11', 'worker13', 'worker9', 'worker0', 'worker6', 'worker10', 'worker1', 'worker5', 'worker4', 'worker7', 'worker14', 'worker12', 'worker2'}\n",
      "\n",
      "Before : {'worker8', 'worker3', 'worker11', 'worker13', 'worker9', 'worker0', 'worker6', 'worker10', 'worker1', 'worker5', 'worker4', 'worker7', 'worker14', 'worker12', 'worker2'}\n",
      "After : {'worker8', 'worker3', 'worker11', 'worker13', 'worker9', 'worker0', 'worker6', 'worker10', 'worker15', 'worker1', 'worker5', 'worker4', 'worker7', 'worker14', 'worker12', 'worker2'}\n",
      "\n",
      "Before : {'worker8', 'worker3', 'worker11', 'worker13', 'worker9', 'worker0', 'worker6', 'worker10', 'worker15', 'worker1', 'worker5', 'worker4', 'worker7', 'worker14', 'worker12', 'worker2'}\n",
      "After : {'worker8', 'worker3', 'worker11', 'worker13', 'worker9', 'worker16', 'worker6', 'worker10', 'worker15', 'worker0', 'worker1', 'worker5', 'worker4', 'worker7', 'worker14', 'worker12', 'worker2'}\n",
      "\n",
      "Before : {'worker8', 'worker3', 'worker11', 'worker13', 'worker9', 'worker16', 'worker6', 'worker10', 'worker15', 'worker0', 'worker1', 'worker5', 'worker4', 'worker7', 'worker14', 'worker12', 'worker2'}\n",
      "After : {'worker8', 'worker3', 'worker11', 'worker13', 'worker9', 'worker17', 'worker16', 'worker6', 'worker10', 'worker15', 'worker0', 'worker1', 'worker5', 'worker4', 'worker7', 'worker14', 'worker12', 'worker2'}\n",
      "\n",
      "Before : {'worker8', 'worker3', 'worker11', 'worker13', 'worker9', 'worker17', 'worker16', 'worker6', 'worker10', 'worker15', 'worker0', 'worker1', 'worker5', 'worker4', 'worker7', 'worker14', 'worker12', 'worker2'}\n",
      "After : {'worker6', 'worker15', 'worker16', 'worker10', 'worker18', 'worker9', 'worker11', 'worker13', 'worker0', 'worker4', 'worker5', 'worker7', 'worker1', 'worker14', 'worker8', 'worker3', 'worker17', 'worker12', 'worker2'}\n",
      "\n",
      "Before : {'worker6', 'worker15', 'worker16', 'worker10', 'worker18', 'worker9', 'worker11', 'worker13', 'worker0', 'worker4', 'worker5', 'worker7', 'worker1', 'worker14', 'worker8', 'worker3', 'worker17', 'worker12', 'worker2'}\n",
      "After : {'worker6', 'worker15', 'worker16', 'worker10', 'worker18', 'worker9', 'worker11', 'worker13', 'worker0', 'worker4', 'worker5', 'worker7', 'worker1', 'worker14', 'worker8', 'worker3', 'worker17', 'worker19', 'worker12', 'worker2'}\n",
      "\n"
     ]
    }
   ],
   "source": [
    "for i in range(20):\n",
    "    zk_client.register_worker(f'worker{i}')"
   ]
  },
  {
   "cell_type": "code",
   "execution_count": 120,
   "id": "ef1eb2a9-9f10-431f-b1c0-4eee5058c6cb",
   "metadata": {},
   "outputs": [
    {
     "name": "stdout",
     "output_type": "stream",
     "text": [
      "Before : {'worker6', 'worker15', 'worker16', 'worker10', 'worker18', 'worker9', 'worker11', 'worker13', 'worker0', 'worker4', 'worker5', 'worker7', 'worker1', 'worker14', 'worker8', 'worker3', 'worker17', 'worker19', 'worker12', 'worker2'}\n",
      "Died worker: worker0\n",
      "After : {'worker6', 'worker15', 'worker16', 'worker10', 'worker18', 'worker9', 'worker11', 'worker13', 'worker4', 'worker5', 'worker7', 'worker1', 'worker14', 'worker8', 'worker3', 'worker17', 'worker19', 'worker12', 'worker2'}\n",
      "\n",
      "Before : {'worker6', 'worker15', 'worker16', 'worker10', 'worker18', 'worker9', 'worker11', 'worker13', 'worker4', 'worker5', 'worker7', 'worker1', 'worker14', 'worker8', 'worker3', 'worker17', 'worker19', 'worker12', 'worker2'}\n",
      "Died worker: worker1\n",
      "After : {'worker8', 'worker3', 'worker5', 'worker11', 'worker18', 'worker13', 'worker9', 'worker17', 'worker16', 'worker6', 'worker10', 'worker15', 'worker4', 'worker19', 'worker7', 'worker14', 'worker12', 'worker2'}\n",
      "\n",
      "Before : {'worker8', 'worker3', 'worker5', 'worker11', 'worker18', 'worker13', 'worker9', 'worker17', 'worker16', 'worker6', 'worker10', 'worker15', 'worker4', 'worker19', 'worker7', 'worker14', 'worker12', 'worker2'}\n",
      "Died worker: worker2\n",
      "After : {'worker8', 'worker3', 'worker5', 'worker11', 'worker18', 'worker13', 'worker9', 'worker17', 'worker16', 'worker6', 'worker10', 'worker15', 'worker4', 'worker19', 'worker7', 'worker14', 'worker12'}\n",
      "\n",
      "Before : {'worker8', 'worker3', 'worker5', 'worker11', 'worker18', 'worker13', 'worker9', 'worker17', 'worker16', 'worker6', 'worker10', 'worker15', 'worker4', 'worker19', 'worker7', 'worker14', 'worker12'}\n",
      "Died worker: worker3\n",
      "After : {'worker8', 'worker5', 'worker11', 'worker18', 'worker13', 'worker9', 'worker17', 'worker16', 'worker6', 'worker10', 'worker15', 'worker4', 'worker19', 'worker7', 'worker14', 'worker12'}\n",
      "\n",
      "Before : {'worker8', 'worker5', 'worker11', 'worker18', 'worker13', 'worker9', 'worker17', 'worker16', 'worker6', 'worker10', 'worker15', 'worker4', 'worker19', 'worker7', 'worker14', 'worker12'}\n",
      "Died worker: worker4\n",
      "After : {'worker8', 'worker5', 'worker11', 'worker18', 'worker13', 'worker9', 'worker17', 'worker16', 'worker6', 'worker10', 'worker15', 'worker19', 'worker7', 'worker14', 'worker12'}\n",
      "\n",
      "Before : {'worker8', 'worker5', 'worker11', 'worker18', 'worker13', 'worker9', 'worker17', 'worker16', 'worker6', 'worker10', 'worker15', 'worker19', 'worker7', 'worker14', 'worker12'}\n",
      "Died worker: worker5\n",
      "After : {'worker8', 'worker11', 'worker18', 'worker13', 'worker9', 'worker17', 'worker16', 'worker6', 'worker10', 'worker15', 'worker19', 'worker7', 'worker14', 'worker12'}\n",
      "\n",
      "Before : {'worker8', 'worker11', 'worker18', 'worker13', 'worker9', 'worker17', 'worker16', 'worker6', 'worker10', 'worker15', 'worker19', 'worker7', 'worker14', 'worker12'}\n",
      "Died worker: worker6\n",
      "After : {'worker8', 'worker11', 'worker18', 'worker13', 'worker9', 'worker17', 'worker16', 'worker10', 'worker15', 'worker19', 'worker7', 'worker14', 'worker12'}\n",
      "\n",
      "Before : {'worker8', 'worker11', 'worker18', 'worker13', 'worker9', 'worker17', 'worker16', 'worker10', 'worker15', 'worker19', 'worker7', 'worker14', 'worker12'}\n",
      "Died worker: worker7\n",
      "After : {'worker8', 'worker11', 'worker18', 'worker13', 'worker9', 'worker17', 'worker16', 'worker10', 'worker15', 'worker19', 'worker14', 'worker12'}\n",
      "\n",
      "Before : {'worker8', 'worker11', 'worker18', 'worker13', 'worker9', 'worker17', 'worker16', 'worker10', 'worker15', 'worker19', 'worker14', 'worker12'}\n",
      "Died worker: worker8\n",
      "After : {'worker11', 'worker18', 'worker13', 'worker9', 'worker17', 'worker16', 'worker10', 'worker15', 'worker19', 'worker14', 'worker12'}\n",
      "\n",
      "Before : {'worker11', 'worker18', 'worker13', 'worker9', 'worker17', 'worker16', 'worker10', 'worker15', 'worker19', 'worker14', 'worker12'}\n",
      "Died worker: worker9\n",
      "After : {'worker11', 'worker18', 'worker13', 'worker17', 'worker16', 'worker15', 'worker10', 'worker19', 'worker14', 'worker12'}\n",
      "\n",
      "Before : {'worker11', 'worker18', 'worker13', 'worker17', 'worker16', 'worker15', 'worker10', 'worker19', 'worker14', 'worker12'}\n",
      "Died worker: worker10\n",
      "After : {'worker11', 'worker18', 'worker13', 'worker17', 'worker16', 'worker15', 'worker19', 'worker14', 'worker12'}\n",
      "\n",
      "Before : {'worker11', 'worker18', 'worker13', 'worker17', 'worker16', 'worker15', 'worker19', 'worker14', 'worker12'}\n",
      "Died worker: worker11\n",
      "After : {'worker18', 'worker13', 'worker17', 'worker16', 'worker15', 'worker19', 'worker14', 'worker12'}\n",
      "\n",
      "Before : {'worker18', 'worker13', 'worker17', 'worker16', 'worker15', 'worker19', 'worker14', 'worker12'}\n",
      "Died worker: worker12\n",
      "After : {'worker18', 'worker13', 'worker17', 'worker16', 'worker15', 'worker19', 'worker14'}\n",
      "\n",
      "Before : {'worker18', 'worker13', 'worker17', 'worker16', 'worker15', 'worker19', 'worker14'}\n",
      "Died worker: worker13\n",
      "After : {'worker18', 'worker17', 'worker16', 'worker15', 'worker19', 'worker14'}\n",
      "\n",
      "Before : {'worker18', 'worker17', 'worker16', 'worker15', 'worker19', 'worker14'}\n",
      "Died worker: worker14\n",
      "After : {'worker17', 'worker16', 'worker15', 'worker19', 'worker18'}\n",
      "\n",
      "Before : {'worker17', 'worker16', 'worker15', 'worker19', 'worker18'}\n",
      "Died worker: worker15\n",
      "After : {'worker19', 'worker16', 'worker18', 'worker17'}\n",
      "\n",
      "Before : {'worker19', 'worker16', 'worker18', 'worker17'}\n",
      "Died worker: worker16\n",
      "After : {'worker19', 'worker18', 'worker17'}\n",
      "\n",
      "Before : {'worker19', 'worker18', 'worker17'}\n",
      "Died worker: worker17\n",
      "After : {'worker19', 'worker18'}\n",
      "\n",
      "Before : {'worker19', 'worker18'}\n",
      "Died worker: worker18\n",
      "After : {'worker19'}\n",
      "\n"
     ]
    }
   ],
   "source": [
    "for i in range(19):\n",
    "    zk_client.zk.delete(f'workers/worker{i}')"
   ]
  },
  {
   "cell_type": "code",
   "execution_count": 117,
   "id": "2c8317be-f527-4d5b-bde7-456c6a77d77d",
   "metadata": {},
   "outputs": [],
   "source": [
    "class test:\n",
    "    def __init__(self):\n",
    "        self.registered_workers = set()\n",
    "        self.registered_workers_watcher()\n",
    "\n",
    "    def registered_workers_watcher(self):\n",
    "\n",
    "        @zk_client.zk.ChildrenWatch(\"/workers\")\n",
    "        def watch_children(children):\n",
    "\n",
    "            print(f\"Before : {self.registered_workers}\")\n",
    "            \n",
    "            children_set = set(children)\n",
    "\n",
    "            died_workers = self.registered_workers - children_set\n",
    "\n",
    "            self.registered_workers = children_set\n",
    "            \n",
    "            print(f\"After : {self.registered_workers}\\n\")\n",
    "\n",
    "            if died_workers:\n",
    "                # If nonempty\n",
    "                for died_worker_hostname in died_workers:\n",
    "                    print(f\"Died worker: {died_worker_hostname}\")\n",
    "                # TODO: handle this"
   ]
  },
  {
   "cell_type": "code",
   "execution_count": 118,
   "id": "27c59a52-86e5-4a05-9772-a3c1dc3a6528",
   "metadata": {},
   "outputs": [
    {
     "name": "stdout",
     "output_type": "stream",
     "text": [
      "Before : set()\n",
      "After : set()\n",
      "\n"
     ]
    }
   ],
   "source": [
    "t = test()"
   ]
  },
  {
   "cell_type": "code",
   "execution_count": 121,
   "id": "51489636-6e3e-4b4f-8eb1-3258b9b50f1b",
   "metadata": {},
   "outputs": [],
   "source": [
    "x = {1,2,3}"
   ]
  },
  {
   "cell_type": "code",
   "execution_count": 123,
   "id": "1fe56db9-11e0-4ee0-ab9f-0f1ccdcdc788",
   "metadata": {},
   "outputs": [
    {
     "name": "stdout",
     "output_type": "stream",
     "text": [
      "1\n",
      "2\n",
      "3\n"
     ]
    }
   ],
   "source": [
    "for i in x: print(i)"
   ]
  },
  {
   "cell_type": "code",
   "execution_count": 112,
   "id": "22b53b8b-0aea-4093-8eef-afc95c55ed71",
   "metadata": {},
   "outputs": [],
   "source": [
    "local_cluster.shutdown_cluster(delete_hdfs_jobs=True)"
   ]
  },
  {
   "cell_type": "code",
   "execution_count": null,
   "id": "05282174-d6d3-44d2-85c6-b64fc1fccd03",
   "metadata": {},
   "outputs": [],
   "source": []
  },
  {
   "cell_type": "code",
   "execution_count": null,
   "id": "4a436108-fbc0-4744-b432-7f19d8440c5e",
   "metadata": {},
   "outputs": [],
   "source": []
  },
  {
   "cell_type": "code",
   "execution_count": null,
   "id": "08d3e6ae-48ca-4896-ad7c-a55154da1ccc",
   "metadata": {},
   "outputs": [],
   "source": []
  },
  {
   "cell_type": "code",
   "execution_count": 125,
   "id": "95a7b235-4757-4c01-a696-f395b913bc2e",
   "metadata": {},
   "outputs": [
    {
     "data": {
      "text/plain": [
       "[1, 2]"
      ]
     },
     "execution_count": 125,
     "metadata": {},
     "output_type": "execute_result"
    }
   ],
   "source": [
    "list(map(int, ['1', '2']))"
   ]
  },
  {
   "cell_type": "code",
   "execution_count": null,
   "id": "f038881c-6bf0-4269-9e33-1aa5867c2088",
   "metadata": {},
   "outputs": [],
   "source": []
  }
 ],
 "metadata": {
  "kernelspec": {
   "display_name": "Python [conda env:mapreduce] *",
   "language": "python",
   "name": "conda-env-mapreduce-py"
  },
  "language_info": {
   "codemirror_mode": {
    "name": "ipython",
    "version": 3
   },
   "file_extension": ".py",
   "mimetype": "text/x-python",
   "name": "python",
   "nbconvert_exporter": "python",
   "pygments_lexer": "ipython3",
   "version": "3.11.3"
  }
 },
 "nbformat": 4,
 "nbformat_minor": 5
}
