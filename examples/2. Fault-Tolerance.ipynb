{
 "cells": [
  {
   "cell_type": "code",
   "execution_count": 27,
   "id": "eed0ac3e-05af-49d6-9b39-814e9b47e980",
   "metadata": {},
   "outputs": [],
   "source": [
    "import sys\n",
    "sys.path.append('/home/miketheologitis/MapReduce-Implementation')\n",
    "\n",
    "from mapreduce.cluster.local_cluster import LocalCluster"
   ]
  },
  {
   "cell_type": "code",
   "execution_count": 28,
   "id": "e9e3625f-8225-42f7-80eb-b08039b3c978",
   "metadata": {},
   "outputs": [],
   "source": [
    "local_cluster = LocalCluster(\n",
    "    n_workers=0,\n",
    "    n_masters=10,\n",
    "    initialize=True,\n",
    "    verbose=False\n",
    ")"
   ]
  },
  {
   "cell_type": "code",
   "execution_count": 29,
   "id": "15e51d8a-b2a2-49b8-b4a8-be62e4cc0ffe",
   "metadata": {},
   "outputs": [],
   "source": [
    "local_monitoring = local_cluster.local_monitoring"
   ]
  },
  {
   "cell_type": "code",
   "execution_count": 30,
   "id": "6e426411-51ab-41a1-9a86-772c963c48fc",
   "metadata": {
    "scrolled": true
   },
   "outputs": [],
   "source": [
    "import random\n",
    "import string\n",
    "\n",
    "def generate_random_string(str_len):\n",
    "    letters = string.ascii_lowercase\n",
    "    return ''.join(random.choice(letters) for _ in range(str_len))\n",
    "\n",
    "def generate_random_string_list(n, str_len):\n",
    "    return [generate_random_string(str_len) for _ in range(n)]\n",
    "\n",
    "# Example usage\n",
    "#data = generate_random_string_list(n=500000, str_len=20)\n",
    "data = generate_random_string_list(n=100, str_len=20)"
   ]
  },
  {
   "cell_type": "code",
   "execution_count": 31,
   "id": "97091033-6f84-4515-90fb-9486d5d20fef",
   "metadata": {},
   "outputs": [
    {
     "data": {
      "text/plain": [
       "['nnfuaiyfraefaaviqjuq',\n",
       " 'kvhbrmyxvshfyxpfkmqv',\n",
       " 'mkawmgedxbuyepmhieiy',\n",
       " 'guzzcjqhiprwgloqlhcv',\n",
       " 'qlyzqnovroalemypgage',\n",
       " 'csklttjrujbzaufyssby',\n",
       " 'ymquyynsvtciczjotybw',\n",
       " 'sjcigolsfebpqncrrkfl',\n",
       " 'shujmzruzxshqtxtdkfi',\n",
       " 'lcmtorxygwmyizfzcatv']"
      ]
     },
     "execution_count": 31,
     "metadata": {},
     "output_type": "execute_result"
    }
   ],
   "source": [
    "data[:10]"
   ]
  },
  {
   "cell_type": "code",
   "execution_count": 32,
   "id": "023f333a-577e-4267-a6ae-0bd00e1e4bce",
   "metadata": {},
   "outputs": [
    {
     "name": "stdout",
     "output_type": "stream",
     "text": [
      "Size: 0.001 MB\n"
     ]
    }
   ],
   "source": [
    "import sys\n",
    "print(f\"Size: {round(sys.getsizeof(data) / (1024 * 1024), 3)} MB\")"
   ]
  },
  {
   "cell_type": "code",
   "execution_count": 33,
   "id": "8859d749-896d-4b18-a37a-d3681a821109",
   "metadata": {},
   "outputs": [],
   "source": [
    "def map_func(data):\n",
    "    result = []\n",
    "    for string in data:\n",
    "        for char in string:\n",
    "            result.append((char, 1))\n",
    "    return result\n",
    "\n",
    "def reduce_func(data):\n",
    "    return sum(data)"
   ]
  },
  {
   "cell_type": "code",
   "execution_count": 9,
   "id": "8d2509d1-bf9f-447c-88c2-ca8629918e07",
   "metadata": {},
   "outputs": [],
   "source": [
    "future1 = local_cluster.mapreduce(data, map_func, reduce_func, requested_n_workers=2)"
   ]
  },
  {
   "cell_type": "code",
   "execution_count": 11,
   "id": "59e39069-7989-4d24-93e9-3868ba2072ce",
   "metadata": {},
   "outputs": [
    {
     "data": {
      "text/plain": [
       "<Future at 0x7f7fe443bd50 state=running>"
      ]
     },
     "execution_count": 11,
     "metadata": {},
     "output_type": "execute_result"
    }
   ],
   "source": [
    "future1"
   ]
  },
  {
   "cell_type": "code",
   "execution_count": 15,
   "id": "4c1a3712-d7d0-401a-8519-a08a860b6d42",
   "metadata": {
    "scrolled": true
   },
   "outputs": [
    {
     "data": {
      "text/plain": [
       "[('a', 384993),\n",
       " ('b', 384058),\n",
       " ('c', 385432),\n",
       " ('d', 384097),\n",
       " ('e', 384582),\n",
       " ('f', 384730),\n",
       " ('g', 383708),\n",
       " ('h', 385596),\n",
       " ('i', 383945),\n",
       " ('j', 384994),\n",
       " ('k', 384845),\n",
       " ('l', 384452),\n",
       " ('m', 384036),\n",
       " ('n', 383996),\n",
       " ('o', 385117),\n",
       " ('p', 385352),\n",
       " ('q', 385935),\n",
       " ('r', 384729),\n",
       " ('s', 384508),\n",
       " ('t', 384910),\n",
       " ('u', 384548),\n",
       " ('v', 384364),\n",
       " ('w', 384810),\n",
       " ('x', 383658),\n",
       " ('y', 385116),\n",
       " ('z', 383489)]"
      ]
     },
     "execution_count": 15,
     "metadata": {},
     "output_type": "execute_result"
    }
   ],
   "source": [
    "future1.result()"
   ]
  },
  {
   "cell_type": "code",
   "execution_count": 10,
   "id": "01940310-7da9-464e-b740-820021e14a99",
   "metadata": {},
   "outputs": [],
   "source": [
    "future2 = local_cluster.mapreduce(data, map_func, reduce_func, requested_n_workers=2)"
   ]
  },
  {
   "cell_type": "code",
   "execution_count": 12,
   "id": "a2b60262-9f70-4e94-a42a-4a2091bba9af",
   "metadata": {},
   "outputs": [
    {
     "data": {
      "text/plain": [
       "<Future at 0x7f7fb2d1a150 state=running>"
      ]
     },
     "execution_count": 12,
     "metadata": {},
     "output_type": "execute_result"
    }
   ],
   "source": [
    "future2"
   ]
  },
  {
   "cell_type": "code",
   "execution_count": 16,
   "id": "6c53effb-3559-4a9e-90a7-b119b4960c4c",
   "metadata": {
    "scrolled": true
   },
   "outputs": [
    {
     "data": {
      "text/plain": [
       "[('a', 384993),\n",
       " ('b', 384058),\n",
       " ('c', 385432),\n",
       " ('d', 384097),\n",
       " ('e', 384582),\n",
       " ('f', 384730),\n",
       " ('g', 383708),\n",
       " ('h', 385596),\n",
       " ('i', 383945),\n",
       " ('j', 384994),\n",
       " ('k', 384845),\n",
       " ('l', 384452),\n",
       " ('m', 384036),\n",
       " ('n', 383996),\n",
       " ('o', 385117),\n",
       " ('p', 385352),\n",
       " ('q', 385935),\n",
       " ('r', 384729),\n",
       " ('s', 384508),\n",
       " ('t', 384910),\n",
       " ('u', 384548),\n",
       " ('v', 384364),\n",
       " ('w', 384810),\n",
       " ('x', 383658),\n",
       " ('y', 385116),\n",
       " ('z', 383489)]"
      ]
     },
     "execution_count": 16,
     "metadata": {},
     "output_type": "execute_result"
    }
   ],
   "source": [
    "future2.result()"
   ]
  },
  {
   "cell_type": "code",
   "execution_count": 19,
   "id": "ea5cee9c-6ee6-49a9-9b8b-4cc67e702910",
   "metadata": {},
   "outputs": [
    {
     "name": "stdout",
     "output_type": "stream",
     "text": [
      "34ec7ed17539\n",
      "9a3f44ba8fad\n",
      "b75a0a1af63f\n",
      "38ade40299e3\n"
     ]
    }
   ],
   "source": [
    "!docker kill 34ec7ed17539 9a3f44ba8fad b75a0a1af63f 38ade40299e3"
   ]
  },
  {
   "cell_type": "code",
   "execution_count": 22,
   "id": "52ffe1a8-ef54-42a3-bf00-b9a98fa2668c",
   "metadata": {},
   "outputs": [
    {
     "name": "stdout",
     "output_type": "stream",
     "text": [
      "426f78306d63\n"
     ]
    }
   ],
   "source": [
    "!docker kill 426f78306d63"
   ]
  },
  {
   "cell_type": "code",
   "execution_count": null,
   "id": "43c400dd-00a1-4565-acee-980647a672b1",
   "metadata": {},
   "outputs": [],
   "source": []
  },
  {
   "cell_type": "code",
   "execution_count": 39,
   "id": "db647fa2-9902-4d60-9ee2-5515823c2e91",
   "metadata": {
    "scrolled": true
   },
   "outputs": [
    {
     "name": "stdout",
     "output_type": "stream",
     "text": [
      "\n",
      "----------------- Zoo Masters -----------------\n",
      "Master dc4bdb552ee5 :  MasterInfo(state='nothing')\n",
      "Master fcca81584c9d :  MasterInfo(state='nothing')\n",
      "Master 8d9938943886 :  MasterInfo(state='nothing')\n",
      "Master e446fe4143ff :  MasterInfo(state='nothing')\n",
      "Master d34f1fd4d9d7 :  MasterInfo(state='nothing')\n",
      "Master d96ab6d00d3e :  MasterInfo(state='nothing')\n",
      "Master 69d16b5229b0 :  MasterInfo(state='nothing')\n",
      "Master 2a78850e1788 :  MasterInfo(state='nothing')\n",
      "Master 30a2fe8cd20b :  MasterInfo(state='nothing')\n",
      "Master a8416f608af5 :  MasterInfo(state='nothing')\n",
      "\n",
      "----------------- Zoo Workers -----------------\n",
      "Worker 986ea0638d8a :  WorkerInfo(state='in-task')\n",
      "Worker c32afb8f5105 :  WorkerInfo(state='in-task')\n",
      "Worker e6cabba3a6ac :  WorkerInfo(state='in-task')\n",
      "Worker d534a0ff5782 :  WorkerInfo(state='in-task')\n",
      "Worker dd167e9ea5b3 :  WorkerInfo(state='in-task')\n",
      "Worker 0dfa4ac52fa8 :  WorkerInfo(state='in-task')\n",
      "Worker f675fd3f64e9 :  WorkerInfo(state='in-task')\n",
      "Worker 543b2431ad7a :  WorkerInfo(state='in-task')\n",
      "Worker 2c9349b9b37d :  WorkerInfo(state='in-task')\n",
      "Worker 9a5d6c711d62 :  WorkerInfo(state='in-task')\n",
      "\n",
      "----------------- Zoo Map Tasks -----------------\n",
      "Task 16_1 :  Task(state='completed', worker_hostname='c32afb8f5105', received=True)\n",
      "Task 16_0 :  Task(state='completed', worker_hostname='986ea0638d8a', received=True)\n",
      "Task 14_0 :  Task(state='completed', worker_hostname='986ea0638d8a', received=True)\n",
      "Task 12_0 :  Task(state='completed', worker_hostname='e6cabba3a6ac', received=True)\n",
      "Task 33_0 :  Task(state='completed', worker_hostname='543b2431ad7a', received=True)\n",
      "Task 31_1 :  Task(state='completed', worker_hostname='2c9349b9b37d', received=True)\n",
      "Task 54_0 :  Task(state='completed', worker_hostname='f675fd3f64e9', received=True)\n",
      "Task 54_1 :  Task(state='completed', worker_hostname='9a5d6c711d62', received=True)\n",
      "Task 98_0 :  Task(state='completed', worker_hostname='9a5d6c711d62', received=True)\n",
      "Task 56_0 :  Task(state='completed', worker_hostname='2c9349b9b37d', received=True)\n",
      "Task 79_0 :  Task(state='completed', worker_hostname='f675fd3f64e9', received=True)\n",
      "Task 58_0 :  Task(state='in-progress', worker_hostname='e6cabba3a6ac', received=False)\n",
      "Task 37_0 :  Task(state='completed', worker_hostname='0dfa4ac52fa8', received=True)\n",
      "Task 18_0 :  Task(state='completed', worker_hostname='f675fd3f64e9', received=True)\n",
      "Task 92_0 :  Task(state='completed', worker_hostname='f675fd3f64e9', received=True)\n",
      "Task 96_0 :  Task(state='completed', worker_hostname='2c9349b9b37d', received=True)\n",
      "Task 73_0 :  Task(state='completed', worker_hostname='f675fd3f64e9', received=True)\n",
      "Task 52_0 :  Task(state='completed', worker_hostname='0dfa4ac52fa8', received=True)\n",
      "Task 94_0 :  Task(state='completed', worker_hostname='f675fd3f64e9', received=True)\n",
      "Task 31_0 :  Task(state='completed', worker_hostname='543b2431ad7a', received=True)\n",
      "Task 25_0 :  Task(state='completed', worker_hostname='d534a0ff5782', received=True)\n",
      "Task 5_0 :  Task(state='completed', worker_hostname='2c9349b9b37d', received=True)\n",
      "Task 21_0 :  Task(state='completed', worker_hostname='e6cabba3a6ac', received=True)\n",
      "Task 7_0 :  Task(state='completed', worker_hostname='e6cabba3a6ac', received=True)\n",
      "Task 44_0 :  Task(state='completed', worker_hostname='dd167e9ea5b3', received=True)\n",
      "Task 9_0 :  Task(state='completed', worker_hostname='dd167e9ea5b3', received=True)\n",
      "Task 9_1 :  Task(state='completed', worker_hostname='0dfa4ac52fa8', received=True)\n",
      "Task 88_0 :  Task(state='completed', worker_hostname='2c9349b9b37d', received=True)\n",
      "Task 46_0 :  Task(state='completed', worker_hostname='0dfa4ac52fa8', received=True)\n",
      "Task 67_0 :  Task(state='completed', worker_hostname='2c9349b9b37d', received=True)\n",
      "Task 46_1 :  Task(state='completed', worker_hostname='9a5d6c711d62', received=True)\n",
      "Task 69_0 :  Task(state='completed', worker_hostname='986ea0638d8a', received=True)\n",
      "Task 29_0 :  Task(state='completed', worker_hostname='9a5d6c711d62', received=True)\n",
      "Task 86_0 :  Task(state='completed', worker_hostname='9a5d6c711d62', received=True)\n",
      "Task 61_0 :  Task(state='completed', worker_hostname='9a5d6c711d62', received=True)\n",
      "Task 40_0 :  Task(state='completed', worker_hostname='9a5d6c711d62', received=True)\n",
      "Task 63_1 :  Task(state='completed', worker_hostname='f675fd3f64e9', received=True)\n",
      "Task 63_0 :  Task(state='completed', worker_hostname='0dfa4ac52fa8', received=True)\n",
      "Task 42_0 :  Task(state='completed', worker_hostname='e6cabba3a6ac', received=True)\n",
      "Task 15_0 :  Task(state='completed', worker_hostname='9a5d6c711d62', received=True)\n",
      "Task 76_0 :  Task(state='completed', worker_hostname='543b2431ad7a', received=True)\n",
      "Task 55_0 :  Task(state='completed', worker_hostname='e6cabba3a6ac', received=True)\n",
      "Task 99_0 :  Task(state='completed', worker_hostname='e6cabba3a6ac', received=True)\n",
      "Task 57_0 :  Task(state='completed', worker_hostname='dd167e9ea5b3', received=True)\n",
      "Task 78_0 :  Task(state='completed', worker_hostname='c32afb8f5105', received=True)\n",
      "Task 36_0 :  Task(state='completed', worker_hostname='d534a0ff5782', received=True)\n",
      "Task 59_0 :  Task(state='completed', worker_hostname='e6cabba3a6ac', received=True)\n",
      "Task 19_0 :  Task(state='completed', worker_hostname='f675fd3f64e9', received=True)\n",
      "Task 38_0 :  Task(state='completed', worker_hostname='543b2431ad7a', received=True)\n",
      "Task 70_0 :  Task(state='completed', worker_hostname='543b2431ad7a', received=True)\n",
      "Task 91_0 :  Task(state='completed', worker_hostname='2c9349b9b37d', received=True)\n",
      "Task 51_0 :  Task(state='completed', worker_hostname='2c9349b9b37d', received=True)\n",
      "Task 97_0 :  Task(state='completed', worker_hostname='0dfa4ac52fa8', received=True)\n",
      "Task 72_0 :  Task(state='completed', worker_hostname='d534a0ff5782', received=True)\n",
      "Task 51_1 :  Task(state='completed', worker_hostname='9a5d6c711d62', received=True)\n",
      "Task 74_1 :  Task(state='completed', worker_hostname='9a5d6c711d62', received=True)\n",
      "Task 74_0 :  Task(state='completed', worker_hostname='d534a0ff5782', received=True)\n",
      "Task 28_0 :  Task(state='completed', worker_hostname='2c9349b9b37d', received=True)\n",
      "Task 0_0 :  Task(state='completed', worker_hostname='d534a0ff5782', received=True)\n",
      "Task 0_1 :  Task(state='completed', worker_hostname='543b2431ad7a', received=True)\n",
      "Task 2_0 :  Task(state='completed', worker_hostname='c32afb8f5105', received=True)\n",
      "Task 2_1 :  Task(state='completed', worker_hostname='e6cabba3a6ac', received=True)\n",
      "Task 24_0 :  Task(state='completed', worker_hostname='dd167e9ea5b3', received=True)\n",
      "Task 4_0 :  Task(state='completed', worker_hostname='f675fd3f64e9', received=True)\n",
      "Task 6_0 :  Task(state='completed', worker_hostname='f675fd3f64e9', received=True)\n",
      "Task 43_0 :  Task(state='completed', worker_hostname='2c9349b9b37d', received=True)\n",
      "Task 66_0 :  Task(state='completed', worker_hostname='f675fd3f64e9', received=True)\n",
      "Task 89_0 :  Task(state='completed', worker_hostname='f675fd3f64e9', received=True)\n",
      "Task 43_1 :  Task(state='completed', worker_hostname='9a5d6c711d62', received=True)\n",
      "Task 8_0 :  Task(state='completed', worker_hostname='2c9349b9b37d', received=True)\n",
      "Task 87_0 :  Task(state='completed', worker_hostname='0dfa4ac52fa8', received=True)\n",
      "Task 47_0 :  Task(state='completed', worker_hostname='dd167e9ea5b3', received=True)\n",
      "Task 49_0 :  Task(state='completed', worker_hostname='986ea0638d8a', received=True)\n",
      "Task 81_0 :  Task(state='completed', worker_hostname='543b2431ad7a', received=True)\n",
      "Task 60_0 :  Task(state='completed', worker_hostname='0dfa4ac52fa8', received=True)\n",
      "Task 62_0 :  Task(state='completed', worker_hostname='2c9349b9b37d', received=True)\n",
      "Task 41_0 :  Task(state='completed', worker_hostname='d534a0ff5782', received=True)\n",
      "Task 83_0 :  Task(state='completed', worker_hostname='f675fd3f64e9', received=True)\n",
      "Task 83_1 :  Task(state='completed', worker_hostname='543b2431ad7a', received=True)\n",
      "Task 20_0 :  Task(state='completed', worker_hostname='f675fd3f64e9', received=True)\n",
      "\n",
      "----------------- Zoo Shuffle Tasks -----------------\n",
      "Task 66 :  Task(state='completed', worker_hostname='d534a0ff5782', received=True)\n",
      "Task 89 :  Task(state='completed', worker_hostname='dd167e9ea5b3', received=True)\n",
      "Task 24 :  Task(state='completed', worker_hostname='dd167e9ea5b3', received=True)\n",
      "Task 46 :  Task(state='completed', worker_hostname='9a5d6c711d62', received=True)\n",
      "Task 25 :  Task(state='completed', worker_hostname='e6cabba3a6ac', received=True)\n",
      "Task 69 :  Task(state='completed', worker_hostname='986ea0638d8a', received=True)\n",
      "Task 49 :  Task(state='completed', worker_hostname='986ea0638d8a', received=True)\n",
      "Task 28 :  Task(state='completed', worker_hostname='e6cabba3a6ac', received=True)\n",
      "Task 29 :  Task(state='completed', worker_hostname='543b2431ad7a', received=True)\n",
      "Task 91 :  Task(state='in-progress', worker_hostname='d534a0ff5782', received=True)\n",
      "Task 92 :  Task(state='completed', worker_hostname='c32afb8f5105', received=True)\n",
      "Task 70 :  Task(state='completed', worker_hostname='986ea0638d8a', received=True)\n",
      "Task 72 :  Task(state='completed', worker_hostname='d534a0ff5782', received=True)\n",
      "Task 94 :  Task(state='completed', worker_hostname='f675fd3f64e9', received=True)\n",
      "Task 96 :  Task(state='completed', worker_hostname='2c9349b9b37d', received=True)\n",
      "Task 52 :  Task(state='completed', worker_hostname='c32afb8f5105', received=True)\n",
      "Task 74 :  Task(state='completed', worker_hostname='d534a0ff5782', received=True)\n",
      "Task 97 :  Task(state='completed', worker_hostname='0dfa4ac52fa8', received=True)\n",
      "Task 54 :  Task(state='completed', worker_hostname='2c9349b9b37d', received=True)\n",
      "Task 98 :  Task(state='completed', worker_hostname='9a5d6c711d62', received=True)\n",
      "Task 76 :  Task(state='completed', worker_hostname='543b2431ad7a', received=True)\n",
      "Task 99 :  Task(state='completed', worker_hostname='e6cabba3a6ac', received=True)\n",
      "Task 33 :  Task(state='in-progress', worker_hostname='2c9349b9b37d', received=True)\n",
      "Task 56 :  Task(state='completed', worker_hostname='2c9349b9b37d', received=True)\n",
      "Task 12 :  Task(state='completed', worker_hostname='e6cabba3a6ac', received=True)\n",
      "Task 78 :  Task(state='in-progress', worker_hostname='c32afb8f5105', received=True)\n",
      "Task 57 :  Task(state='completed', worker_hostname='dd167e9ea5b3', received=True)\n",
      "Task 79 :  Task(state='completed', worker_hostname='9a5d6c711d62', received=True)\n",
      "Task 14 :  Task(state='completed', worker_hostname='986ea0638d8a', received=True)\n",
      "Task 36 :  Task(state='completed', worker_hostname='986ea0638d8a', received=True)\n",
      "Task 15 :  Task(state='completed', worker_hostname='9a5d6c711d62', received=True)\n",
      "Task 16 :  Task(state='completed', worker_hostname='0dfa4ac52fa8', received=True)\n",
      "Task 38 :  Task(state='completed', worker_hostname='543b2431ad7a', received=True)\n",
      "Task 19 :  Task(state='completed', worker_hostname='c32afb8f5105', received=True)\n",
      "Task 0 :  Task(state='completed', worker_hostname='f675fd3f64e9', received=True)\n",
      "Task 2 :  Task(state='completed', worker_hostname='c32afb8f5105', received=True)\n",
      "Task 4 :  Task(state='completed', worker_hostname='f675fd3f64e9', received=True)\n",
      "Task 7 :  Task(state='completed', worker_hostname='e6cabba3a6ac', received=True)\n",
      "Task 9 :  Task(state='completed', worker_hostname='dd167e9ea5b3', received=True)\n",
      "Task 81 :  Task(state='in-progress', worker_hostname='543b2431ad7a', received=True)\n",
      "Task 60 :  Task(state='completed', worker_hostname='0dfa4ac52fa8', received=True)\n",
      "Task 62 :  Task(state='completed', worker_hostname='d534a0ff5782', received=True)\n",
      "Task 63 :  Task(state='completed', worker_hostname='543b2431ad7a', received=True)\n",
      "Task 86 :  Task(state='completed', worker_hostname='0dfa4ac52fa8', received=True)\n",
      "Task 42 :  Task(state='completed', worker_hostname='9a5d6c711d62', received=True)\n",
      "Task 20 :  Task(state='in-progress', worker_hostname='f675fd3f64e9', received=True)\n",
      "\n",
      "----------------- Zoo Reduce Tasks -----------------\n",
      "Task 79_0_1_2_3_4_5_6_7_8_9_10_11_12_13_14_15_16_17_18_19_20_21_22_23_24_25 :  Task(state='in-progress', worker_hostname='9a5d6c711d62', received=True)\n",
      "Task 9_13_14_15_16_17_18_19_20_21_22_23_24_25 :  Task(state='completed', worker_hostname='dd167e9ea5b3', received=True)\n",
      "Task 89_0_1_2_3_4_5_6_7_8_9_10_11_12_13_14_15_16_17_18_19_20_21_22_23_24_25 :  Task(state='in-progress', worker_hostname='dd167e9ea5b3', received=True)\n",
      "Task 49_0_1_2_3_4_5_6_7_8_9_10_11_12_13_14_15_16_17_18_19_20_21_22_23_24_25 :  Task(state='completed', worker_hostname='986ea0638d8a', received=True)\n",
      "Task 12_0_1_2_3_4_5_6_7_8_9_10_11_12_13_14_15_16_17_18_19_20_21_22_23_24_25 :  Task(state='completed', worker_hostname='2c9349b9b37d', received=True)\n",
      "Task 94_0_1_2_3_4_5_6_7_8_9_10_11_12_13_14_15_16_17_18_19_20_21_22_23_24_25 :  Task(state='completed', worker_hostname='0dfa4ac52fa8', received=True)\n",
      "Task 54_0_1_2_3_4_5_6_7_8_9_10_11_12_13_14_15_16_17_18_19_20_21_22_23_24_25 :  Task(state='completed', worker_hostname='2c9349b9b37d', received=True)\n",
      "Task 25_13_14_15_16_17_18_19_20_21_22_23_24_25 :  Task(state='completed', worker_hostname='f675fd3f64e9', received=True)\n",
      "Task 70_0_1_2_3_4_5_6_7_8_9_10_11_12_13_14_15_16_17_18_19_20_21_22_23_24_25 :  Task(state='in-progress', worker_hostname='986ea0638d8a', received=True)\n",
      "Task 57_0_1_2_3_4_5_6_7_8_9_10_11_12_13_14_15_16_17_18_19_20_21_22_23_24_25 :  Task(state='completed', worker_hostname='e6cabba3a6ac', received=True)\n",
      "Task 97_0_1_2_3_4_5_6_7_8_9_10_11_12_13_14_15_16_17_18_19_20_21_22_23_24_25 :  Task(state='completed', worker_hostname='0dfa4ac52fa8', received=True)\n",
      "Task 14_0_1_2_3_4_5_6_7_8_9_10_11_12_13_14_15_16_17_18_19_20_21_22_23_24_25 :  Task(state='completed', worker_hostname='986ea0638d8a', received=True)\n",
      "Task 24_0_1_2_3_4_5_6_7_8_9_10_11_12_13_14_15_16_17_18_19_20_21_22_23_24_25 :  Task(state='completed', worker_hostname='dd167e9ea5b3', received=True)\n",
      "Task 96_0_1_2_3_4_5_6_7_8_9_10_11_12_13_14_15_16_17_18_19_20_21_22_23_24_25 :  Task(state='completed', worker_hostname='f675fd3f64e9', received=True)\n",
      "Task 42_0_1_2_3_4_5_6_7_8_9_10_11_12_13_14_15_16_17_18_19_20_21_22_23_24_25 :  Task(state='completed', worker_hostname='9a5d6c711d62', received=True)\n",
      "Task 19_0_1_2_3_4_5_6_7_8_9_10_11_12_13_14_15_16_17_18_19_20_21_22_23_24_25 :  Task(state='completed', worker_hostname='c32afb8f5105', received=True)\n",
      "Task 56_0_1_2_3_4_5_6_7_8_9_10_11_12 :  Task(state='completed', worker_hostname='f675fd3f64e9', received=True)\n",
      "Task 52_0_1_2_3_4_5_6_7_8_9_10_11_12_13_14_15_16_17_18_19_20_21_22_23_24_25 :  Task(state='completed', worker_hostname='c32afb8f5105', received=True)\n",
      "Task 15_0_1_2_3_4_5_6_7_8_9_10_11_12_13_14_15_16_17_18_19_20_21_22_23_24_25 :  Task(state='in-progress', worker_hostname='0dfa4ac52fa8', received=True)\n",
      "Task 9_0_1_2_3_4_5_6_7_8_9_10_11_12 :  Task(state='completed', worker_hostname='d534a0ff5782', received=True)\n",
      "Task 72_0_1_2_3_4_5_6_7_8_9_10_11_12_13_14_15_16_17_18_19_20_21_22_23_24_25 :  Task(state='completed', worker_hostname='d534a0ff5782', received=True)\n",
      "Task 25_0_1_2_3_4_5_6_7_8_9_10_11_12 :  Task(state='completed', worker_hostname='d534a0ff5782', received=True)\n",
      "Task 62_0_1_2_3_4_5_6_7_8_9_10_11_12_13_14_15_16_17_18_19_20_21_22_23_24_25 :  Task(state='completed', worker_hostname='986ea0638d8a', received=True)\n",
      "Task 56_13_14_15_16_17_18_19_20_21_22_23_24_25 :  Task(state='completed', worker_hostname='2c9349b9b37d', received=True)\n",
      "Task 92_0_1_2_3_4_5_6_7_8_9_10_11_12_13_14_15_16_17_18_19_20_21_22_23_24_25 :  Task(state='completed', worker_hostname='c32afb8f5105', received=True)\n",
      "\n",
      "----------------- Zoo Jobs ---------------------\n",
      "Job 88 :  Job(state='in-progress', requested_n_workers=2, master_hostname='e446fe4143ff')\n",
      "Job 89 :  Job(state='in-progress', requested_n_workers=2, master_hostname='30a2fe8cd20b')\n",
      "Job 90 :  Job(state='in-progress', requested_n_workers=2, master_hostname='30a2fe8cd20b')\n",
      "Job 91 :  Job(state='in-progress', requested_n_workers=2, master_hostname='30a2fe8cd20b')\n",
      "Job 92 :  Job(state='completed', requested_n_workers=2, master_hostname='30a2fe8cd20b')\n",
      "Job 93 :  Job(state='in-progress', requested_n_workers=2, master_hostname='30a2fe8cd20b')\n",
      "Job 94 :  Job(state='completed', requested_n_workers=2, master_hostname='e446fe4143ff')\n",
      "Job 95 :  Job(state='in-progress', requested_n_workers=2, master_hostname='e446fe4143ff')\n",
      "Job 96 :  Job(state='completed', requested_n_workers=2, master_hostname='30a2fe8cd20b')\n",
      "Job 97 :  Job(state='completed', requested_n_workers=2, master_hostname='30a2fe8cd20b')\n",
      "Job 10 :  Job(state='in-progress', requested_n_workers=2, master_hostname='fcca81584c9d')\n",
      "Job 98 :  Job(state='in-progress', requested_n_workers=2, master_hostname='dc4bdb552ee5')\n",
      "Job 11 :  Job(state='in-progress', requested_n_workers=2, master_hostname='fcca81584c9d')\n",
      "Job 99 :  Job(state='in-progress', requested_n_workers=2, master_hostname='d96ab6d00d3e')\n",
      "Job 12 :  Job(state='completed', requested_n_workers=2, master_hostname='fcca81584c9d')\n",
      "Job 13 :  Job(state='in-progress', requested_n_workers=2, master_hostname='fcca81584c9d')\n",
      "Job 14 :  Job(state='completed', requested_n_workers=2, master_hostname='fcca81584c9d')\n",
      "Job 15 :  Job(state='in-progress', requested_n_workers=2, master_hostname='fcca81584c9d')\n",
      "Job 16 :  Job(state='in-progress', requested_n_workers=2, master_hostname='fcca81584c9d')\n",
      "Job 17 :  Job(state='in-progress', requested_n_workers=2, master_hostname='fcca81584c9d')\n",
      "Job 18 :  Job(state='in-progress', requested_n_workers=2, master_hostname='fcca81584c9d')\n",
      "Job 19 :  Job(state='completed', requested_n_workers=2, master_hostname='fcca81584c9d')\n",
      "Job 0 :  Job(state='in-progress', requested_n_workers=2, master_hostname='fcca81584c9d')\n",
      "Job 1 :  Job(state='in-progress', requested_n_workers=2, master_hostname='fcca81584c9d')\n",
      "Job 2 :  Job(state='in-progress', requested_n_workers=2, master_hostname='fcca81584c9d')\n",
      "Job 3 :  Job(state='in-progress', requested_n_workers=2, master_hostname='fcca81584c9d')\n",
      "Job 4 :  Job(state='in-progress', requested_n_workers=2, master_hostname='fcca81584c9d')\n",
      "Job 5 :  Job(state='in-progress', requested_n_workers=2, master_hostname='fcca81584c9d')\n",
      "Job 6 :  Job(state='in-progress', requested_n_workers=2, master_hostname='fcca81584c9d')\n",
      "Job 7 :  Job(state='in-progress', requested_n_workers=2, master_hostname='fcca81584c9d')\n",
      "Job 8 :  Job(state='in-progress', requested_n_workers=2, master_hostname='fcca81584c9d')\n",
      "Job 9 :  Job(state='completed', requested_n_workers=2, master_hostname='fcca81584c9d')\n",
      "Job 20 :  Job(state='in-progress', requested_n_workers=2, master_hostname='fcca81584c9d')\n",
      "Job 21 :  Job(state='in-progress', requested_n_workers=2, master_hostname='fcca81584c9d')\n",
      "Job 22 :  Job(state='in-progress', requested_n_workers=2, master_hostname='fcca81584c9d')\n",
      "Job 23 :  Job(state='in-progress', requested_n_workers=2, master_hostname='e446fe4143ff')\n",
      "Job 24 :  Job(state='completed', requested_n_workers=2, master_hostname='e446fe4143ff')\n",
      "Job 25 :  Job(state='completed', requested_n_workers=2, master_hostname='e446fe4143ff')\n",
      "Job 26 :  Job(state='in-progress', requested_n_workers=2, master_hostname='e446fe4143ff')\n",
      "Job 27 :  Job(state='in-progress', requested_n_workers=2, master_hostname='e446fe4143ff')\n",
      "Job 28 :  Job(state='in-progress', requested_n_workers=2, master_hostname='e446fe4143ff')\n",
      "Job 29 :  Job(state='in-progress', requested_n_workers=2, master_hostname='a8416f608af5')\n",
      "Job 30 :  Job(state='in-progress', requested_n_workers=2, master_hostname='e446fe4143ff')\n",
      "Job 31 :  Job(state='in-progress', requested_n_workers=2, master_hostname='30a2fe8cd20b')\n",
      "Job 32 :  Job(state='in-progress', requested_n_workers=2, master_hostname='30a2fe8cd20b')\n",
      "Job 33 :  Job(state='in-progress', requested_n_workers=2, master_hostname='30a2fe8cd20b')\n",
      "Job 34 :  Job(state='in-progress', requested_n_workers=2, master_hostname='30a2fe8cd20b')\n",
      "Job 35 :  Job(state='in-progress', requested_n_workers=2, master_hostname='30a2fe8cd20b')\n",
      "Job 36 :  Job(state='in-progress', requested_n_workers=2, master_hostname='30a2fe8cd20b')\n",
      "Job 37 :  Job(state='in-progress', requested_n_workers=2, master_hostname='30a2fe8cd20b')\n",
      "Job 38 :  Job(state='in-progress', requested_n_workers=2, master_hostname='30a2fe8cd20b')\n",
      "Job 39 :  Job(state='in-progress', requested_n_workers=2, master_hostname='d34f1fd4d9d7')\n",
      "Job 40 :  Job(state='in-progress', requested_n_workers=2, master_hostname='d34f1fd4d9d7')\n",
      "Job 41 :  Job(state='in-progress', requested_n_workers=2, master_hostname='e446fe4143ff')\n",
      "Job 42 :  Job(state='completed', requested_n_workers=2, master_hostname='e446fe4143ff')\n",
      "Job 43 :  Job(state='in-progress', requested_n_workers=2, master_hostname='2a78850e1788')\n",
      "Job 44 :  Job(state='in-progress', requested_n_workers=2, master_hostname='69d16b5229b0')\n",
      "Job 45 :  Job(state='in-progress', requested_n_workers=2, master_hostname='69d16b5229b0')\n",
      "Job 46 :  Job(state='in-progress', requested_n_workers=2, master_hostname='69d16b5229b0')\n",
      "Job 47 :  Job(state='in-progress', requested_n_workers=2, master_hostname='fcca81584c9d')\n",
      "Job 48 :  Job(state='in-progress', requested_n_workers=2, master_hostname='fcca81584c9d')\n",
      "Job 49 :  Job(state='completed', requested_n_workers=2, master_hostname='fcca81584c9d')\n",
      "Job 50 :  Job(state='in-progress', requested_n_workers=2, master_hostname='fcca81584c9d')\n",
      "Job 51 :  Job(state='in-progress', requested_n_workers=2, master_hostname='fcca81584c9d')\n",
      "Job 52 :  Job(state='completed', requested_n_workers=2, master_hostname='fcca81584c9d')\n",
      "Job 53 :  Job(state='in-progress', requested_n_workers=2, master_hostname='fcca81584c9d')\n",
      "Job 54 :  Job(state='completed', requested_n_workers=2, master_hostname='fcca81584c9d')\n",
      "Job 55 :  Job(state='in-progress', requested_n_workers=2, master_hostname='fcca81584c9d')\n",
      "Job 56 :  Job(state='completed', requested_n_workers=2, master_hostname='fcca81584c9d')\n",
      "Job 57 :  Job(state='completed', requested_n_workers=2, master_hostname='fcca81584c9d')\n",
      "Job 58 :  Job(state='in-progress', requested_n_workers=2, master_hostname='fcca81584c9d')\n",
      "Job 59 :  Job(state='in-progress', requested_n_workers=2, master_hostname='fcca81584c9d')\n",
      "Job 60 :  Job(state='in-progress', requested_n_workers=2, master_hostname='d34f1fd4d9d7')\n",
      "Job 61 :  Job(state='in-progress', requested_n_workers=2, master_hostname='d34f1fd4d9d7')\n",
      "Job 62 :  Job(state='completed', requested_n_workers=2, master_hostname='d34f1fd4d9d7')\n",
      "Job 63 :  Job(state='in-progress', requested_n_workers=2, master_hostname='2a78850e1788')\n",
      "Job 64 :  Job(state='in-progress', requested_n_workers=2, master_hostname='2a78850e1788')\n",
      "Job 65 :  Job(state='in-progress', requested_n_workers=2, master_hostname='2a78850e1788')\n",
      "Job 66 :  Job(state='in-progress', requested_n_workers=2, master_hostname='2a78850e1788')\n",
      "Job 67 :  Job(state='in-progress', requested_n_workers=2, master_hostname='2a78850e1788')\n",
      "Job 68 :  Job(state='in-progress', requested_n_workers=2, master_hostname='2a78850e1788')\n",
      "Job 69 :  Job(state='in-progress', requested_n_workers=2, master_hostname='2a78850e1788')\n",
      "Job 70 :  Job(state='in-progress', requested_n_workers=2, master_hostname='d34f1fd4d9d7')\n",
      "Job 71 :  Job(state='in-progress', requested_n_workers=2, master_hostname='d34f1fd4d9d7')\n",
      "Job 72 :  Job(state='completed', requested_n_workers=2, master_hostname='d34f1fd4d9d7')\n",
      "Job 73 :  Job(state='in-progress', requested_n_workers=2, master_hostname='d34f1fd4d9d7')\n",
      "Job 74 :  Job(state='in-progress', requested_n_workers=2, master_hostname='d34f1fd4d9d7')\n",
      "Job 75 :  Job(state='in-progress', requested_n_workers=2, master_hostname='d34f1fd4d9d7')\n",
      "Job 76 :  Job(state='in-progress', requested_n_workers=2, master_hostname='dc4bdb552ee5')\n",
      "Job 77 :  Job(state='in-progress', requested_n_workers=2, master_hostname='dc4bdb552ee5')\n",
      "Job 78 :  Job(state='in-progress', requested_n_workers=2, master_hostname='fcca81584c9d')\n",
      "Job 79 :  Job(state='in-progress', requested_n_workers=2, master_hostname='fcca81584c9d')\n",
      "Job 80 :  Job(state='in-progress', requested_n_workers=2, master_hostname='d34f1fd4d9d7')\n",
      "Job 81 :  Job(state='in-progress', requested_n_workers=2, master_hostname='d34f1fd4d9d7')\n",
      "Job 82 :  Job(state='in-progress', requested_n_workers=2, master_hostname='fcca81584c9d')\n",
      "Job 83 :  Job(state='in-progress', requested_n_workers=2, master_hostname='fcca81584c9d')\n",
      "Job 84 :  Job(state='in-progress', requested_n_workers=2, master_hostname='69d16b5229b0')\n",
      "Job 85 :  Job(state='in-progress', requested_n_workers=2, master_hostname='69d16b5229b0')\n",
      "Job 86 :  Job(state='in-progress', requested_n_workers=2, master_hostname='e446fe4143ff')\n",
      "Job 87 :  Job(state='in-progress', requested_n_workers=2, master_hostname='e446fe4143ff')\n",
      "\n",
      "\n",
      "------------- Dead Worker Tasks ---------------------\n"
     ]
    }
   ],
   "source": [
    "local_monitoring.print_zoo()"
   ]
  },
  {
   "cell_type": "code",
   "execution_count": 9,
   "id": "cede5a30-7938-495d-a989-297260d32206",
   "metadata": {
    "scrolled": true
   },
   "outputs": [],
   "source": [
    "local_monitoring.print_hdfs('jobs')"
   ]
  },
  {
   "cell_type": "code",
   "execution_count": null,
   "id": "abf7a471-9220-4571-b3f8-deb84e2babd9",
   "metadata": {},
   "outputs": [],
   "source": []
  },
  {
   "cell_type": "code",
   "execution_count": 37,
   "id": "9a9355c6-ff8e-4eeb-a868-1580a63169d4",
   "metadata": {},
   "outputs": [],
   "source": [
    "local_cluster.scale(n_workers=10)"
   ]
  },
  {
   "cell_type": "code",
   "execution_count": null,
   "id": "8b010c93-4f70-4202-93b4-fb7295ce3850",
   "metadata": {},
   "outputs": [],
   "source": []
  },
  {
   "cell_type": "code",
   "execution_count": 21,
   "id": "e8d81aec-9cd2-42e9-901f-ec409ef13283",
   "metadata": {},
   "outputs": [],
   "source": [
    "local_cluster.clear()"
   ]
  },
  {
   "cell_type": "code",
   "execution_count": null,
   "id": "fada6f3a-23fa-49c2-beaa-a48e884f3b2a",
   "metadata": {},
   "outputs": [],
   "source": []
  },
  {
   "cell_type": "code",
   "execution_count": null,
   "id": "82de2c15-6cdb-405f-bf3f-4b0ca65ddaee",
   "metadata": {},
   "outputs": [],
   "source": []
  },
  {
   "cell_type": "code",
   "execution_count": 45,
   "id": "5be1f2c9-384d-4d8e-bad4-4c5f563c36c0",
   "metadata": {
    "scrolled": true
   },
   "outputs": [],
   "source": [
    "local_cluster.shutdown_cluster(cleanup=True)"
   ]
  },
  {
   "cell_type": "code",
   "execution_count": null,
   "id": "f8781cd3-f3dc-4c38-ac77-6b01cb0e2ef9",
   "metadata": {},
   "outputs": [],
   "source": []
  },
  {
   "cell_type": "code",
   "execution_count": null,
   "id": "cc5328eb-8c50-4a9f-8882-0cef29a05246",
   "metadata": {},
   "outputs": [],
   "source": []
  },
  {
   "cell_type": "code",
   "execution_count": null,
   "id": "fa3a7e58-c1b6-47c8-a0c3-3a485d3e4245",
   "metadata": {},
   "outputs": [],
   "source": []
  },
  {
   "cell_type": "code",
   "execution_count": null,
   "id": "8a729f55-c1a4-4245-90ca-68ce85f86fce",
   "metadata": {},
   "outputs": [],
   "source": []
  },
  {
   "cell_type": "code",
   "execution_count": null,
   "id": "343b6075-7c94-42c1-b521-6df22fcd75f3",
   "metadata": {},
   "outputs": [],
   "source": []
  },
  {
   "cell_type": "code",
   "execution_count": null,
   "id": "1a0492c3-1055-489e-98ff-f23aeb9933cf",
   "metadata": {},
   "outputs": [],
   "source": []
  }
 ],
 "metadata": {
  "kernelspec": {
   "display_name": "Python [conda env:mapreduce] *",
   "language": "python",
   "name": "conda-env-mapreduce-py"
  },
  "language_info": {
   "codemirror_mode": {
    "name": "ipython",
    "version": 3
   },
   "file_extension": ".py",
   "mimetype": "text/x-python",
   "name": "python",
   "nbconvert_exporter": "python",
   "pygments_lexer": "ipython3",
   "version": "3.11.3"
  }
 },
 "nbformat": 4,
 "nbformat_minor": 5
}
