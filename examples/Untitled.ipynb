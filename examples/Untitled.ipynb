{
 "cells": [
  {
   "cell_type": "code",
   "execution_count": 6,
   "id": "2c52bed4-3f1c-471d-8700-857f636e6bbb",
   "metadata": {},
   "outputs": [],
   "source": [
    "import requests\n",
    "from concurrent.futures import ThreadPoolExecutor\n",
    "from requests.exceptions import Timeout"
   ]
  },
  {
   "cell_type": "code",
   "execution_count": null,
   "id": "33b88d0f-15c4-4169-b2ec-0f16bec9721a",
   "metadata": {},
   "outputs": [],
   "source": []
  },
  {
   "cell_type": "code",
   "execution_count": null,
   "id": "b5ec0c27-3388-4c82-97fe-793ce40b065c",
   "metadata": {},
   "outputs": [],
   "source": []
  },
  {
   "cell_type": "code",
   "execution_count": 7,
   "id": "ba6b765a-36c0-470d-a832-a2eb8e22f18f",
   "metadata": {},
   "outputs": [],
   "source": [
    "job_id = 'test_job_id'\n",
    "assigned_workers = ['worker1', 'worker2', 'worker3', 'worker4', 'worker5']\n",
    "equal_split_task_ids = [[1, 2], [3, 4], [5, 6], [7, 8], [9, 10]]\n",
    "num_assigned_workers = 5  # Set number of workers"
   ]
  },
  {
   "cell_type": "code",
   "execution_count": 11,
   "id": "0863b86f-90ce-4730-b1e1-376d56c15684",
   "metadata": {},
   "outputs": [],
   "source": [
    "with ThreadPoolExecutor(max_workers=5) as executor:\n",
    "    executor.map(\n",
    "        lambda task_info: requests.post(\n",
    "            f'http://localhost:5000/delay',  # This will delay response by 10 sec\n",
    "            json={'job_id': job_id, 'task_ids': task_info[1]},\n",
    "            timeout=1  # Set timeout to 1 sec\n",
    "        ),\n",
    "        zip(assigned_workers, equal_split_task_ids)\n",
    "    )"
   ]
  },
  {
   "cell_type": "code",
   "execution_count": 17,
   "id": "7b236bc4-37cb-4d70-a471-554e92b19db3",
   "metadata": {},
   "outputs": [
    {
     "name": "stdout",
     "output_type": "stream",
     "text": [
      "Request timed out.\n"
     ]
    }
   ],
   "source": [
    "try:\n",
    "    with ThreadPoolExecutor(max_workers=num_assigned_workers) as executor:\n",
    "        result = list(executor.map(\n",
    "            lambda task_info: requests.post(\n",
    "                f'http://localhost:5000/delay',  # This will delay response by 10 sec\n",
    "                json={'job_id': job_id, 'task_ids': task_info[1]},\n",
    "                timeout=9  # Set a very short timeout\n",
    "            ),\n",
    "            zip(assigned_workers, equal_split_task_ids)\n",
    "        ))\n",
    "except Timeout:\n",
    "    print(\"Request timed out.\")"
   ]
  },
  {
   "cell_type": "code",
   "execution_count": 18,
   "id": "6ed250ee-a02a-4a9e-a149-cd8588cbf011",
   "metadata": {},
   "outputs": [
    {
     "ename": "NameError",
     "evalue": "name 'result' is not defined",
     "output_type": "error",
     "traceback": [
      "\u001b[0;31m---------------------------------------------------------------------------\u001b[0m",
      "\u001b[0;31mNameError\u001b[0m                                 Traceback (most recent call last)",
      "Cell \u001b[0;32mIn[18], line 1\u001b[0m\n\u001b[0;32m----> 1\u001b[0m \u001b[43mresult\u001b[49m\n",
      "\u001b[0;31mNameError\u001b[0m: name 'result' is not defined"
     ]
    }
   ],
   "source": [
    "result"
   ]
  },
  {
   "cell_type": "code",
   "execution_count": null,
   "id": "97c0cecf-1c24-45d3-8b74-8a70c98543e1",
   "metadata": {},
   "outputs": [],
   "source": []
  }
 ],
 "metadata": {
  "kernelspec": {
   "display_name": "Python [conda env:mapreduce] *",
   "language": "python",
   "name": "conda-env-mapreduce-py"
  },
  "language_info": {
   "codemirror_mode": {
    "name": "ipython",
    "version": 3
   },
   "file_extension": ".py",
   "mimetype": "text/x-python",
   "name": "python",
   "nbconvert_exporter": "python",
   "pygments_lexer": "ipython3",
   "version": "3.11.3"
  }
 },
 "nbformat": 4,
 "nbformat_minor": 5
}
