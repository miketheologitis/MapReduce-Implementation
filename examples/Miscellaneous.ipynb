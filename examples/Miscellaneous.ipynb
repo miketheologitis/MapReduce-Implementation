{
 "cells": [
  {
   "cell_type": "markdown",
   "id": "befd5f11-42dd-43c2-8197-ac028273a0b5",
   "metadata": {},
   "source": [
    "## Python implementation of MapReduce"
   ]
  },
  {
   "cell_type": "markdown",
   "id": "dd510c06-6cd4-40dc-ab7d-9b911f26d8ce",
   "metadata": {},
   "source": [
    "The assumption is that the map-reduce functions follow the following:\n",
    "\n",
    "`map([x1, x2, ...]) -> [(k1, v2), (k2, v2), ...]`\n",
    "\n",
    "`reduce([v1, v2, ...]) -> y`\n",
    "\n",
    "where every element is arbitrary (any data structure)"
   ]
  },
  {
   "cell_type": "code",
   "execution_count": null,
   "id": "78bebf6a-eb60-4b3b-a55d-122a86a8992f",
   "metadata": {},
   "outputs": [],
   "source": [
    "from itertools import groupby\n",
    "from operator import itemgetter\n",
    "\n",
    "def mapreduce(data, map_func, reduce_func):\n",
    "\n",
    "    # 1. Map phase\n",
    "    mapped_data = map_func(data)\n",
    "    \n",
    "    # 2. Shuffle phase\n",
    "    mapped_data.sort(key=itemgetter(0))  # Sort input data by key\n",
    "    grouped_data = groupby(mapped_data, key=itemgetter(0))  # Group data by key\n",
    "    \n",
    "    # 3. Reduce\n",
    "    results = [\n",
    "        (key, reduce_func([item[1] for item in group])) \n",
    "        for key, group in grouped_data\n",
    "    ]\n",
    "\n",
    "    return results"
   ]
  },
  {
   "cell_type": "markdown",
   "id": "3751cbd7-e4d2-48d6-b102-099e038da97d",
   "metadata": {},
   "source": [
    "## 1. Count characters in words"
   ]
  },
  {
   "cell_type": "code",
   "execution_count": null,
   "id": "1c6f0b17-34e0-4fea-8784-d1230be64071",
   "metadata": {},
   "outputs": [],
   "source": [
    "data = ['dasdsagf', 'mike', 'george', 'gertretr123', 'dsadsajortriojtiow']\n",
    "\n",
    "def map_func(data):\n",
    "    result = []\n",
    "    for string in data:\n",
    "        for char in string:\n",
    "            result.append((char, 1))\n",
    "    return result\n",
    "\n",
    "def reduce_func(data):\n",
    "    return sum(data)"
   ]
  },
  {
   "cell_type": "code",
   "execution_count": null,
   "id": "3cf74e0d-c920-4129-9e9e-a14bac57fd84",
   "metadata": {},
   "outputs": [],
   "source": [
    "mapreduce(data, map_func, reduce_func)"
   ]
  },
  {
   "cell_type": "markdown",
   "id": "6825f343-7237-4601-a927-3ab167aef218",
   "metadata": {},
   "source": [
    "## 2. Word Co-occurence\n",
    "\n",
    "In this scenario, we want to find out the number of times pairs of words co-occur in the same sentence."
   ]
  },
  {
   "cell_type": "code",
   "execution_count": null,
   "id": "70588aab-892a-4475-ac2c-5ef9a00bec45",
   "metadata": {},
   "outputs": [],
   "source": [
    "data = [\"the quick brown fox jumps over the lazy dog\", \n",
    "        \"the quick blue cat sleeps on the lazy chair\", \n",
    "        \"the quick green bird flies under the lazy cloud\"]\n",
    "\n",
    "def map_func(data):\n",
    "    result = []\n",
    "    for sentence in data:\n",
    "        words = sentence.split()\n",
    "        for i, word_i in enumerate(words):\n",
    "            for j, word_j in enumerate(words[i+i:]):\n",
    "                result.append(\n",
    "                    ((word_i, word_j), 1)\n",
    "                )\n",
    "    return result\n",
    "\n",
    "def reduce_func(data):\n",
    "    return sum(data)"
   ]
  },
  {
   "cell_type": "code",
   "execution_count": null,
   "id": "9f8932d7-e0a0-438d-95c1-98f11df51f76",
   "metadata": {},
   "outputs": [],
   "source": [
    "mapreduce(data, map_func, reduce_func)"
   ]
  },
  {
   "cell_type": "markdown",
   "id": "1f476b2e-fbc8-43a6-a066-f189d4435ee3",
   "metadata": {},
   "source": [
    "## 3. Reverse Web-link Graph\n",
    "\n",
    "This case assumes we have the graph of web pages where each page links to a list of pages. The goal is to create the reverse graph, where for each page we list all pages linking to it."
   ]
  },
  {
   "cell_type": "code",
   "execution_count": null,
   "id": "9592f506-ae9a-40d3-bd3d-8b6e4629c6db",
   "metadata": {},
   "outputs": [],
   "source": [
    "data = [(\"page_A\", [\"page_B\", \"page_C\", \"page_D\"]),\n",
    "        (\"page_B\", [\"page_A\", \"page_E\"]),\n",
    "        (\"page_C\", [\"page_F\", \"page_A\"])]\n",
    "\n",
    "def map_func(data):\n",
    "    result = []\n",
    "    for page, links in data:\n",
    "        for link in links:\n",
    "            result.append((link, page))\n",
    "    return result\n",
    "\n",
    "def reduce_func(data):\n",
    "    return list(data)"
   ]
  },
  {
   "cell_type": "code",
   "execution_count": null,
   "id": "22ec87d6-f731-478a-adcd-a8e4e74c2020",
   "metadata": {},
   "outputs": [],
   "source": [
    "mapreduce(data, map_func, reduce_func)"
   ]
  },
  {
   "cell_type": "markdown",
   "id": "8e338038-1129-4d84-a989-5b992ba55023",
   "metadata": {},
   "source": [
    "## 4. Document Similarity:\n",
    "\n",
    "In this scenario, we compute the similarity between pairs of documents using the Jaccard similarity, which measures the overlap between sets."
   ]
  },
  {
   "cell_type": "code",
   "execution_count": null,
   "id": "30d0f4e3-b756-48cc-a685-5862277249af",
   "metadata": {},
   "outputs": [],
   "source": [
    "data = [(\"doc1\", [\"the\", \"quick\", \"brown\", \"fox\"]),\n",
    "        (\"doc2\", [\"the\", \"lazy\", \"dog\"]),\n",
    "        (\"doc3\", [\"the\", \"quick\", \"blue\", \"cat\"])]\n",
    "\n",
    "def map_func(data):\n",
    "    result = []\n",
    "    for document, words in data:\n",
    "        for word1 in words:\n",
    "            for word2 in words:\n",
    "                if word1 != word2:\n",
    "                    result.append(((word1, word2), 1))\n",
    "    return result\n",
    "\n",
    "def reduce_func(data):\n",
    "    return sum(data)"
   ]
  },
  {
   "cell_type": "code",
   "execution_count": null,
   "id": "750adbdd-d337-46ba-a4bd-4f51f78db4a7",
   "metadata": {
    "scrolled": true
   },
   "outputs": [],
   "source": [
    "mapreduce(data, map_func, reduce_func)"
   ]
  },
  {
   "cell_type": "markdown",
   "id": "54366910-f729-4534-80eb-dc15fd8135f0",
   "metadata": {},
   "source": [
    "## 5. TF-IDF (Term Frequency-Inverse Document Frequency):"
   ]
  },
  {
   "cell_type": "code",
   "execution_count": null,
   "id": "27e614f1-267a-4135-a381-cd3216c2f31f",
   "metadata": {},
   "outputs": [],
   "source": [
    "data = [\n",
    "    (\"doc1\", \"the quick brown fox\"),\n",
    "    (\"doc2\", \"the lazy dog\"),\n",
    "    (\"doc3\", \"the quick blue cat\")\n",
    "]\n",
    "\n",
    "def map_func(data):\n",
    "    result = []\n",
    "    for doc_id, text in data:\n",
    "        words = text.split()\n",
    "        term_freq = {}\n",
    "        for word in words:\n",
    "            term_freq[word] = term_freq.get(word, 0) + 1\n",
    "        result.extend([(word, (doc_id, freq)) for word, freq in term_freq.items()])\n",
    "    return result\n",
    "\n",
    "def reduce_func(data):\n",
    "    doc_counts = len(data)\n",
    "    result = []\n",
    "    for doc_id, freq in data:\n",
    "        result.append((doc_id, freq * (1 / doc_counts)))\n",
    "    return result"
   ]
  },
  {
   "cell_type": "code",
   "execution_count": null,
   "id": "0855c870-7908-474b-9170-2c8c78d07957",
   "metadata": {},
   "outputs": [],
   "source": [
    "mapreduce(data, map_func, reduce_func)"
   ]
  },
  {
   "cell_type": "markdown",
   "id": "5cbc915e-1d38-4aac-a4ab-4ad2b0101559",
   "metadata": {},
   "source": [
    "## 6. Distributed Sort"
   ]
  },
  {
   "cell_type": "code",
   "execution_count": null,
   "id": "0b2285f6-2cb8-43fe-8d16-3aefe7f4d27b",
   "metadata": {},
   "outputs": [],
   "source": [
    "data = [ \n",
    "    \"record_10\", \"record_2\", \"record_3\", \"record_13\",\n",
    "    \"record_1\", \"record_32\", \"record_14\", \"record_18\", \n",
    "    \"record_8\", \"record_4\", \"record_12\", \"record_19\",\n",
    "    \"record_13\", \"record_33\", \"record_5\", \"record_9\",\n",
    "]\n",
    "\n",
    "def map_func(data):\n",
    "    result = []\n",
    "    \n",
    "    for record in data:\n",
    "        _, key = record.split(\"_\")\n",
    "        result.append((int(key), record))\n",
    "    \n",
    "    return result\n",
    "\n",
    "def reduce_func(data):\n",
    "    return data[0]"
   ]
  },
  {
   "cell_type": "code",
   "execution_count": null,
   "id": "8d95e62e-21df-4988-b21f-14b9e171ed23",
   "metadata": {},
   "outputs": [],
   "source": [
    "mapreduce(data, map_func, reduce_func)"
   ]
  }
 ],
 "metadata": {
  "kernelspec": {
   "display_name": "Python [conda env:mapreduce] *",
   "language": "python",
   "name": "conda-env-mapreduce-py"
  },
  "language_info": {
   "codemirror_mode": {
    "name": "ipython",
    "version": 3
   },
   "file_extension": ".py",
   "mimetype": "text/x-python",
   "name": "python",
   "nbconvert_exporter": "python",
   "pygments_lexer": "ipython3",
   "version": "3.11.3"
  }
 },
 "nbformat": 4,
 "nbformat_minor": 5
}
