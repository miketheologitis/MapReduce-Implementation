{
 "cells": [
  {
   "cell_type": "markdown",
   "id": "befd5f11-42dd-43c2-8197-ac028273a0b5",
   "metadata": {},
   "source": [
    "## Python implementation of MapReduce"
   ]
  },
  {
   "cell_type": "markdown",
   "id": "dd510c06-6cd4-40dc-ab7d-9b911f26d8ce",
   "metadata": {},
   "source": [
    "The assumption is that the map-reduce functions follow the following:\n",
    "\n",
    "`map([x1, x2, ...]) -> [(k1, v2), (k2, v2), ...]`\n",
    "\n",
    "`reduce([v1, v2, ...]) -> y`\n",
    "\n",
    "where every element is arbitrary (any data structure)"
   ]
  },
  {
   "cell_type": "code",
   "execution_count": 1,
   "id": "78bebf6a-eb60-4b3b-a55d-122a86a8992f",
   "metadata": {},
   "outputs": [],
   "source": [
    "from itertools import groupby\n",
    "from operator import itemgetter\n",
    "\n",
    "def mapreduce(data, map_func, reduce_func):\n",
    "\n",
    "    # 1. Map phase\n",
    "    mapped_data = map_func(data)\n",
    "    \n",
    "    # 2. Shuffle phase\n",
    "    mapped_data.sort(key=itemgetter(0))  # Sort input data by key\n",
    "    grouped_data = groupby(mapped_data, key=itemgetter(0))  # Group data by key\n",
    "    \n",
    "    # 3. Reduce\n",
    "    results = [\n",
    "        (key, reduce_func([item[1] for item in group])) \n",
    "        for key, group in grouped_data\n",
    "    ]\n",
    "\n",
    "    return results"
   ]
  },
  {
   "cell_type": "markdown",
   "id": "3751cbd7-e4d2-48d6-b102-099e038da97d",
   "metadata": {},
   "source": [
    "## 1. Count characters in words"
   ]
  },
  {
   "cell_type": "code",
   "execution_count": 2,
   "id": "1c6f0b17-34e0-4fea-8784-d1230be64071",
   "metadata": {},
   "outputs": [],
   "source": [
    "data = ['dasdsagf', 'mike', 'george', 'gertretr123', 'dsadsajortriojtiow']\n",
    "\n",
    "def map_func(data):\n",
    "    result = []\n",
    "    for string in data:\n",
    "        for char in string:\n",
    "            result.append((char, 1))\n",
    "    return result\n",
    "\n",
    "def reduce_func(data):\n",
    "    return sum(data)"
   ]
  },
  {
   "cell_type": "code",
   "execution_count": 3,
   "id": "3cf74e0d-c920-4129-9e9e-a14bac57fd84",
   "metadata": {},
   "outputs": [
    {
     "data": {
      "text/plain": [
       "[('1', 1),\n",
       " ('2', 1),\n",
       " ('3', 1),\n",
       " ('a', 4),\n",
       " ('d', 4),\n",
       " ('e', 5),\n",
       " ('f', 1),\n",
       " ('g', 4),\n",
       " ('i', 3),\n",
       " ('j', 2),\n",
       " ('k', 1),\n",
       " ('m', 1),\n",
       " ('o', 4),\n",
       " ('r', 6),\n",
       " ('s', 4),\n",
       " ('t', 4),\n",
       " ('w', 1)]"
      ]
     },
     "execution_count": 3,
     "metadata": {},
     "output_type": "execute_result"
    }
   ],
   "source": [
    "mapreduce(data, map_func, reduce_func)"
   ]
  },
  {
   "cell_type": "markdown",
   "id": "6825f343-7237-4601-a927-3ab167aef218",
   "metadata": {},
   "source": [
    "## 2. Word Co-occurence\n",
    "\n",
    "In this scenario, we want to find out the number of times pairs of words co-occur in the same sentence."
   ]
  },
  {
   "cell_type": "code",
   "execution_count": 4,
   "id": "70588aab-892a-4475-ac2c-5ef9a00bec45",
   "metadata": {},
   "outputs": [],
   "source": [
    "data = [\"the quick brown fox jumps over the lazy dog\", \n",
    "        \"the quick blue cat sleeps on the lazy chair\", \n",
    "        \"the quick green bird flies under the lazy cloud\"]\n",
    "\n",
    "def map_func(data):\n",
    "    result = []\n",
    "    for sentence in data:\n",
    "        words = sentence.split()\n",
    "        for i, word_i in enumerate(words):\n",
    "            for j, word_j in enumerate(words[i+i:]):\n",
    "                result.append(\n",
    "                    ((word_i, word_j), 1)\n",
    "                )\n",
    "    return result\n",
    "\n",
    "def reduce_func(data):\n",
    "    return sum(data)"
   ]
  },
  {
   "cell_type": "code",
   "execution_count": 5,
   "id": "9f8932d7-e0a0-438d-95c1-98f11df51f76",
   "metadata": {},
   "outputs": [
    {
     "data": {
      "text/plain": [
       "[(('bird', 'cloud'), 1),\n",
       " (('bird', 'lazy'), 1),\n",
       " (('bird', 'the'), 1),\n",
       " (('blue', 'chair'), 1),\n",
       " (('blue', 'lazy'), 1),\n",
       " (('blue', 'on'), 1),\n",
       " (('blue', 'sleeps'), 1),\n",
       " (('blue', 'the'), 1),\n",
       " (('brown', 'dog'), 1),\n",
       " (('brown', 'jumps'), 1),\n",
       " (('brown', 'lazy'), 1),\n",
       " (('brown', 'over'), 1),\n",
       " (('brown', 'the'), 1),\n",
       " (('cat', 'chair'), 1),\n",
       " (('cat', 'lazy'), 1),\n",
       " (('cat', 'the'), 1),\n",
       " (('flies', 'cloud'), 1),\n",
       " (('fox', 'dog'), 1),\n",
       " (('fox', 'lazy'), 1),\n",
       " (('fox', 'the'), 1),\n",
       " (('green', 'cloud'), 1),\n",
       " (('green', 'flies'), 1),\n",
       " (('green', 'lazy'), 1),\n",
       " (('green', 'the'), 1),\n",
       " (('green', 'under'), 1),\n",
       " (('jumps', 'dog'), 1),\n",
       " (('quick', 'bird'), 1),\n",
       " (('quick', 'blue'), 1),\n",
       " (('quick', 'brown'), 1),\n",
       " (('quick', 'cat'), 1),\n",
       " (('quick', 'chair'), 1),\n",
       " (('quick', 'cloud'), 1),\n",
       " (('quick', 'dog'), 1),\n",
       " (('quick', 'flies'), 1),\n",
       " (('quick', 'fox'), 1),\n",
       " (('quick', 'green'), 1),\n",
       " (('quick', 'jumps'), 1),\n",
       " (('quick', 'lazy'), 3),\n",
       " (('quick', 'on'), 1),\n",
       " (('quick', 'over'), 1),\n",
       " (('quick', 'sleeps'), 1),\n",
       " (('quick', 'the'), 3),\n",
       " (('quick', 'under'), 1),\n",
       " (('sleeps', 'chair'), 1),\n",
       " (('the', 'bird'), 1),\n",
       " (('the', 'blue'), 1),\n",
       " (('the', 'brown'), 1),\n",
       " (('the', 'cat'), 1),\n",
       " (('the', 'chair'), 1),\n",
       " (('the', 'cloud'), 1),\n",
       " (('the', 'dog'), 1),\n",
       " (('the', 'flies'), 1),\n",
       " (('the', 'fox'), 1),\n",
       " (('the', 'green'), 1),\n",
       " (('the', 'jumps'), 1),\n",
       " (('the', 'lazy'), 3),\n",
       " (('the', 'on'), 1),\n",
       " (('the', 'over'), 1),\n",
       " (('the', 'quick'), 3),\n",
       " (('the', 'sleeps'), 1),\n",
       " (('the', 'the'), 6),\n",
       " (('the', 'under'), 1)]"
      ]
     },
     "execution_count": 5,
     "metadata": {},
     "output_type": "execute_result"
    }
   ],
   "source": [
    "mapreduce(data, map_func, reduce_func)"
   ]
  },
  {
   "cell_type": "markdown",
   "id": "1f476b2e-fbc8-43a6-a066-f189d4435ee3",
   "metadata": {},
   "source": [
    "## 3. Reverse Web-link Graph\n",
    "\n",
    "This case assumes we have the graph of web pages where each page links to a list of pages. The goal is to create the reverse graph, where for each page we list all pages linking to it."
   ]
  },
  {
   "cell_type": "code",
   "execution_count": 6,
   "id": "9592f506-ae9a-40d3-bd3d-8b6e4629c6db",
   "metadata": {},
   "outputs": [],
   "source": [
    "data = [(\"page_A\", [\"page_B\", \"page_C\", \"page_D\"]),\n",
    "        (\"page_B\", [\"page_A\", \"page_E\"]),\n",
    "        (\"page_C\", [\"page_F\", \"page_A\"])]\n",
    "\n",
    "def map_func(data):\n",
    "    result = []\n",
    "    for page, links in data:\n",
    "        for link in links:\n",
    "            result.append((link, page))\n",
    "    return result\n",
    "\n",
    "def reduce_func(data):\n",
    "    return list(data)"
   ]
  },
  {
   "cell_type": "code",
   "execution_count": 7,
   "id": "22ec87d6-f731-478a-adcd-a8e4e74c2020",
   "metadata": {},
   "outputs": [
    {
     "data": {
      "text/plain": [
       "[('page_A', ['page_B', 'page_C']),\n",
       " ('page_B', ['page_A']),\n",
       " ('page_C', ['page_A']),\n",
       " ('page_D', ['page_A']),\n",
       " ('page_E', ['page_B']),\n",
       " ('page_F', ['page_C'])]"
      ]
     },
     "execution_count": 7,
     "metadata": {},
     "output_type": "execute_result"
    }
   ],
   "source": [
    "mapreduce(data, map_func, reduce_func)"
   ]
  },
  {
   "cell_type": "markdown",
   "id": "8e338038-1129-4d84-a989-5b992ba55023",
   "metadata": {},
   "source": [
    "## 4. Document Similarity:\n",
    "\n",
    "In this scenario, we compute the similarity between pairs of documents using the Jaccard similarity, which measures the overlap between sets."
   ]
  },
  {
   "cell_type": "code",
   "execution_count": 8,
   "id": "30d0f4e3-b756-48cc-a685-5862277249af",
   "metadata": {},
   "outputs": [],
   "source": [
    "data = [(\"doc1\", [\"the\", \"quick\", \"brown\", \"fox\"]),\n",
    "        (\"doc2\", [\"the\", \"lazy\", \"dog\"]),\n",
    "        (\"doc3\", [\"the\", \"quick\", \"blue\", \"cat\"])]\n",
    "\n",
    "def map_func(data):\n",
    "    result = []\n",
    "    for document, words in data:\n",
    "        for word1 in words:\n",
    "            for word2 in words:\n",
    "                if word1 != word2:\n",
    "                    result.append(((word1, word2), 1))\n",
    "    return result\n",
    "\n",
    "def reduce_func(data):\n",
    "    return sum(data)"
   ]
  },
  {
   "cell_type": "code",
   "execution_count": 9,
   "id": "750adbdd-d337-46ba-a4bd-4f51f78db4a7",
   "metadata": {
    "scrolled": true
   },
   "outputs": [
    {
     "data": {
      "text/plain": [
       "[(('blue', 'cat'), 1),\n",
       " (('blue', 'quick'), 1),\n",
       " (('blue', 'the'), 1),\n",
       " (('brown', 'fox'), 1),\n",
       " (('brown', 'quick'), 1),\n",
       " (('brown', 'the'), 1),\n",
       " (('cat', 'blue'), 1),\n",
       " (('cat', 'quick'), 1),\n",
       " (('cat', 'the'), 1),\n",
       " (('dog', 'lazy'), 1),\n",
       " (('dog', 'the'), 1),\n",
       " (('fox', 'brown'), 1),\n",
       " (('fox', 'quick'), 1),\n",
       " (('fox', 'the'), 1),\n",
       " (('lazy', 'dog'), 1),\n",
       " (('lazy', 'the'), 1),\n",
       " (('quick', 'blue'), 1),\n",
       " (('quick', 'brown'), 1),\n",
       " (('quick', 'cat'), 1),\n",
       " (('quick', 'fox'), 1),\n",
       " (('quick', 'the'), 2),\n",
       " (('the', 'blue'), 1),\n",
       " (('the', 'brown'), 1),\n",
       " (('the', 'cat'), 1),\n",
       " (('the', 'dog'), 1),\n",
       " (('the', 'fox'), 1),\n",
       " (('the', 'lazy'), 1),\n",
       " (('the', 'quick'), 2)]"
      ]
     },
     "execution_count": 9,
     "metadata": {},
     "output_type": "execute_result"
    }
   ],
   "source": [
    "mapreduce(data, map_func, reduce_func)"
   ]
  },
  {
   "cell_type": "markdown",
   "id": "54366910-f729-4534-80eb-dc15fd8135f0",
   "metadata": {},
   "source": [
    "## 5. TF-IDF (Term Frequency-Inverse Document Frequency):"
   ]
  },
  {
   "cell_type": "code",
   "execution_count": 10,
   "id": "27e614f1-267a-4135-a381-cd3216c2f31f",
   "metadata": {},
   "outputs": [],
   "source": [
    "data = [\n",
    "    (\"doc1\", \"the quick brown fox\"),\n",
    "    (\"doc2\", \"the lazy dog\"),\n",
    "    (\"doc3\", \"the quick blue cat\")\n",
    "]\n",
    "\n",
    "def map_func(data):\n",
    "    result = []\n",
    "    for doc_id, text in data:\n",
    "        words = text.split()\n",
    "        term_freq = {}\n",
    "        for word in words:\n",
    "            term_freq[word] = term_freq.get(word, 0) + 1\n",
    "        result.extend([(word, (doc_id, freq)) for word, freq in term_freq.items()])\n",
    "    return result\n",
    "\n",
    "def reduce_func(data):\n",
    "    doc_counts = len(data)\n",
    "    result = []\n",
    "    for doc_id, freq in data:\n",
    "        result.append((doc_id, freq * (1 / doc_counts)))\n",
    "    return result"
   ]
  },
  {
   "cell_type": "code",
   "execution_count": 11,
   "id": "0855c870-7908-474b-9170-2c8c78d07957",
   "metadata": {},
   "outputs": [
    {
     "data": {
      "text/plain": [
       "[('blue', [('doc3', 1.0)]),\n",
       " ('brown', [('doc1', 1.0)]),\n",
       " ('cat', [('doc3', 1.0)]),\n",
       " ('dog', [('doc2', 1.0)]),\n",
       " ('fox', [('doc1', 1.0)]),\n",
       " ('lazy', [('doc2', 1.0)]),\n",
       " ('quick', [('doc1', 0.5), ('doc3', 0.5)]),\n",
       " ('the',\n",
       "  [('doc1', 0.3333333333333333),\n",
       "   ('doc2', 0.3333333333333333),\n",
       "   ('doc3', 0.3333333333333333)])]"
      ]
     },
     "execution_count": 11,
     "metadata": {},
     "output_type": "execute_result"
    }
   ],
   "source": [
    "mapreduce(data, map_func, reduce_func)"
   ]
  },
  {
   "cell_type": "markdown",
   "id": "5cbc915e-1d38-4aac-a4ab-4ad2b0101559",
   "metadata": {},
   "source": [
    "## 6. Distributed Sort"
   ]
  },
  {
   "cell_type": "code",
   "execution_count": 12,
   "id": "0b2285f6-2cb8-43fe-8d16-3aefe7f4d27b",
   "metadata": {},
   "outputs": [],
   "source": [
    "data = [ \n",
    "    \"record_10\", \"record_2\", \"record_3\", \"record_13\",\n",
    "    \"record_1\", \"record_32\", \"record_14\", \"record_18\", \n",
    "    \"record_8\", \"record_4\", \"record_12\", \"record_19\",\n",
    "    \"record_13\", \"record_33\", \"record_5\", \"record_9\",\n",
    "]\n",
    "\n",
    "def map_func(data):\n",
    "    result = []\n",
    "    \n",
    "    for record in data:\n",
    "        _, key = record.split(\"_\")\n",
    "        result.append((int(key), record))\n",
    "    \n",
    "    return result\n",
    "\n",
    "def reduce_func(data):\n",
    "    return data[0]"
   ]
  },
  {
   "cell_type": "code",
   "execution_count": 13,
   "id": "8d95e62e-21df-4988-b21f-14b9e171ed23",
   "metadata": {},
   "outputs": [
    {
     "data": {
      "text/plain": [
       "[(1, 'record_1'),\n",
       " (2, 'record_2'),\n",
       " (3, 'record_3'),\n",
       " (4, 'record_4'),\n",
       " (5, 'record_5'),\n",
       " (8, 'record_8'),\n",
       " (9, 'record_9'),\n",
       " (10, 'record_10'),\n",
       " (12, 'record_12'),\n",
       " (13, 'record_13'),\n",
       " (14, 'record_14'),\n",
       " (18, 'record_18'),\n",
       " (19, 'record_19'),\n",
       " (32, 'record_32'),\n",
       " (33, 'record_33')]"
      ]
     },
     "execution_count": 13,
     "metadata": {},
     "output_type": "execute_result"
    }
   ],
   "source": [
    "mapreduce(data, map_func, reduce_func)"
   ]
  }
 ],
 "metadata": {
  "kernelspec": {
   "display_name": "Python [conda env:mapreduce]",
   "language": "python",
   "name": "conda-env-mapreduce-py"
  },
  "language_info": {
   "codemirror_mode": {
    "name": "ipython",
    "version": 3
   },
   "file_extension": ".py",
   "mimetype": "text/x-python",
   "name": "python",
   "nbconvert_exporter": "python",
   "pygments_lexer": "ipython3",
   "version": "3.11.3"
  }
 },
 "nbformat": 4,
 "nbformat_minor": 5
}
